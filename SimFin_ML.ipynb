{
  "nbformat": 4,
  "nbformat_minor": 0,
  "metadata": {
    "colab": {
      "name": "SimFin_ML.ipynb",
      "provenance": [],
      "collapsed_sections": [],
      "machine_shape": "hm"
    },
    "kernelspec": {
      "name": "python3",
      "display_name": "Python 3"
    },
    "language_info": {
      "name": "python"
    }
  },
  "cells": [
    {
      "cell_type": "markdown",
      "metadata": {
        "id": "qz1HfxFL_uVU"
      },
      "source": [
        "## **Installs**"
      ]
    },
    {
      "cell_type": "code",
      "metadata": {
        "colab": {
          "base_uri": "https://localhost:8080/"
        },
        "id": "UChrWcf25NsQ",
        "outputId": "bb642a3e-2dff-49e2-d794-e97fe68e9f92"
      },
      "source": [
        "!pip install simfin"
      ],
      "execution_count": 1,
      "outputs": [
        {
          "output_type": "stream",
          "text": [
            "Collecting simfin\n",
            "  Downloading simfin-0.8.1-py3-none-any.whl (60 kB)\n",
            "\u001b[?25l\r\u001b[K     |█████▍                          | 10 kB 25.4 MB/s eta 0:00:01\r\u001b[K     |██████████▉                     | 20 kB 9.6 MB/s eta 0:00:01\r\u001b[K     |████████████████▎               | 30 kB 8.2 MB/s eta 0:00:01\r\u001b[K     |█████████████████████▊          | 40 kB 7.6 MB/s eta 0:00:01\r\u001b[K     |███████████████████████████▏    | 51 kB 4.1 MB/s eta 0:00:01\r\u001b[K     |████████████████████████████████| 60 kB 2.9 MB/s \n",
            "\u001b[?25hRequirement already satisfied: requests in /usr/local/lib/python3.7/dist-packages (from simfin) (2.23.0)\n",
            "Requirement already satisfied: pandas in /usr/local/lib/python3.7/dist-packages (from simfin) (1.1.5)\n",
            "Requirement already satisfied: numpy in /usr/local/lib/python3.7/dist-packages (from simfin) (1.19.5)\n",
            "Requirement already satisfied: python-dateutil>=2.7.3 in /usr/local/lib/python3.7/dist-packages (from pandas->simfin) (2.8.1)\n",
            "Requirement already satisfied: pytz>=2017.2 in /usr/local/lib/python3.7/dist-packages (from pandas->simfin) (2018.9)\n",
            "Requirement already satisfied: six>=1.5 in /usr/local/lib/python3.7/dist-packages (from python-dateutil>=2.7.3->pandas->simfin) (1.15.0)\n",
            "Requirement already satisfied: urllib3!=1.25.0,!=1.25.1,<1.26,>=1.21.1 in /usr/local/lib/python3.7/dist-packages (from requests->simfin) (1.24.3)\n",
            "Requirement already satisfied: certifi>=2017.4.17 in /usr/local/lib/python3.7/dist-packages (from requests->simfin) (2021.5.30)\n",
            "Requirement already satisfied: idna<3,>=2.5 in /usr/local/lib/python3.7/dist-packages (from requests->simfin) (2.10)\n",
            "Requirement already satisfied: chardet<4,>=3.0.2 in /usr/local/lib/python3.7/dist-packages (from requests->simfin) (3.0.4)\n",
            "Installing collected packages: simfin\n",
            "Successfully installed simfin-0.8.1\n"
          ],
          "name": "stdout"
        }
      ]
    },
    {
      "cell_type": "markdown",
      "metadata": {
        "id": "AUiFgrt3AJQs"
      },
      "source": [
        "# **Imports**"
      ]
    },
    {
      "cell_type": "code",
      "metadata": {
        "id": "bL5JDkXC__N4"
      },
      "source": [
        "%matplotlib inline\n",
        "import pandas as pd\n",
        "import numpy as np\n",
        "import seaborn as sns\n",
        "\n",
        "# Scikit-learn imports.\n",
        "from sklearn.ensemble import RandomForestRegressor\n",
        "from sklearn.ensemble import RandomForestClassifier\n",
        "from sklearn.model_selection import train_test_split\n",
        "from sklearn.tree import export_text\n",
        "from sklearn.metrics import confusion_matrix\n",
        "from sklearn.metrics import r2_score, accuracy_score\n",
        "\n",
        "# Import the main functionality from the SimFin Python API.\n",
        "import simfin as sf\n",
        "\n",
        "# Import names used for easy access to SimFin's data-columns.\n",
        "from simfin.names import *"
      ],
      "execution_count": 2,
      "outputs": []
    },
    {
      "cell_type": "code",
      "metadata": {
        "colab": {
          "base_uri": "https://localhost:8080/",
          "height": 35
        },
        "id": "VtoQk3Me5XD_",
        "outputId": "da8f523e-c11a-4c50-af3e-3dfc4cc4c0be"
      },
      "source": [
        "# Version of the SimFin Python API.\n",
        "sf.__version__"
      ],
      "execution_count": 3,
      "outputs": [
        {
          "output_type": "execute_result",
          "data": {
            "application/vnd.google.colaboratory.intrinsic+json": {
              "type": "string"
            },
            "text/plain": [
              "'0.8.1'"
            ]
          },
          "metadata": {
            "tags": []
          },
          "execution_count": 3
        }
      ]
    },
    {
      "cell_type": "markdown",
      "metadata": {
        "id": "sxLqZxpdAWap"
      },
      "source": [
        "## **SimFin Config**"
      ]
    },
    {
      "cell_type": "code",
      "metadata": {
        "id": "pOwR9-n25jvb"
      },
      "source": [
        "# SimFin data-directory.\n",
        "sf.set_data_dir('~/simfin_data/')"
      ],
      "execution_count": 4,
      "outputs": []
    },
    {
      "cell_type": "code",
      "metadata": {
        "id": "Xf6dqg5l5nAa"
      },
      "source": [
        "# SimFin load API key or use free data.\n",
        "sf.load_api_key(path='~/simfin_api_key.txt', default_key='free')"
      ],
      "execution_count": 5,
      "outputs": []
    },
    {
      "cell_type": "code",
      "metadata": {
        "id": "unLlSGEn50Or"
      },
      "source": [
        "# Seaborn set plotting style.\n",
        "sns.set_style(\"whitegrid\")"
      ],
      "execution_count": 6,
      "outputs": []
    },
    {
      "cell_type": "markdown",
      "metadata": {
        "id": "szpMlr0rApw5"
      },
      "source": [
        "## **Data Hub**"
      ]
    },
    {
      "cell_type": "code",
      "metadata": {
        "id": "Ojc9D2x155Em"
      },
      "source": [
        "# We are interested in the US stock-market.\n",
        "market = 'us'\n",
        "\n",
        "# Add this date-offset to the fundamental data such as\n",
        "# Income Statements etc., because the REPORT_DATE is not\n",
        "# when it was actually made available to the public,\n",
        "# which can be 1, 2 or even 3 months after the Report Date.\n",
        "offset = pd.DateOffset(days=60)\n",
        "\n",
        "# Refresh the fundamental datasets (Income Statements etc.)\n",
        "# every 30 days.\n",
        "refresh_days = 30\n",
        "\n",
        "# Refresh the dataset with shareprices every 10 days.\n",
        "refresh_days_shareprices = 10"
      ],
      "execution_count": 7,
      "outputs": []
    },
    {
      "cell_type": "code",
      "metadata": {
        "colab": {
          "base_uri": "https://localhost:8080/"
        },
        "id": "201Ht0pW6Alo",
        "outputId": "8cfd5500-172e-4a47-dedd-110a25c57ddb"
      },
      "source": [
        "%%time\n",
        "hub = sf.StockHub(market=market, offset=offset,\n",
        "                  refresh_days=refresh_days,\n",
        "                  refresh_days_shareprices=refresh_days_shareprices)"
      ],
      "execution_count": 8,
      "outputs": [
        {
          "output_type": "stream",
          "text": [
            "CPU times: user 10 µs, sys: 5 µs, total: 15 µs\n",
            "Wall time: 17.9 µs\n"
          ],
          "name": "stdout"
        }
      ]
    },
    {
      "cell_type": "markdown",
      "metadata": {
        "id": "FcZGYrg4A6vr"
      },
      "source": [
        "## **Signals**\n",
        "\n",
        "First we calculate financial signals for the stocks, such as the Current Ratio, Debt Ratio, Net Profit Margin, Return on Assets, etc. These are calculated using data from the financial reports: Income Statements, Balance Sheets and Cash-Flow Statements, which are automatically downloaded and loaded by the data-hub."
      ]
    },
    {
      "cell_type": "code",
      "metadata": {
        "colab": {
          "base_uri": "https://localhost:8080/"
        },
        "id": "wTYLhOlQ6Ek4",
        "outputId": "97726ee6-5265-4808-d9a8-2189a6de2f6c"
      },
      "source": [
        "%%time\n",
        "df_fin_signals = hub.fin_signals(variant='daily')"
      ],
      "execution_count": 9,
      "outputs": [
        {
          "output_type": "stream",
          "text": [
            "Dataset \"us-income-ttm\" not on disk.\n",
            "- Downloading ... 100.0%\n",
            "- Extracting zip-file ... Done!\n",
            "- Loading from disk ... Done!\n",
            "Dataset \"us-balance-ttm\" not on disk.\n",
            "- Downloading ... 100.0%\n",
            "- Extracting zip-file ... Done!\n",
            "- Loading from disk ... Done!\n",
            "Dataset \"us-cashflow-ttm\" not on disk.\n",
            "- Downloading ... 100.0%\n",
            "- Extracting zip-file ... Done!\n",
            "- Loading from disk ... Done!\n",
            "Dataset \"us-shareprices-daily\" not on disk.\n",
            "- Downloading ... 100.0%\n",
            "- Extracting zip-file ... Done!\n",
            "- Loading from disk ... Done!\n",
            "Cache-file 'fin_signals-2a38bb7d.pickle' not on disk.\n",
            "- Running function fin_signals() ... "
          ],
          "name": "stdout"
        },
        {
          "output_type": "stream",
          "text": [
            "/usr/local/lib/python3.7/dist-packages/pandas/core/series.py:726: RuntimeWarning: divide by zero encountered in log10\n",
            "  result = getattr(ufunc, method)(*inputs, **kwargs)\n",
            "/usr/local/lib/python3.7/dist-packages/pandas/core/series.py:726: RuntimeWarning: invalid value encountered in log10\n",
            "  result = getattr(ufunc, method)(*inputs, **kwargs)\n"
          ],
          "name": "stderr"
        },
        {
          "output_type": "stream",
          "text": [
            "Done!\n",
            "- Saving cache-file to disk ... Done!\n",
            "CPU times: user 3min 3s, sys: 14.1 s, total: 3min 17s\n",
            "Wall time: 3min 30s\n"
          ],
          "name": "stdout"
        }
      ]
    },
    {
      "cell_type": "markdown",
      "metadata": {
        "id": "XoSSn-jmE2dn"
      },
      "source": [
        "Now we calculate growth signals for the stocks, such as Earnings Growth, FCF Growth, Sales Growth, etc. These are also calculated using data from the financial reports: Income Statements, Balance Sheets and Cash-Flow Statements, which are automatically downloaded and loaded by the data-hub."
      ]
    },
    {
      "cell_type": "code",
      "metadata": {
        "colab": {
          "base_uri": "https://localhost:8080/"
        },
        "id": "kD0nhC4D6MaL",
        "outputId": "71993b13-3f6c-45ef-c232-9c98d16a8239"
      },
      "source": [
        "%%time\n",
        "df_growth_signals = hub.growth_signals(variant='daily')"
      ],
      "execution_count": 10,
      "outputs": [
        {
          "output_type": "stream",
          "text": [
            "Dataset \"us-income-quarterly\" not on disk.\n",
            "- Downloading ... 100.0%\n",
            "- Extracting zip-file ... Done!\n",
            "- Loading from disk ... Done!\n",
            "Dataset \"us-balance-quarterly\" not on disk.\n",
            "- Downloading ... 100.0%\n",
            "- Extracting zip-file ... Done!\n",
            "- Loading from disk ... Done!\n",
            "Dataset \"us-cashflow-quarterly\" not on disk.\n",
            "- Downloading ... 100.0%\n",
            "- Extracting zip-file ... Done!\n",
            "- Loading from disk ... Done!\n",
            "Cache-file 'growth_signals-2a38bb7d.pickle' not on disk.\n",
            "- Running function growth_signals() ... Done!\n",
            "- Saving cache-file to disk ... Done!\n",
            "CPU times: user 1min 38s, sys: 7.03 s, total: 1min 45s\n",
            "Wall time: 1min 55s\n"
          ],
          "name": "stdout"
        }
      ]
    },
    {
      "cell_type": "markdown",
      "metadata": {
        "id": "FkejVz9mFZ8C"
      },
      "source": [
        "Now we calculate valuation signals for the stocks, such as P/E, P/Sales, etc. These are calculated from the share-prices and data from the financial reports. Because the data-hub has already loaded the required datasets in the function-calls above, the data is merely reused here, and the data-hub can proceed directly to computing the signals."
      ]
    },
    {
      "cell_type": "code",
      "metadata": {
        "colab": {
          "base_uri": "https://localhost:8080/"
        },
        "id": "RA1M5lJu7LIF",
        "outputId": "08586819-829b-487f-ad46-61a7e50abcd7"
      },
      "source": [
        "%%time\n",
        "df_val_signals = hub.val_signals(variant='daily')"
      ],
      "execution_count": 11,
      "outputs": [
        {
          "output_type": "stream",
          "text": [
            "Cache-file 'val_signals-739b68a6.pickle' not on disk.\n",
            "- Running function val_signals() ... Done!\n",
            "- Saving cache-file to disk ... Done!\n",
            "CPU times: user 2min 28s, sys: 4.89 s, total: 2min 32s\n",
            "Wall time: 2min 31s\n"
          ],
          "name": "stdout"
        }
      ]
    },
    {
      "cell_type": "markdown",
      "metadata": {
        "id": "uecErDWIFe9Y"
      },
      "source": [
        "We now combine all the signals into a single DataFrame:"
      ]
    },
    {
      "cell_type": "code",
      "metadata": {
        "colab": {
          "base_uri": "https://localhost:8080/"
        },
        "id": "OQ1rMusl8hdv",
        "outputId": "af462013-9244-4d6a-dcca-d5c2147c9faf"
      },
      "source": [
        "%%time\n",
        "# Combine the DataFrames.\n",
        "dfs = [df_fin_signals, df_growth_signals, df_val_signals]\n",
        "df_signals = pd.concat(dfs, axis=1)"
      ],
      "execution_count": 67,
      "outputs": [
        {
          "output_type": "stream",
          "text": [
            "CPU times: user 6.05 s, sys: 2.59 s, total: 8.64 s\n",
            "Wall time: 8.6 s\n"
          ],
          "name": "stdout"
        }
      ]
    },
    {
      "cell_type": "code",
      "metadata": {
        "colab": {
          "base_uri": "https://localhost:8080/",
          "height": 408
        },
        "id": "uaej9SVv-C-H",
        "outputId": "2e01b701-3d05-4e44-ba5b-cd5a926990b6"
      },
      "source": [
        "df_signals.dropna(how='all').tail()"
      ],
      "execution_count": 13,
      "outputs": [
        {
          "output_type": "execute_result",
          "data": {
            "text/html": [
              "<div>\n",
              "<style scoped>\n",
              "    .dataframe tbody tr th:only-of-type {\n",
              "        vertical-align: middle;\n",
              "    }\n",
              "\n",
              "    .dataframe tbody tr th {\n",
              "        vertical-align: top;\n",
              "    }\n",
              "\n",
              "    .dataframe thead th {\n",
              "        text-align: right;\n",
              "    }\n",
              "</style>\n",
              "<table border=\"1\" class=\"dataframe\">\n",
              "  <thead>\n",
              "    <tr style=\"text-align: right;\">\n",
              "      <th></th>\n",
              "      <th></th>\n",
              "      <th>(Dividends + Share Buyback) / FCF</th>\n",
              "      <th>Asset Turnover</th>\n",
              "      <th>CapEx / (Depr + Amor)</th>\n",
              "      <th>Current Ratio</th>\n",
              "      <th>Debt Ratio</th>\n",
              "      <th>Dividends / FCF</th>\n",
              "      <th>Gross Profit Margin</th>\n",
              "      <th>Interest Coverage</th>\n",
              "      <th>Inventory Turnover</th>\n",
              "      <th>Log Revenue</th>\n",
              "      <th>Net Acquisitions / Total Assets</th>\n",
              "      <th>Net Profit Margin</th>\n",
              "      <th>Quick Ratio</th>\n",
              "      <th>R&amp;D / Gross Profit</th>\n",
              "      <th>R&amp;D / Revenue</th>\n",
              "      <th>Return on Assets</th>\n",
              "      <th>Return on Equity</th>\n",
              "      <th>Return on Research Capital</th>\n",
              "      <th>Share Buyback / FCF</th>\n",
              "      <th>Assets Growth</th>\n",
              "      <th>Assets Growth QOQ</th>\n",
              "      <th>Assets Growth YOY</th>\n",
              "      <th>Earnings Growth</th>\n",
              "      <th>Earnings Growth QOQ</th>\n",
              "      <th>Earnings Growth YOY</th>\n",
              "      <th>FCF Growth</th>\n",
              "      <th>FCF Growth QOQ</th>\n",
              "      <th>FCF Growth YOY</th>\n",
              "      <th>Sales Growth</th>\n",
              "      <th>Sales Growth QOQ</th>\n",
              "      <th>Sales Growth YOY</th>\n",
              "      <th>Dividend Yield</th>\n",
              "      <th>Earnings Yield</th>\n",
              "      <th>FCF Yield</th>\n",
              "      <th>Market-Cap</th>\n",
              "      <th>P/Cash</th>\n",
              "      <th>P/E</th>\n",
              "      <th>P/FCF</th>\n",
              "      <th>P/NCAV</th>\n",
              "      <th>P/NetNet</th>\n",
              "      <th>P/Sales</th>\n",
              "      <th>Price to Book Value</th>\n",
              "    </tr>\n",
              "    <tr>\n",
              "      <th>Ticker</th>\n",
              "      <th>Date</th>\n",
              "      <th></th>\n",
              "      <th></th>\n",
              "      <th></th>\n",
              "      <th></th>\n",
              "      <th></th>\n",
              "      <th></th>\n",
              "      <th></th>\n",
              "      <th></th>\n",
              "      <th></th>\n",
              "      <th></th>\n",
              "      <th></th>\n",
              "      <th></th>\n",
              "      <th></th>\n",
              "      <th></th>\n",
              "      <th></th>\n",
              "      <th></th>\n",
              "      <th></th>\n",
              "      <th></th>\n",
              "      <th></th>\n",
              "      <th></th>\n",
              "      <th></th>\n",
              "      <th></th>\n",
              "      <th></th>\n",
              "      <th></th>\n",
              "      <th></th>\n",
              "      <th></th>\n",
              "      <th></th>\n",
              "      <th></th>\n",
              "      <th></th>\n",
              "      <th></th>\n",
              "      <th></th>\n",
              "      <th></th>\n",
              "      <th></th>\n",
              "      <th></th>\n",
              "      <th></th>\n",
              "      <th></th>\n",
              "      <th></th>\n",
              "      <th></th>\n",
              "      <th></th>\n",
              "      <th></th>\n",
              "      <th></th>\n",
              "      <th></th>\n",
              "    </tr>\n",
              "  </thead>\n",
              "  <tbody>\n",
              "    <tr>\n",
              "      <th rowspan=\"5\" valign=\"top\">ZYXI</th>\n",
              "      <th>2020-07-28</th>\n",
              "      <td>-0.091642</td>\n",
              "      <td>1.550298</td>\n",
              "      <td>NaN</td>\n",
              "      <td>4.404868</td>\n",
              "      <td>NaN</td>\n",
              "      <td>0.000636</td>\n",
              "      <td>0.797472</td>\n",
              "      <td>1252.0</td>\n",
              "      <td>15.020122</td>\n",
              "      <td>7.711841</td>\n",
              "      <td>NaN</td>\n",
              "      <td>0.195694</td>\n",
              "      <td>3.622557</td>\n",
              "      <td>NaN</td>\n",
              "      <td>NaN</td>\n",
              "      <td>0.303383</td>\n",
              "      <td>0.432427</td>\n",
              "      <td>NaN</td>\n",
              "      <td>-0.092278</td>\n",
              "      <td>0.761039</td>\n",
              "      <td>NaN</td>\n",
              "      <td>NaN</td>\n",
              "      <td>0.009717</td>\n",
              "      <td>NaN</td>\n",
              "      <td>NaN</td>\n",
              "      <td>-0.53689</td>\n",
              "      <td>NaN</td>\n",
              "      <td>NaN</td>\n",
              "      <td>0.504337</td>\n",
              "      <td>NaN</td>\n",
              "      <td>NaN</td>\n",
              "      <td>0.000005</td>\n",
              "      <td>0.015976</td>\n",
              "      <td>0.007472</td>\n",
              "      <td>630890212.5</td>\n",
              "      <td>43.256100</td>\n",
              "      <td>62.594525</td>\n",
              "      <td>133.833308</td>\n",
              "      <td>39.970236</td>\n",
              "      <td>55.844583</td>\n",
              "      <td>12.249344</td>\n",
              "      <td>27.067540</td>\n",
              "    </tr>\n",
              "    <tr>\n",
              "      <th>2020-07-29</th>\n",
              "      <td>-0.091642</td>\n",
              "      <td>1.550298</td>\n",
              "      <td>NaN</td>\n",
              "      <td>4.404868</td>\n",
              "      <td>NaN</td>\n",
              "      <td>0.000636</td>\n",
              "      <td>0.797472</td>\n",
              "      <td>1252.0</td>\n",
              "      <td>15.020122</td>\n",
              "      <td>7.711841</td>\n",
              "      <td>NaN</td>\n",
              "      <td>0.195694</td>\n",
              "      <td>3.622557</td>\n",
              "      <td>NaN</td>\n",
              "      <td>NaN</td>\n",
              "      <td>0.303383</td>\n",
              "      <td>0.432427</td>\n",
              "      <td>NaN</td>\n",
              "      <td>-0.092278</td>\n",
              "      <td>0.761039</td>\n",
              "      <td>NaN</td>\n",
              "      <td>NaN</td>\n",
              "      <td>0.009717</td>\n",
              "      <td>NaN</td>\n",
              "      <td>NaN</td>\n",
              "      <td>-0.53689</td>\n",
              "      <td>NaN</td>\n",
              "      <td>NaN</td>\n",
              "      <td>0.504337</td>\n",
              "      <td>NaN</td>\n",
              "      <td>NaN</td>\n",
              "      <td>0.000005</td>\n",
              "      <td>0.016133</td>\n",
              "      <td>0.007545</td>\n",
              "      <td>624755137.5</td>\n",
              "      <td>42.835457</td>\n",
              "      <td>61.985826</td>\n",
              "      <td>132.531849</td>\n",
              "      <td>39.581547</td>\n",
              "      <td>55.301524</td>\n",
              "      <td>12.130226</td>\n",
              "      <td>26.804322</td>\n",
              "    </tr>\n",
              "    <tr>\n",
              "      <th>2020-07-30</th>\n",
              "      <td>-0.091642</td>\n",
              "      <td>1.550298</td>\n",
              "      <td>NaN</td>\n",
              "      <td>4.404868</td>\n",
              "      <td>NaN</td>\n",
              "      <td>0.000636</td>\n",
              "      <td>0.797472</td>\n",
              "      <td>1252.0</td>\n",
              "      <td>15.020122</td>\n",
              "      <td>7.711841</td>\n",
              "      <td>NaN</td>\n",
              "      <td>0.195694</td>\n",
              "      <td>3.622557</td>\n",
              "      <td>NaN</td>\n",
              "      <td>NaN</td>\n",
              "      <td>0.303383</td>\n",
              "      <td>0.432427</td>\n",
              "      <td>NaN</td>\n",
              "      <td>-0.092278</td>\n",
              "      <td>0.761039</td>\n",
              "      <td>NaN</td>\n",
              "      <td>NaN</td>\n",
              "      <td>0.009717</td>\n",
              "      <td>NaN</td>\n",
              "      <td>NaN</td>\n",
              "      <td>-0.53689</td>\n",
              "      <td>NaN</td>\n",
              "      <td>NaN</td>\n",
              "      <td>0.504337</td>\n",
              "      <td>NaN</td>\n",
              "      <td>NaN</td>\n",
              "      <td>0.000005</td>\n",
              "      <td>0.015671</td>\n",
              "      <td>0.007329</td>\n",
              "      <td>643160362.5</td>\n",
              "      <td>44.097385</td>\n",
              "      <td>63.811922</td>\n",
              "      <td>136.436225</td>\n",
              "      <td>40.747615</td>\n",
              "      <td>56.930701</td>\n",
              "      <td>12.487581</td>\n",
              "      <td>27.593975</td>\n",
              "    </tr>\n",
              "    <tr>\n",
              "      <th>2020-07-31</th>\n",
              "      <td>-0.091642</td>\n",
              "      <td>1.550298</td>\n",
              "      <td>NaN</td>\n",
              "      <td>4.404868</td>\n",
              "      <td>NaN</td>\n",
              "      <td>0.000636</td>\n",
              "      <td>0.797472</td>\n",
              "      <td>1252.0</td>\n",
              "      <td>15.020122</td>\n",
              "      <td>7.711841</td>\n",
              "      <td>NaN</td>\n",
              "      <td>0.195694</td>\n",
              "      <td>3.622557</td>\n",
              "      <td>NaN</td>\n",
              "      <td>NaN</td>\n",
              "      <td>0.303383</td>\n",
              "      <td>0.432427</td>\n",
              "      <td>NaN</td>\n",
              "      <td>-0.092278</td>\n",
              "      <td>0.761039</td>\n",
              "      <td>NaN</td>\n",
              "      <td>NaN</td>\n",
              "      <td>0.009717</td>\n",
              "      <td>NaN</td>\n",
              "      <td>NaN</td>\n",
              "      <td>-0.53689</td>\n",
              "      <td>NaN</td>\n",
              "      <td>NaN</td>\n",
              "      <td>0.504337</td>\n",
              "      <td>NaN</td>\n",
              "      <td>NaN</td>\n",
              "      <td>0.000005</td>\n",
              "      <td>0.015466</td>\n",
              "      <td>0.007234</td>\n",
              "      <td>651681300.0</td>\n",
              "      <td>44.681611</td>\n",
              "      <td>64.657337</td>\n",
              "      <td>138.243806</td>\n",
              "      <td>41.287462</td>\n",
              "      <td>57.684950</td>\n",
              "      <td>12.653023</td>\n",
              "      <td>27.959555</td>\n",
              "    </tr>\n",
              "    <tr>\n",
              "      <th>2020-08-03</th>\n",
              "      <td>-0.091642</td>\n",
              "      <td>1.550298</td>\n",
              "      <td>NaN</td>\n",
              "      <td>4.404868</td>\n",
              "      <td>NaN</td>\n",
              "      <td>0.000636</td>\n",
              "      <td>0.797472</td>\n",
              "      <td>1252.0</td>\n",
              "      <td>15.020122</td>\n",
              "      <td>7.711841</td>\n",
              "      <td>NaN</td>\n",
              "      <td>0.195694</td>\n",
              "      <td>3.622557</td>\n",
              "      <td>NaN</td>\n",
              "      <td>NaN</td>\n",
              "      <td>0.303383</td>\n",
              "      <td>0.432427</td>\n",
              "      <td>NaN</td>\n",
              "      <td>-0.092278</td>\n",
              "      <td>0.761039</td>\n",
              "      <td>NaN</td>\n",
              "      <td>NaN</td>\n",
              "      <td>0.009717</td>\n",
              "      <td>NaN</td>\n",
              "      <td>NaN</td>\n",
              "      <td>-0.53689</td>\n",
              "      <td>NaN</td>\n",
              "      <td>NaN</td>\n",
              "      <td>0.504337</td>\n",
              "      <td>NaN</td>\n",
              "      <td>NaN</td>\n",
              "      <td>0.000005</td>\n",
              "      <td>0.015654</td>\n",
              "      <td>0.007322</td>\n",
              "      <td>643842037.5</td>\n",
              "      <td>44.144123</td>\n",
              "      <td>63.879555</td>\n",
              "      <td>136.580831</td>\n",
              "      <td>40.790803</td>\n",
              "      <td>56.991041</td>\n",
              "      <td>12.500816</td>\n",
              "      <td>27.623221</td>\n",
              "    </tr>\n",
              "  </tbody>\n",
              "</table>\n",
              "</div>"
            ],
            "text/plain": [
              "                   (Dividends + Share Buyback) / FCF  ...  Price to Book Value\n",
              "Ticker Date                                           ...                     \n",
              "ZYXI   2020-07-28                          -0.091642  ...            27.067540\n",
              "       2020-07-29                          -0.091642  ...            26.804322\n",
              "       2020-07-30                          -0.091642  ...            27.593975\n",
              "       2020-07-31                          -0.091642  ...            27.959555\n",
              "       2020-08-03                          -0.091642  ...            27.623221\n",
              "\n",
              "[5 rows x 42 columns]"
            ]
          },
          "metadata": {
            "tags": []
          },
          "execution_count": 13
        }
      ]
    },
    {
      "cell_type": "markdown",
      "metadata": {
        "id": "8TMIAzdBFnIx"
      },
      "source": [
        "## **Missing Data**\n",
        "\n",
        "Some of the signals have a lot of missing data which cannot be handled by scikit-learn. Let us first see the fraction of each signal-column that is missing:"
      ]
    },
    {
      "cell_type": "code",
      "metadata": {
        "colab": {
          "base_uri": "https://localhost:8080/"
        },
        "id": "DxHwbvOQ-Iw-",
        "outputId": "52a29db1-a2e7-4b7c-fed5-b9661233d8d5"
      },
      "source": [
        "# Remove all rows with only NaN values.\n",
        "df = df_signals.dropna(how='all').reset_index(drop=True)\n",
        "\n",
        "# For each column, show the fraction of the rows that are NaN.\n",
        "(df.isnull().sum() / len(df)).sort_values(ascending=False)"
      ],
      "execution_count": 14,
      "outputs": [
        {
          "output_type": "execute_result",
          "data": {
            "text/plain": [
              "R&D / Revenue                        0.608676\n",
              "R&D / Gross Profit                   0.608537\n",
              "Return on Research Capital           0.608537\n",
              "Dividend Yield                       0.442309\n",
              "Inventory Turnover                   0.286428\n",
              "Debt Ratio                           0.262356\n",
              "Net Acquisitions / Total Assets      0.261853\n",
              "Sales Growth YOY                     0.166980\n",
              "FCF Growth YOY                       0.157142\n",
              "Assets Growth YOY                    0.157127\n",
              "Earnings Growth YOY                  0.157127\n",
              "Sales Growth                         0.145817\n",
              "FCF Growth                           0.137345\n",
              "Assets Growth                        0.137345\n",
              "Earnings Growth                      0.137345\n",
              "Interest Coverage                    0.100301\n",
              "Sales Growth QOQ                     0.076337\n",
              "FCF Growth QOQ                       0.063977\n",
              "Earnings Growth QOQ                  0.063977\n",
              "Assets Growth QOQ                    0.063977\n",
              "CapEx / (Depr + Amor)                0.039962\n",
              "P/Sales                              0.025982\n",
              "Gross Profit Margin                  0.020602\n",
              "P/Cash                               0.019072\n",
              "Price to Book Value                  0.017834\n",
              "Market-Cap                           0.017834\n",
              "P/NCAV                               0.017834\n",
              "Earnings Yield                       0.017834\n",
              "FCF Yield                            0.017834\n",
              "P/NetNet                             0.017834\n",
              "P/E                                  0.017834\n",
              "P/FCF                                0.017834\n",
              "Log Revenue                          0.017389\n",
              "Asset Turnover                       0.017339\n",
              "Net Profit Margin                    0.017339\n",
              "Quick Ratio                          0.010435\n",
              "Current Ratio                        0.009182\n",
              "Return on Equity                     0.009182\n",
              "Dividends / FCF                      0.009182\n",
              "Return on Assets                     0.009182\n",
              "Share Buyback / FCF                  0.009182\n",
              "(Dividends + Share Buyback) / FCF    0.009182\n",
              "dtype: float64"
            ]
          },
          "metadata": {
            "tags": []
          },
          "execution_count": 14
        }
      ]
    },
    {
      "cell_type": "markdown",
      "metadata": {
        "id": "Y71gO4Z_F43t"
      },
      "source": [
        "We then remove all signals that have more than 25% missing data:"
      ]
    },
    {
      "cell_type": "code",
      "metadata": {
        "colab": {
          "base_uri": "https://localhost:8080/"
        },
        "id": "fLFYiE_1_WPI",
        "outputId": "c60d135b-1db1-44c0-d3ec-17b02a6e8c90"
      },
      "source": [
        "# List of the columns before removing any.\n",
        "columns_before = df_signals.columns\n",
        "\n",
        "# Threshold for the number of rows that must be NaN for each column.\n",
        "thresh = 0.75 * len(df_signals.dropna(how='all'))\n",
        "\n",
        "# Remove all columns which don't have sufficient data.\n",
        "df_signals = df_signals.dropna(axis='columns', thresh=thresh)\n",
        "\n",
        "# List of the columns after the removal.\n",
        "columns_after = df_signals.columns\n",
        "\n",
        "# Show the columns that were removed.\n",
        "columns_before.difference(columns_after)"
      ],
      "execution_count": 15,
      "outputs": [
        {
          "output_type": "execute_result",
          "data": {
            "text/plain": [
              "Index(['Debt Ratio', 'Dividend Yield', 'Inventory Turnover',\n",
              "       'Net Acquisitions / Total Assets', 'R&D / Gross Profit',\n",
              "       'R&D / Revenue', 'Return on Research Capital'],\n",
              "      dtype='object')"
            ]
          },
          "metadata": {
            "tags": []
          },
          "execution_count": 15
        }
      ]
    },
    {
      "cell_type": "markdown",
      "metadata": {
        "id": "K2Sl5a25GG7Z"
      },
      "source": [
        "## **1-3 Year Returns**\n",
        "\n",
        "We want to try and predict the average 1-3 year returns. We will actually consider the mean log-returns, because that is easier to calculate, but the result is nearly the same as the non-log mean returns."
      ]
    },
    {
      "cell_type": "code",
      "metadata": {
        "id": "-uAwTCKyAPXv"
      },
      "source": [
        "# Name of the new column for the returns.\n",
        "TOTAL_RETURN_1_3Y = 'Total Return 1-3 Years'"
      ],
      "execution_count": 16,
      "outputs": []
    },
    {
      "cell_type": "code",
      "metadata": {
        "colab": {
          "base_uri": "https://localhost:8080/"
        },
        "id": "MirmskzPAdmk",
        "outputId": "98697390-1415-4cc7-d463-30c6dfc6747b"
      },
      "source": [
        "%%time\n",
        "# Calculate the mean log-returns for all 1-3 year periods.\n",
        "df_returns_1_3y = \\\n",
        "    hub.mean_log_returns(name=TOTAL_RETURN_1_3Y,\n",
        "                         future=True, annualized=True,\n",
        "                         min_years=1, max_years=3)"
      ],
      "execution_count": 17,
      "outputs": [
        {
          "output_type": "stream",
          "text": [
            "Cache-file 'mean_log_change-5cec82bd.pickle' not on disk.\n",
            "- Running function mean_log_change() ... Done!\n",
            "- Saving cache-file to disk ... Done!\n",
            "CPU times: user 58.6 s, sys: 1.44 s, total: 1min\n",
            "Wall time: 58.8 s\n"
          ],
          "name": "stdout"
        }
      ]
    },
    {
      "cell_type": "code",
      "metadata": {
        "colab": {
          "base_uri": "https://localhost:8080/"
        },
        "id": "l8sK5rdCv9HX",
        "outputId": "fcc1b5cb-b6b7-48d0-ec5a-74ab955c11d3"
      },
      "source": [
        "df_returns_1_3y"
      ],
      "execution_count": 18,
      "outputs": [
        {
          "output_type": "execute_result",
          "data": {
            "text/plain": [
              "Ticker  Date      \n",
              "A       2007-01-03   -0.147205\n",
              "        2007-01-04   -0.149268\n",
              "        2007-01-05   -0.144580\n",
              "        2007-01-08   -0.143036\n",
              "        2007-01-09   -0.144187\n",
              "                        ...   \n",
              "ZYXI    2020-07-28         NaN\n",
              "        2020-07-29         NaN\n",
              "        2020-07-30         NaN\n",
              "        2020-07-31         NaN\n",
              "        2020-08-03         NaN\n",
              "Name: Total Return 1-3 Years, Length: 6945848, dtype: float64"
            ]
          },
          "metadata": {
            "tags": []
          },
          "execution_count": 18
        }
      ]
    },
    {
      "cell_type": "markdown",
      "metadata": {
        "id": "clg5aeiUGf0r"
      },
      "source": [
        "## **Combine Signals and Returns**\n",
        "\n",
        "We then combine the signals and returns into a single DataFrame to align the data."
      ]
    },
    {
      "cell_type": "code",
      "metadata": {
        "colab": {
          "base_uri": "https://localhost:8080/"
        },
        "id": "YhIiVg53Aht4",
        "outputId": "e66bbc06-3b83-4ffc-cbb3-ba8ce14dde28"
      },
      "source": [
        "%%time\n",
        "dfs = [df_signals, df_returns_1_3y]\n",
        "df_sig_rets = pd.concat(dfs, axis=1)"
      ],
      "execution_count": 19,
      "outputs": [
        {
          "output_type": "stream",
          "text": [
            "CPU times: user 1.93 s, sys: 15.3 ms, total: 1.94 s\n",
            "Wall time: 1.93 s\n"
          ],
          "name": "stdout"
        }
      ]
    },
    {
      "cell_type": "code",
      "metadata": {
        "colab": {
          "base_uri": "https://localhost:8080/"
        },
        "id": "WxjeMP5dBFjR",
        "outputId": "4081b174-bc03-4ec5-b1ce-5ea1cc3c60c2"
      },
      "source": [
        "df_sig_rets.shape"
      ],
      "execution_count": 20,
      "outputs": [
        {
          "output_type": "execute_result",
          "data": {
            "text/plain": [
              "(6945848, 36)"
            ]
          },
          "metadata": {
            "tags": []
          },
          "execution_count": 20
        }
      ]
    },
    {
      "cell_type": "markdown",
      "metadata": {
        "id": "CxDsUw3KGqAq"
      },
      "source": [
        "## **Data Cleaning**\n",
        "\n",
        "The data also contains outliers and still has missing values, so let us fix that now. A common method for removing outliers is so-called Winsorization of the data. It basically just limits or clips the data between e.g. the 5% and 95% quantiles of the data. We will Winsorize both the stock-returns and all the signals. After that, we will remove all rows with missing values, because scikit-learn cannot handle that. Finally we remove tickers that have less than 200 rows of data.\n",
        "\n",
        "There are more than 6 million data-rows before this cleaning:"
      ]
    },
    {
      "cell_type": "code",
      "metadata": {
        "id": "C4HLv-Y2BRDl",
        "colab": {
          "base_uri": "https://localhost:8080/"
        },
        "outputId": "e64b9827-ba80-427f-a359-2e2c07a2286a"
      },
      "source": [
        "%%time\n",
        "\n",
        "# Clip the signals and returns at their 5% and 95% quantiles.\n",
        "# We do not set them to NaN because it would remove too much data.\n",
        "df_sig_rets = sf.winsorize(df_sig_rets)\n",
        "\n",
        "# Remove all rows with missing values (NaN)\n",
        "# because scikit-learn cannot handle that.\n",
        "df_sig_rets = df_sig_rets.dropna(how='any')\n",
        "\n",
        "# Remove all tickers which have less than 200 data-rows.\n",
        "df_sig_rets = df_sig_rets.groupby(TICKER) \\\n",
        "                .filter(lambda df: len(df)>200)"
      ],
      "execution_count": 21,
      "outputs": [
        {
          "output_type": "stream",
          "text": [
            "CPU times: user 21.6 s, sys: 4.75 s, total: 26.3 s\n",
            "Wall time: 22.9 s\n"
          ],
          "name": "stdout"
        }
      ]
    },
    {
      "cell_type": "code",
      "metadata": {
        "id": "E3TaORI-BXne",
        "colab": {
          "base_uri": "https://localhost:8080/"
        },
        "outputId": "85519e09-037b-4e04-8700-83547c8f3177"
      },
      "source": [
        "df_sig_rets.shape"
      ],
      "execution_count": 22,
      "outputs": [
        {
          "output_type": "execute_result",
          "data": {
            "text/plain": [
              "(1706396, 36)"
            ]
          },
          "metadata": {
            "tags": []
          },
          "execution_count": 22
        }
      ]
    },
    {
      "cell_type": "markdown",
      "metadata": {
        "id": "R7YczFlTHTLg"
      },
      "source": [
        "The reason that so many rows have been removed, is that scikit-learn cannot handle rows with missing values (NaN). Some missing values could be set to a default value, e.g. the Dividend Yield could be set to 0. Other columns could be omitted because they don't have any predictive power anyway. \n",
        "\n",
        "## **Correlation: Signals vs. Return**\n",
        "\n",
        "Linear correlation (aka. Pearson correlation) is a simple statistical measure of how two variables change together. The linear correlation between the signals and stock-returns can be used to assess which signals might be the best predictors for stock-returns.\n",
        "\n",
        "A correlation value of +1 means the two variables are perfectly correlated, so they always increase and decrease together in a linear way. Conversely, a correlation value of -1 means the two variables are perfectly inversely correlated, so they always increase and decrease in the opposite direction of each other. A correlation value of zero means that there is no linear relation between the signal and stock-returns, but there may still be a strong non-linear relation (see examples here).\n",
        "\n",
        "We use the Winsorized data when studying the correlation, because data-outliers may falsely indicate a strong overall correlation, when in fact there is no correlation for the majority of the data.\n",
        "\n",
        "The following calculates the correlation between all the signals and the 1-3 year average stock-returns, sorted according to the absolute correlation strength:"
      ]
    },
    {
      "cell_type": "code",
      "metadata": {
        "colab": {
          "base_uri": "https://localhost:8080/"
        },
        "id": "p6Zv-f4nMa81",
        "outputId": "1d3e71e5-b498-422a-c202-bb47ce9530b1"
      },
      "source": [
        "# New column-name for correlation between signals and returns.\n",
        "RETURN_CORR = 'Return Correlation'\n",
        "\n",
        "# Calculate the correlation between all data-columns.\n",
        "df_corr = df_sig_rets.corr()\n",
        "\n",
        "# Correlation between signals and returns.\n",
        "# Sorted to show the strongest absolute correlations first.\n",
        "df_corr_returns = df_corr[TOTAL_RETURN_1_3Y] \\\n",
        "                    .abs() \\\n",
        "                    .drop(TOTAL_RETURN_1_3Y) \\\n",
        "                    .sort_values(ascending=False) \\\n",
        "                    .rename(RETURN_CORR)\n",
        "\n",
        "# Show the correlations between signals and returns.\n",
        "df_corr_returns"
      ],
      "execution_count": 23,
      "outputs": [
        {
          "output_type": "execute_result",
          "data": {
            "text/plain": [
              "Net Profit Margin                    0.180413\n",
              "Return on Assets                     0.167867\n",
              "Earnings Yield                       0.150990\n",
              "Log Revenue                          0.131642\n",
              "Return on Equity                     0.122219\n",
              "FCF Yield                            0.117659\n",
              "P/E                                  0.073909\n",
              "P/FCF                                0.063388\n",
              "P/Sales                              0.061844\n",
              "Current Ratio                        0.060161\n",
              "Market-Cap                           0.058252\n",
              "Dividends / FCF                      0.048962\n",
              "CapEx / (Depr + Amor)                0.041523\n",
              "Quick Ratio                          0.040606\n",
              "Price to Book Value                  0.033884\n",
              "(Dividends + Share Buyback) / FCF    0.031616\n",
              "P/NCAV                               0.031360\n",
              "Asset Turnover                       0.029806\n",
              "P/NetNet                             0.027302\n",
              "FCF Growth                           0.027016\n",
              "Assets Growth QOQ                    0.024992\n",
              "Assets Growth                        0.023894\n",
              "Assets Growth YOY                    0.023676\n",
              "FCF Growth YOY                       0.022877\n",
              "Share Buyback / FCF                  0.022867\n",
              "Earnings Growth                      0.021566\n",
              "Earnings Growth QOQ                  0.020012\n",
              "Sales Growth QOQ                     0.019988\n",
              "Earnings Growth YOY                  0.019865\n",
              "P/Cash                               0.016435\n",
              "Interest Coverage                    0.014208\n",
              "FCF Growth QOQ                       0.013165\n",
              "Sales Growth                         0.012628\n",
              "Sales Growth YOY                     0.011828\n",
              "Gross Profit Margin                  0.011243\n",
              "Name: Return Correlation, dtype: float64"
            ]
          },
          "metadata": {
            "tags": []
          },
          "execution_count": 23
        }
      ]
    },
    {
      "cell_type": "markdown",
      "metadata": {
        "id": "IEyvcBN7HouX"
      },
      "source": [
        "## **Split Training / Test-Sets**\n",
        "\n",
        "When training a Machine Learning model, we typically split the dataset into training- and test-sets. Only the training-set is used to train the model, after which the model is used on the test-set, to assess how the model performs on data it has not seen during training.\n",
        "\n",
        "If we randomly divide all the data-rows into training- and test-sets, we would most likely get data for every stock-ticker in both the training- and test-sets, which would probably make them highly correlated. To avoid this, we split the dataset according to stock-tickers, so a ticker belongs to either the training- or test-set, but not both. We use 80% of all the tickers in the training-set, and 20% in the test-set."
      ]
    },
    {
      "cell_type": "code",
      "metadata": {
        "id": "XXahN70iMggs"
      },
      "source": [
        "# List of all unique stock-tickers in the dataset.\n",
        "tickers = df_sig_rets.reset_index()[TICKER].unique()\n",
        "\n",
        "# Split the tickers into training- and test-sets.\n",
        "tickers_train, tickers_test = \\\n",
        "    train_test_split(tickers, train_size=0.8, random_state=1234)"
      ],
      "execution_count": 24,
      "outputs": []
    },
    {
      "cell_type": "markdown",
      "metadata": {
        "id": "9zSDmxxnHyn_"
      },
      "source": [
        "Now that we have lists of tickers for the training- and test-sets, we can select those rows from the DataFrame with signals and stock-returns:"
      ]
    },
    {
      "cell_type": "code",
      "metadata": {
        "colab": {
          "base_uri": "https://localhost:8080/"
        },
        "id": "ECyKseN-MmCT",
        "outputId": "e832b17e-319c-4a55-d604-092c9b9dc6b2"
      },
      "source": [
        "%%time\n",
        "df_train = df_sig_rets.loc[tickers_train]\n",
        "df_test = df_sig_rets.loc[tickers_test]"
      ],
      "execution_count": 25,
      "outputs": [
        {
          "output_type": "stream",
          "text": [
            "CPU times: user 218 ms, sys: 78.6 ms, total: 297 ms\n",
            "Wall time: 292 ms\n"
          ],
          "name": "stdout"
        }
      ]
    },
    {
      "cell_type": "markdown",
      "metadata": {
        "id": "tZXoi0P_H099"
      },
      "source": [
        "We can then split these DataFrames into signals and stock-returns; that is, X and y-values that the Machine Learning model must try and find a mapping between. In scikit-learn's notation, the capital X indicates a 2-dimensional array or matrix, and the lower-case y indicates a 1-dimensional array."
      ]
    },
    {
      "cell_type": "code",
      "metadata": {
        "id": "jQSodqX5Mpd7"
      },
      "source": [
        "# DataFrames with signals for training- and test-sets.\n",
        "X_train = df_train.drop(columns=[TOTAL_RETURN_1_3Y])\n",
        "X_test = df_test.drop(columns=[TOTAL_RETURN_1_3Y])\n",
        "\n",
        "# DataFrames with stock-returns for training- and test-sets.\n",
        "y_train = df_train[TOTAL_RETURN_1_3Y]\n",
        "y_test = df_test[TOTAL_RETURN_1_3Y]"
      ],
      "execution_count": 26,
      "outputs": []
    },
    {
      "cell_type": "code",
      "metadata": {
        "colab": {
          "base_uri": "https://localhost:8080/"
        },
        "id": "8GYTYeLLMs7a",
        "outputId": "56a9792b-aad1-4f1a-b714-2a83826a3a41"
      },
      "source": [
        "X_train.shape, y_train.shape"
      ],
      "execution_count": 27,
      "outputs": [
        {
          "output_type": "execute_result",
          "data": {
            "text/plain": [
              "((1368688, 35), (1368688,))"
            ]
          },
          "metadata": {
            "tags": []
          },
          "execution_count": 27
        }
      ]
    },
    {
      "cell_type": "code",
      "metadata": {
        "colab": {
          "base_uri": "https://localhost:8080/"
        },
        "id": "9iFim4GSMwHY",
        "outputId": "8ecb513b-2843-4f53-a517-adcc3f9b8604"
      },
      "source": [
        "\n",
        "X_test.shape, y_test.shape"
      ],
      "execution_count": 28,
      "outputs": [
        {
          "output_type": "execute_result",
          "data": {
            "text/plain": [
              "((337708, 35), (337708,))"
            ]
          },
          "metadata": {
            "tags": []
          },
          "execution_count": 28
        }
      ]
    },
    {
      "cell_type": "markdown",
      "metadata": {
        "id": "GWJtFjTIIAOo"
      },
      "source": [
        "## **Helper Functions**\n",
        "\n",
        "The following are helper-functions for printing and plotting the results."
      ]
    },
    {
      "cell_type": "code",
      "metadata": {
        "id": "iyklY7bRMzJ6"
      },
      "source": [
        "# List of signal names.\n",
        "signal_names = X_train.columns.values\n",
        "\n",
        "# List of signal names where spaces are replaced with _\n",
        "signal_names_ = [s.replace(' ', '_') for s in signal_names]"
      ],
      "execution_count": 29,
      "outputs": []
    },
    {
      "cell_type": "code",
      "metadata": {
        "id": "USWNMh5CNKYs"
      },
      "source": [
        "# Column-name.\n",
        "FEATURE_IMPORTANCE = 'Feature Importance'"
      ],
      "execution_count": 30,
      "outputs": []
    },
    {
      "cell_type": "code",
      "metadata": {
        "id": "XOIlf_APNN4N"
      },
      "source": [
        "def compare_feature_imp_corr(estimator):\n",
        "    \"\"\"\n",
        "    Return a DataFrame which compares the signals' Feature\n",
        "    Importance in the Machine Learning model, to the absolute\n",
        "    correlation of the signals and stock-returns.\n",
        "    \n",
        "    :param estimator: Sklearn ensemble estimator.\n",
        "    :return: Pandas DataFrame.\n",
        "    \"\"\"\n",
        "    \n",
        "    # Wrap the list of Feature Importance in a Pandas Series.\n",
        "    df_feat_imp = pd.Series(estimator.feature_importances_,\n",
        "                            index=signal_names,\n",
        "                            name=FEATURE_IMPORTANCE)\n",
        "\n",
        "    # Concatenate the DataFrames with Feature Importance\n",
        "    # and Return Correlation.\n",
        "    dfs = [df_feat_imp, df_corr_returns]\n",
        "    df_compare = pd.concat(dfs, axis=1, sort=True)\n",
        "    \n",
        "    # Sort by Feature Importance.\n",
        "    df_compare.sort_values(by=FEATURE_IMPORTANCE,\n",
        "                           ascending=False, inplace=True)\n",
        "    \n",
        "    return df_compare"
      ],
      "execution_count": 31,
      "outputs": []
    },
    {
      "cell_type": "code",
      "metadata": {
        "id": "MwndrLrFNQzR"
      },
      "source": [
        "def print_tree(estimator, max_depth=6, **kwargs):\n",
        "    \"\"\"\n",
        "    Print the first Decision Tree from a Random Forest.\n",
        "    :param estimator: Sklearn ensemble estimator.\n",
        "    \"\"\"\n",
        "    s = export_text(estimator.estimators_[0],\n",
        "                    max_depth=max_depth,\n",
        "                    feature_names=signal_names_,\n",
        "                    **kwargs)\n",
        "    print(s)"
      ],
      "execution_count": 32,
      "outputs": []
    },
    {
      "cell_type": "code",
      "metadata": {
        "id": "mpynCNE7NU0j"
      },
      "source": [
        "def plot_confusion_matrix(y_true, y_pred):\n",
        "    \"\"\"\n",
        "    Plot a classification confusion matrix.\n",
        "    \n",
        "    :param y_true: Array of true classes.\n",
        "    :param y_pred: Array of predicted classes.\n",
        "    \"\"\"\n",
        "    \n",
        "    # Class labels.\n",
        "    labels = [1.0, -1.0]\n",
        "    labels_text = ['Gain', 'Loss']\n",
        "\n",
        "    # Create confusion matrix.\n",
        "    mat = confusion_matrix(y_true=y_true, y_pred=y_pred,\n",
        "                           labels=labels)\n",
        "    \n",
        "    # Normalize so all matrix entries sum to 1.0\n",
        "    mat = mat / len(y_true)\n",
        "    \n",
        "    # Plot the matrix as a heatmap.\n",
        "    sns.heatmap(mat, robust=True,\n",
        "                xticklabels=labels_text,\n",
        "                yticklabels=labels_text)"
      ],
      "execution_count": 33,
      "outputs": []
    },
    {
      "cell_type": "markdown",
      "metadata": {
        "id": "nE4eiWiEIT1I"
      },
      "source": [
        "## **Machine Learning: Regression**\n",
        "\n",
        "Now that the data has been prepared, we can create a Machine Learning model using scikit-learn. Because we want to map financial signals x to stock-returns y that are continuous values, we need to use a so-called Regression model. In this example, we will use a Random Forest which is an ensemble of many Decision Trees, because it computes fairly quickly. An example of a Decision Tree will be shown further below, once the model has been fitted to the training-data.\n",
        "\n",
        "The model has many parameters that adjust its ability to fit the training-data, possibly at the cost of having a worse fit on the test-data. This is the usual dilemma between over- and under-fitting the model to the training-data. If we overfit the model, it means that it has learned to recognize noise in the training-data which does not generalize to the test-set. Conversely, if we underfit the model, it means that it has not learned some essential features in the training-data that also generalize to the test-data.\n"
      ]
    },
    {
      "cell_type": "code",
      "metadata": {
        "id": "-MMLs2syIdPT"
      },
      "source": [
        "# Parameters for scikit-learn's Random Forest models.\n",
        "model_args = \\\n",
        "{\n",
        "    # Random Forest parameters to adjust between\n",
        "    # over- and under-fitting.\n",
        "    'n_estimators': 100,\n",
        "    'max_depth': 20,\n",
        "    'min_samples_split': 100,\n",
        "    'min_samples_leaf': 10,\n",
        "\n",
        "    # Use all available CPU cores.\n",
        "    'n_jobs': -1,\n",
        "\n",
        "    # Set random seed to make the experiments repeatable.\n",
        "    'random_state': 1234,\n",
        "}"
      ],
      "execution_count": 34,
      "outputs": []
    },
    {
      "cell_type": "code",
      "metadata": {
        "id": "pmjgFT-LIiY0"
      },
      "source": [
        "# Create the estimator, but don't do any computations yet.\n",
        "regr = RandomForestRegressor(**model_args)"
      ],
      "execution_count": 35,
      "outputs": []
    },
    {
      "cell_type": "code",
      "metadata": {
        "colab": {
          "base_uri": "https://localhost:8080/"
        },
        "id": "ZpzaNx2nIlL9",
        "outputId": "391e45e7-662e-41b1-812a-1d23ad530dac"
      },
      "source": [
        "%%time\n",
        "# Fit the estimator to the training-data.\n",
        "# This may take several minutes on a 4-core CPU.\n",
        "_ = regr.fit(X=X_train, y=y_train)"
      ],
      "execution_count": 36,
      "outputs": [
        {
          "output_type": "stream",
          "text": [
            "CPU times: user 1h 26min 15s, sys: 2.66 s, total: 1h 26min 17s\n",
            "Wall time: 21min 49s\n"
          ],
          "name": "stdout"
        }
      ]
    },
    {
      "cell_type": "markdown",
      "metadata": {
        "id": "k7AArpwYIrG1"
      },
      "source": [
        "Now that the Random Forest model has been fitted to the training-data, we can show one of the 100 Decision Trees that it found. These are deeply nested if-then-else statements on the signals, which result in some output value. The output of 100 such Decision Trees are averaged to create the output of the entire ensemble known as a Random Forest.\n",
        "\n",
        "Clearly, the model does not contain any profound insight. It does not understand anything about finance. The model has just found that it could estimate the mapping between signals x and stock-returns y in the training-data, using many of these finely tuned if-then-else statements."
      ]
    },
    {
      "cell_type": "code",
      "metadata": {
        "colab": {
          "base_uri": "https://localhost:8080/"
        },
        "id": "7myaI7t9IwKA",
        "outputId": "ba064945-5283-4b52-ac16-fd85085e14fe"
      },
      "source": [
        "print_tree(regr)"
      ],
      "execution_count": 37,
      "outputs": [
        {
          "output_type": "stream",
          "text": [
            "|--- Net_Profit_Margin <= -0.69\n",
            "|   |--- P/FCF <= -1.59\n",
            "|   |   |--- P/NCAV <= 0.72\n",
            "|   |   |   |--- P/Cash <= 3.13\n",
            "|   |   |   |   |--- Log_Revenue <= 7.15\n",
            "|   |   |   |   |   |--- Gross_Profit_Margin <= 0.95\n",
            "|   |   |   |   |   |   |--- P/NCAV <= -16.38\n",
            "|   |   |   |   |   |   |   |--- truncated branch of depth 3\n",
            "|   |   |   |   |   |   |--- P/NCAV >  -16.38\n",
            "|   |   |   |   |   |   |   |--- truncated branch of depth 4\n",
            "|   |   |   |   |   |--- Gross_Profit_Margin >  0.95\n",
            "|   |   |   |   |   |   |--- Return_on_Assets <= -0.40\n",
            "|   |   |   |   |   |   |   |--- truncated branch of depth 2\n",
            "|   |   |   |   |   |   |--- Return_on_Assets >  -0.40\n",
            "|   |   |   |   |   |   |   |--- value: [0.02]\n",
            "|   |   |   |   |--- Log_Revenue >  7.15\n",
            "|   |   |   |   |   |--- CapEx_/_(Depr_+_Amor) <= 1.81\n",
            "|   |   |   |   |   |   |--- FCF_Yield <= -0.01\n",
            "|   |   |   |   |   |   |   |--- truncated branch of depth 8\n",
            "|   |   |   |   |   |   |--- FCF_Yield >  -0.01\n",
            "|   |   |   |   |   |   |   |--- value: [-0.17]\n",
            "|   |   |   |   |   |--- CapEx_/_(Depr_+_Amor) >  1.81\n",
            "|   |   |   |   |   |   |--- P/Sales <= 7.55\n",
            "|   |   |   |   |   |   |   |--- value: [0.03]\n",
            "|   |   |   |   |   |   |--- P/Sales >  7.55\n",
            "|   |   |   |   |   |   |   |--- value: [-0.10]\n",
            "|   |   |   |--- P/Cash >  3.13\n",
            "|   |   |   |   |--- P/FCF <= -17.46\n",
            "|   |   |   |   |   |--- Asset_Turnover <= 0.69\n",
            "|   |   |   |   |   |   |--- Log_Revenue <= 7.75\n",
            "|   |   |   |   |   |   |   |--- truncated branch of depth 9\n",
            "|   |   |   |   |   |   |--- Log_Revenue >  7.75\n",
            "|   |   |   |   |   |   |   |--- truncated branch of depth 10\n",
            "|   |   |   |   |   |--- Asset_Turnover >  0.69\n",
            "|   |   |   |   |   |   |--- P/FCF <= -20.17\n",
            "|   |   |   |   |   |   |   |--- truncated branch of depth 2\n",
            "|   |   |   |   |   |   |--- P/FCF >  -20.17\n",
            "|   |   |   |   |   |   |   |--- value: [-0.25]\n",
            "|   |   |   |   |--- P/FCF >  -17.46\n",
            "|   |   |   |   |   |--- FCF_Growth <= 2.95\n",
            "|   |   |   |   |   |   |--- FCF_Growth <= 0.81\n",
            "|   |   |   |   |   |   |   |--- truncated branch of depth 13\n",
            "|   |   |   |   |   |   |--- FCF_Growth >  0.81\n",
            "|   |   |   |   |   |   |   |--- truncated branch of depth 10\n",
            "|   |   |   |   |   |--- FCF_Growth >  2.95\n",
            "|   |   |   |   |   |   |--- Price_to_Book_Value <= 6.15\n",
            "|   |   |   |   |   |   |   |--- truncated branch of depth 6\n",
            "|   |   |   |   |   |   |--- Price_to_Book_Value >  6.15\n",
            "|   |   |   |   |   |   |   |--- value: [-0.21]\n",
            "|   |   |--- P/NCAV >  0.72\n",
            "|   |   |   |--- CapEx_/_(Depr_+_Amor) <= 0.05\n",
            "|   |   |   |   |--- Earnings_Growth <= -0.46\n",
            "|   |   |   |   |   |--- Price_to_Book_Value <= 3.86\n",
            "|   |   |   |   |   |   |--- P/Sales <= 3.23\n",
            "|   |   |   |   |   |   |   |--- value: [0.41]\n",
            "|   |   |   |   |   |   |--- P/Sales >  3.23\n",
            "|   |   |   |   |   |   |   |--- truncated branch of depth 2\n",
            "|   |   |   |   |   |--- Price_to_Book_Value >  3.86\n",
            "|   |   |   |   |   |   |--- P/NCAV <= 18.82\n",
            "|   |   |   |   |   |   |   |--- truncated branch of depth 3\n",
            "|   |   |   |   |   |   |--- P/NCAV >  18.82\n",
            "|   |   |   |   |   |   |   |--- value: [0.28]\n",
            "|   |   |   |   |--- Earnings_Growth >  -0.46\n",
            "|   |   |   |   |   |--- Current_Ratio <= 5.08\n",
            "|   |   |   |   |   |   |--- (Dividends_+_Share_Buyback)_/_FCF <= 1.70\n",
            "|   |   |   |   |   |   |   |--- truncated branch of depth 8\n",
            "|   |   |   |   |   |   |--- (Dividends_+_Share_Buyback)_/_FCF >  1.70\n",
            "|   |   |   |   |   |   |   |--- truncated branch of depth 6\n",
            "|   |   |   |   |   |--- Current_Ratio >  5.08\n",
            "|   |   |   |   |   |   |--- P/E <= -8.18\n",
            "|   |   |   |   |   |   |   |--- truncated branch of depth 4\n",
            "|   |   |   |   |   |   |--- P/E >  -8.18\n",
            "|   |   |   |   |   |   |   |--- truncated branch of depth 10\n",
            "|   |   |   |--- CapEx_/_(Depr_+_Amor) >  0.05\n",
            "|   |   |   |   |--- Interest_Coverage <= -63.23\n",
            "|   |   |   |   |   |--- Log_Revenue <= 7.24\n",
            "|   |   |   |   |   |   |--- Market-Cap <= 105039084.00\n",
            "|   |   |   |   |   |   |   |--- truncated branch of depth 10\n",
            "|   |   |   |   |   |   |--- Market-Cap >  105039084.00\n",
            "|   |   |   |   |   |   |   |--- truncated branch of depth 11\n",
            "|   |   |   |   |   |--- Log_Revenue >  7.24\n",
            "|   |   |   |   |   |   |--- Sales_Growth <= 0.45\n",
            "|   |   |   |   |   |   |   |--- truncated branch of depth 4\n",
            "|   |   |   |   |   |   |--- Sales_Growth >  0.45\n",
            "|   |   |   |   |   |   |   |--- truncated branch of depth 6\n",
            "|   |   |   |   |--- Interest_Coverage >  -63.23\n",
            "|   |   |   |   |   |--- Gross_Profit_Margin <= 0.73\n",
            "|   |   |   |   |   |   |--- Market-Cap <= 216082568.00\n",
            "|   |   |   |   |   |   |   |--- truncated branch of depth 14\n",
            "|   |   |   |   |   |   |--- Market-Cap >  216082568.00\n",
            "|   |   |   |   |   |   |   |--- truncated branch of depth 10\n",
            "|   |   |   |   |   |--- Gross_Profit_Margin >  0.73\n",
            "|   |   |   |   |   |   |--- Interest_Coverage <= -13.08\n",
            "|   |   |   |   |   |   |   |--- truncated branch of depth 11\n",
            "|   |   |   |   |   |   |--- Interest_Coverage >  -13.08\n",
            "|   |   |   |   |   |   |   |--- truncated branch of depth 14\n",
            "|   |--- P/FCF >  -1.59\n",
            "|   |   |--- FCF_Growth_QOQ <= -1.11\n",
            "|   |   |   |--- Log_Revenue <= 8.26\n",
            "|   |   |   |   |--- Earnings_Growth <= -2.70\n",
            "|   |   |   |   |   |--- Sales_Growth <= 0.09\n",
            "|   |   |   |   |   |   |--- Net_Profit_Margin <= -1.04\n",
            "|   |   |   |   |   |   |   |--- value: [-0.38]\n",
            "|   |   |   |   |   |   |--- Net_Profit_Margin >  -1.04\n",
            "|   |   |   |   |   |   |   |--- value: [-0.02]\n",
            "|   |   |   |   |   |--- Sales_Growth >  0.09\n",
            "|   |   |   |   |   |   |--- value: [0.48]\n",
            "|   |   |   |   |--- Earnings_Growth >  -2.70\n",
            "|   |   |   |   |   |--- P/NCAV <= 2.30\n",
            "|   |   |   |   |   |   |--- P/FCF <= -0.58\n",
            "|   |   |   |   |   |   |   |--- value: [0.15]\n",
            "|   |   |   |   |   |   |--- P/FCF >  -0.58\n",
            "|   |   |   |   |   |   |   |--- truncated branch of depth 4\n",
            "|   |   |   |   |   |--- P/NCAV >  2.30\n",
            "|   |   |   |   |   |   |--- (Dividends_+_Share_Buyback)_/_FCF <= -0.02\n",
            "|   |   |   |   |   |   |   |--- truncated branch of depth 5\n",
            "|   |   |   |   |   |   |--- (Dividends_+_Share_Buyback)_/_FCF >  -0.02\n",
            "|   |   |   |   |   |   |   |--- value: [-0.07]\n",
            "|   |   |   |--- Log_Revenue >  8.26\n",
            "|   |   |   |   |--- Earnings_Growth_QOQ <= -0.97\n",
            "|   |   |   |   |   |--- value: [0.04]\n",
            "|   |   |   |   |--- Earnings_Growth_QOQ >  -0.97\n",
            "|   |   |   |   |   |--- FCF_Growth <= -0.24\n",
            "|   |   |   |   |   |   |--- Log_Revenue <= 9.29\n",
            "|   |   |   |   |   |   |   |--- value: [-0.31]\n",
            "|   |   |   |   |   |   |--- Log_Revenue >  9.29\n",
            "|   |   |   |   |   |   |   |--- value: [-0.21]\n",
            "|   |   |   |   |   |--- FCF_Growth >  -0.24\n",
            "|   |   |   |   |   |   |--- value: [-0.52]\n",
            "|   |   |--- FCF_Growth_QOQ >  -1.11\n",
            "|   |   |   |--- Log_Revenue <= 7.57\n",
            "|   |   |   |   |--- Assets_Growth_YOY <= -0.20\n",
            "|   |   |   |   |   |--- Dividends_/_FCF <= -0.12\n",
            "|   |   |   |   |   |   |--- value: [0.48]\n",
            "|   |   |   |   |   |--- Dividends_/_FCF >  -0.12\n",
            "|   |   |   |   |   |   |--- P/E <= -0.01\n",
            "|   |   |   |   |   |   |   |--- truncated branch of depth 14\n",
            "|   |   |   |   |   |   |--- P/E >  -0.01\n",
            "|   |   |   |   |   |   |   |--- truncated branch of depth 2\n",
            "|   |   |   |   |--- Assets_Growth_YOY >  -0.20\n",
            "|   |   |   |   |   |--- Assets_Growth <= 0.16\n",
            "|   |   |   |   |   |   |--- P/Sales <= 3.31\n",
            "|   |   |   |   |   |   |   |--- truncated branch of depth 4\n",
            "|   |   |   |   |   |   |--- P/Sales >  3.31\n",
            "|   |   |   |   |   |   |   |--- truncated branch of depth 11\n",
            "|   |   |   |   |   |--- Assets_Growth >  0.16\n",
            "|   |   |   |   |   |   |--- P/Cash <= 2.30\n",
            "|   |   |   |   |   |   |   |--- truncated branch of depth 6\n",
            "|   |   |   |   |   |   |--- P/Cash >  2.30\n",
            "|   |   |   |   |   |   |   |--- truncated branch of depth 3\n",
            "|   |   |   |--- Log_Revenue >  7.57\n",
            "|   |   |   |   |--- CapEx_/_(Depr_+_Amor) <= 0.13\n",
            "|   |   |   |   |   |--- Market-Cap <= 141077680.00\n",
            "|   |   |   |   |   |   |--- Interest_Coverage <= -2.78\n",
            "|   |   |   |   |   |   |   |--- truncated branch of depth 2\n",
            "|   |   |   |   |   |   |--- Interest_Coverage >  -2.78\n",
            "|   |   |   |   |   |   |   |--- value: [-0.52]\n",
            "|   |   |   |   |   |--- Market-Cap >  141077680.00\n",
            "|   |   |   |   |   |   |--- Earnings_Growth_YOY <= -2.38\n",
            "|   |   |   |   |   |   |   |--- value: [-0.34]\n",
            "|   |   |   |   |   |   |--- Earnings_Growth_YOY >  -2.38\n",
            "|   |   |   |   |   |   |   |--- truncated branch of depth 6\n",
            "|   |   |   |   |--- CapEx_/_(Depr_+_Amor) >  0.13\n",
            "|   |   |   |   |   |--- P/NetNet <= -1.13\n",
            "|   |   |   |   |   |   |--- Market-Cap <= 1329728832.00\n",
            "|   |   |   |   |   |   |   |--- truncated branch of depth 7\n",
            "|   |   |   |   |   |   |--- Market-Cap >  1329728832.00\n",
            "|   |   |   |   |   |   |   |--- truncated branch of depth 3\n",
            "|   |   |   |   |   |--- P/NetNet >  -1.13\n",
            "|   |   |   |   |   |   |--- Interest_Coverage <= 0.62\n",
            "|   |   |   |   |   |   |   |--- truncated branch of depth 9\n",
            "|   |   |   |   |   |   |--- Interest_Coverage >  0.62\n",
            "|   |   |   |   |   |   |   |--- truncated branch of depth 3\n",
            "|--- Net_Profit_Margin >  -0.69\n",
            "|   |--- P/FCF <= 5.51\n",
            "|   |   |--- Earnings_Yield <= 0.04\n",
            "|   |   |   |--- CapEx_/_(Depr_+_Amor) <= 0.03\n",
            "|   |   |   |   |--- P/NCAV <= -0.01\n",
            "|   |   |   |   |   |--- P/NCAV <= -0.98\n",
            "|   |   |   |   |   |   |--- P/FCF <= -4.56\n",
            "|   |   |   |   |   |   |   |--- truncated branch of depth 6\n",
            "|   |   |   |   |   |   |--- P/FCF >  -4.56\n",
            "|   |   |   |   |   |   |   |--- truncated branch of depth 7\n",
            "|   |   |   |   |   |--- P/NCAV >  -0.98\n",
            "|   |   |   |   |   |   |--- Gross_Profit_Margin <= 0.13\n",
            "|   |   |   |   |   |   |   |--- value: [0.48]\n",
            "|   |   |   |   |   |   |--- Gross_Profit_Margin >  0.13\n",
            "|   |   |   |   |   |   |   |--- truncated branch of depth 9\n",
            "|   |   |   |   |--- P/NCAV >  -0.01\n",
            "|   |   |   |   |   |--- FCF_Yield <= -0.02\n",
            "|   |   |   |   |   |   |--- Asset_Turnover <= 0.31\n",
            "|   |   |   |   |   |   |   |--- truncated branch of depth 3\n",
            "|   |   |   |   |   |   |--- Asset_Turnover >  0.31\n",
            "|   |   |   |   |   |   |   |--- truncated branch of depth 12\n",
            "|   |   |   |   |   |--- FCF_Yield >  -0.02\n",
            "|   |   |   |   |   |   |--- Earnings_Yield <= -0.02\n",
            "|   |   |   |   |   |   |   |--- truncated branch of depth 10\n",
            "|   |   |   |   |   |   |--- Earnings_Yield >  -0.02\n",
            "|   |   |   |   |   |   |   |--- truncated branch of depth 4\n",
            "|   |   |   |--- CapEx_/_(Depr_+_Amor) >  0.03\n",
            "|   |   |   |   |--- Return_on_Assets <= 0.05\n",
            "|   |   |   |   |   |--- Log_Revenue <= 8.00\n",
            "|   |   |   |   |   |   |--- Market-Cap <= 25103085.00\n",
            "|   |   |   |   |   |   |   |--- truncated branch of depth 14\n",
            "|   |   |   |   |   |   |--- Market-Cap >  25103085.00\n",
            "|   |   |   |   |   |   |   |--- truncated branch of depth 14\n",
            "|   |   |   |   |   |--- Log_Revenue >  8.00\n",
            "|   |   |   |   |   |   |--- Return_on_Equity <= -0.81\n",
            "|   |   |   |   |   |   |   |--- truncated branch of depth 14\n",
            "|   |   |   |   |   |   |--- Return_on_Equity >  -0.81\n",
            "|   |   |   |   |   |   |   |--- truncated branch of depth 14\n",
            "|   |   |   |   |--- Return_on_Assets >  0.05\n",
            "|   |   |   |   |   |--- Return_on_Equity <= 0.25\n",
            "|   |   |   |   |   |   |--- P/Cash <= 61.02\n",
            "|   |   |   |   |   |   |   |--- truncated branch of depth 7\n",
            "|   |   |   |   |   |   |--- P/Cash >  61.02\n",
            "|   |   |   |   |   |   |   |--- truncated branch of depth 10\n",
            "|   |   |   |   |   |--- Return_on_Equity >  0.25\n",
            "|   |   |   |   |   |   |--- Assets_Growth_YOY <= 0.27\n",
            "|   |   |   |   |   |   |   |--- truncated branch of depth 5\n",
            "|   |   |   |   |   |   |--- Assets_Growth_YOY >  0.27\n",
            "|   |   |   |   |   |   |   |--- value: [0.38]\n",
            "|   |   |--- Earnings_Yield >  0.04\n",
            "|   |   |   |--- Current_Ratio <= 2.85\n",
            "|   |   |   |   |--- Net_Profit_Margin <= 0.13\n",
            "|   |   |   |   |   |--- P/NetNet <= -1.13\n",
            "|   |   |   |   |   |   |--- Earnings_Growth_QOQ <= -2.53\n",
            "|   |   |   |   |   |   |   |--- truncated branch of depth 9\n",
            "|   |   |   |   |   |   |--- Earnings_Growth_QOQ >  -2.53\n",
            "|   |   |   |   |   |   |   |--- truncated branch of depth 14\n",
            "|   |   |   |   |   |--- P/NetNet >  -1.13\n",
            "|   |   |   |   |   |   |--- Return_on_Assets <= 0.09\n",
            "|   |   |   |   |   |   |   |--- truncated branch of depth 14\n",
            "|   |   |   |   |   |   |--- Return_on_Assets >  0.09\n",
            "|   |   |   |   |   |   |   |--- truncated branch of depth 10\n",
            "|   |   |   |   |--- Net_Profit_Margin >  0.13\n",
            "|   |   |   |   |   |--- Log_Revenue <= 7.86\n",
            "|   |   |   |   |   |   |--- Net_Profit_Margin <= 0.20\n",
            "|   |   |   |   |   |   |   |--- truncated branch of depth 5\n",
            "|   |   |   |   |   |   |--- Net_Profit_Margin >  0.20\n",
            "|   |   |   |   |   |   |   |--- truncated branch of depth 13\n",
            "|   |   |   |   |   |--- Log_Revenue >  7.86\n",
            "|   |   |   |   |   |   |--- P/Cash <= 1.70\n",
            "|   |   |   |   |   |   |   |--- truncated branch of depth 7\n",
            "|   |   |   |   |   |   |--- P/Cash >  1.70\n",
            "|   |   |   |   |   |   |   |--- truncated branch of depth 14\n",
            "|   |   |   |--- Current_Ratio >  2.85\n",
            "|   |   |   |   |--- Asset_Turnover <= 0.96\n",
            "|   |   |   |   |   |--- CapEx_/_(Depr_+_Amor) <= 1.93\n",
            "|   |   |   |   |   |   |--- FCF_Yield <= -0.27\n",
            "|   |   |   |   |   |   |   |--- truncated branch of depth 7\n",
            "|   |   |   |   |   |   |--- FCF_Yield >  -0.27\n",
            "|   |   |   |   |   |   |   |--- truncated branch of depth 14\n",
            "|   |   |   |   |   |--- CapEx_/_(Depr_+_Amor) >  1.93\n",
            "|   |   |   |   |   |   |--- Gross_Profit_Margin <= 0.58\n",
            "|   |   |   |   |   |   |   |--- truncated branch of depth 14\n",
            "|   |   |   |   |   |   |--- Gross_Profit_Margin >  0.58\n",
            "|   |   |   |   |   |   |   |--- truncated branch of depth 9\n",
            "|   |   |   |   |--- Asset_Turnover >  0.96\n",
            "|   |   |   |   |   |--- Gross_Profit_Margin <= 0.98\n",
            "|   |   |   |   |   |   |--- CapEx_/_(Depr_+_Amor) <= 0.38\n",
            "|   |   |   |   |   |   |   |--- truncated branch of depth 7\n",
            "|   |   |   |   |   |   |--- CapEx_/_(Depr_+_Amor) >  0.38\n",
            "|   |   |   |   |   |   |   |--- truncated branch of depth 14\n",
            "|   |   |   |   |   |--- Gross_Profit_Margin >  0.98\n",
            "|   |   |   |   |   |   |--- P/Cash <= 4.14\n",
            "|   |   |   |   |   |   |   |--- truncated branch of depth 4\n",
            "|   |   |   |   |   |   |--- P/Cash >  4.14\n",
            "|   |   |   |   |   |   |   |--- truncated branch of depth 2\n",
            "|   |--- P/FCF >  5.51\n",
            "|   |   |--- (Dividends_+_Share_Buyback)_/_FCF <= 0.05\n",
            "|   |   |   |--- FCF_Growth <= -0.67\n",
            "|   |   |   |   |--- FCF_Growth <= -0.68\n",
            "|   |   |   |   |   |--- P/NetNet <= 3.19\n",
            "|   |   |   |   |   |   |--- Sales_Growth <= 0.03\n",
            "|   |   |   |   |   |   |   |--- truncated branch of depth 14\n",
            "|   |   |   |   |   |   |--- Sales_Growth >  0.03\n",
            "|   |   |   |   |   |   |   |--- truncated branch of depth 14\n",
            "|   |   |   |   |   |--- P/NetNet >  3.19\n",
            "|   |   |   |   |   |   |--- P/FCF <= 18.23\n",
            "|   |   |   |   |   |   |   |--- truncated branch of depth 11\n",
            "|   |   |   |   |   |   |--- P/FCF >  18.23\n",
            "|   |   |   |   |   |   |   |--- truncated branch of depth 14\n",
            "|   |   |   |   |--- FCF_Growth >  -0.68\n",
            "|   |   |   |   |   |--- FCF_Growth_YOY <= -0.59\n",
            "|   |   |   |   |   |   |--- FCF_Yield <= 0.12\n",
            "|   |   |   |   |   |   |   |--- truncated branch of depth 7\n",
            "|   |   |   |   |   |   |--- FCF_Yield >  0.12\n",
            "|   |   |   |   |   |   |   |--- value: [-0.25]\n",
            "|   |   |   |   |   |--- FCF_Growth_YOY >  -0.59\n",
            "|   |   |   |   |   |   |--- P/Sales <= 1.19\n",
            "|   |   |   |   |   |   |   |--- value: [0.07]\n",
            "|   |   |   |   |   |   |--- P/Sales >  1.19\n",
            "|   |   |   |   |   |   |   |--- value: [-0.17]\n",
            "|   |   |   |--- FCF_Growth >  -0.67\n",
            "|   |   |   |   |--- Gross_Profit_Margin <= 0.90\n",
            "|   |   |   |   |   |--- FCF_Growth_YOY <= -0.52\n",
            "|   |   |   |   |   |   |--- Sales_Growth_QOQ <= -0.02\n",
            "|   |   |   |   |   |   |   |--- truncated branch of depth 14\n",
            "|   |   |   |   |   |   |--- Sales_Growth_QOQ >  -0.02\n",
            "|   |   |   |   |   |   |   |--- truncated branch of depth 14\n",
            "|   |   |   |   |   |--- FCF_Growth_YOY >  -0.52\n",
            "|   |   |   |   |   |   |--- CapEx_/_(Depr_+_Amor) <= 3.30\n",
            "|   |   |   |   |   |   |   |--- truncated branch of depth 14\n",
            "|   |   |   |   |   |   |--- CapEx_/_(Depr_+_Amor) >  3.30\n",
            "|   |   |   |   |   |   |   |--- truncated branch of depth 7\n",
            "|   |   |   |   |--- Gross_Profit_Margin >  0.90\n",
            "|   |   |   |   |   |--- Interest_Coverage <= 4.63\n",
            "|   |   |   |   |   |   |--- Net_Profit_Margin <= -0.02\n",
            "|   |   |   |   |   |   |   |--- truncated branch of depth 7\n",
            "|   |   |   |   |   |   |--- Net_Profit_Margin >  -0.02\n",
            "|   |   |   |   |   |   |   |--- truncated branch of depth 13\n",
            "|   |   |   |   |   |--- Interest_Coverage >  4.63\n",
            "|   |   |   |   |   |   |--- Market-Cap <= 2376769792.00\n",
            "|   |   |   |   |   |   |   |--- truncated branch of depth 5\n",
            "|   |   |   |   |   |   |--- Market-Cap >  2376769792.00\n",
            "|   |   |   |   |   |   |   |--- truncated branch of depth 9\n",
            "|   |   |--- (Dividends_+_Share_Buyback)_/_FCF >  0.05\n",
            "|   |   |   |--- Gross_Profit_Margin <= 0.65\n",
            "|   |   |   |   |--- CapEx_/_(Depr_+_Amor) <= 1.21\n",
            "|   |   |   |   |   |--- Sales_Growth <= 0.01\n",
            "|   |   |   |   |   |   |--- Quick_Ratio <= 0.73\n",
            "|   |   |   |   |   |   |   |--- truncated branch of depth 14\n",
            "|   |   |   |   |   |   |--- Quick_Ratio >  0.73\n",
            "|   |   |   |   |   |   |   |--- truncated branch of depth 14\n",
            "|   |   |   |   |   |--- Sales_Growth >  0.01\n",
            "|   |   |   |   |   |   |--- Asset_Turnover <= 0.63\n",
            "|   |   |   |   |   |   |   |--- truncated branch of depth 14\n",
            "|   |   |   |   |   |   |--- Asset_Turnover >  0.63\n",
            "|   |   |   |   |   |   |   |--- truncated branch of depth 14\n",
            "|   |   |   |   |--- CapEx_/_(Depr_+_Amor) >  1.21\n",
            "|   |   |   |   |   |--- CapEx_/_(Depr_+_Amor) <= 2.77\n",
            "|   |   |   |   |   |   |--- Market-Cap <= 3831800960.00\n",
            "|   |   |   |   |   |   |   |--- truncated branch of depth 14\n",
            "|   |   |   |   |   |   |--- Market-Cap >  3831800960.00\n",
            "|   |   |   |   |   |   |   |--- truncated branch of depth 14\n",
            "|   |   |   |   |   |--- CapEx_/_(Depr_+_Amor) >  2.77\n",
            "|   |   |   |   |   |   |--- Earnings_Yield <= 0.04\n",
            "|   |   |   |   |   |   |   |--- truncated branch of depth 9\n",
            "|   |   |   |   |   |   |--- Earnings_Yield >  0.04\n",
            "|   |   |   |   |   |   |   |--- truncated branch of depth 14\n",
            "|   |   |   |--- Gross_Profit_Margin >  0.65\n",
            "|   |   |   |   |--- FCF_Growth <= -0.84\n",
            "|   |   |   |   |   |--- Current_Ratio <= 0.88\n",
            "|   |   |   |   |   |   |--- Interest_Coverage <= 50.58\n",
            "|   |   |   |   |   |   |   |--- truncated branch of depth 13\n",
            "|   |   |   |   |   |   |--- Interest_Coverage >  50.58\n",
            "|   |   |   |   |   |   |   |--- truncated branch of depth 2\n",
            "|   |   |   |   |   |--- Current_Ratio >  0.88\n",
            "|   |   |   |   |   |   |--- CapEx_/_(Depr_+_Amor) <= 0.07\n",
            "|   |   |   |   |   |   |   |--- truncated branch of depth 6\n",
            "|   |   |   |   |   |   |--- CapEx_/_(Depr_+_Amor) >  0.07\n",
            "|   |   |   |   |   |   |   |--- truncated branch of depth 13\n",
            "|   |   |   |   |--- FCF_Growth >  -0.84\n",
            "|   |   |   |   |   |--- Share_Buyback_/_FCF <= 0.31\n",
            "|   |   |   |   |   |   |--- Net_Profit_Margin <= -0.06\n",
            "|   |   |   |   |   |   |   |--- truncated branch of depth 9\n",
            "|   |   |   |   |   |   |--- Net_Profit_Margin >  -0.06\n",
            "|   |   |   |   |   |   |   |--- truncated branch of depth 14\n",
            "|   |   |   |   |   |--- Share_Buyback_/_FCF >  0.31\n",
            "|   |   |   |   |   |   |--- Earnings_Yield <= 0.10\n",
            "|   |   |   |   |   |   |   |--- truncated branch of depth 14\n",
            "|   |   |   |   |   |   |--- Earnings_Yield >  0.10\n",
            "|   |   |   |   |   |   |   |--- truncated branch of depth 10\n",
            "\n"
          ],
          "name": "stdout"
        }
      ]
    },
    {
      "cell_type": "markdown",
      "metadata": {
        "id": "EV3slkrCI12s"
      },
      "source": [
        "We can also show the mutual importance of the signals (aka. features) in the model, and compare it to their correlation with the stock-returns. These are often quite different. The signals with highest correlations to the future stock-returns, are not necessarily the ones that were most important to the model. But remember that correlation only measures the linear relation between signals and stock-returns, while the Random Forest can find complicated non-linear relations."
      ]
    },
    {
      "cell_type": "code",
      "metadata": {
        "colab": {
          "base_uri": "https://localhost:8080/",
          "height": 1000
        },
        "id": "xBXXqCjdI3vO",
        "outputId": "ae3dc39c-0a54-4c00-91ef-e3e670b235d2"
      },
      "source": [
        "compare_feature_imp_corr(regr)"
      ],
      "execution_count": 38,
      "outputs": [
        {
          "output_type": "execute_result",
          "data": {
            "text/html": [
              "<div>\n",
              "<style scoped>\n",
              "    .dataframe tbody tr th:only-of-type {\n",
              "        vertical-align: middle;\n",
              "    }\n",
              "\n",
              "    .dataframe tbody tr th {\n",
              "        vertical-align: top;\n",
              "    }\n",
              "\n",
              "    .dataframe thead th {\n",
              "        text-align: right;\n",
              "    }\n",
              "</style>\n",
              "<table border=\"1\" class=\"dataframe\">\n",
              "  <thead>\n",
              "    <tr style=\"text-align: right;\">\n",
              "      <th></th>\n",
              "      <th>Feature Importance</th>\n",
              "      <th>Return Correlation</th>\n",
              "    </tr>\n",
              "  </thead>\n",
              "  <tbody>\n",
              "    <tr>\n",
              "      <th>Net Profit Margin</th>\n",
              "      <td>0.062059</td>\n",
              "      <td>0.180413</td>\n",
              "    </tr>\n",
              "    <tr>\n",
              "      <th>Log Revenue</th>\n",
              "      <td>0.061262</td>\n",
              "      <td>0.131642</td>\n",
              "    </tr>\n",
              "    <tr>\n",
              "      <th>Gross Profit Margin</th>\n",
              "      <td>0.058579</td>\n",
              "      <td>0.011243</td>\n",
              "    </tr>\n",
              "    <tr>\n",
              "      <th>Asset Turnover</th>\n",
              "      <td>0.050048</td>\n",
              "      <td>0.029806</td>\n",
              "    </tr>\n",
              "    <tr>\n",
              "      <th>Market-Cap</th>\n",
              "      <td>0.049964</td>\n",
              "      <td>0.058252</td>\n",
              "    </tr>\n",
              "    <tr>\n",
              "      <th>CapEx / (Depr + Amor)</th>\n",
              "      <td>0.045054</td>\n",
              "      <td>0.041523</td>\n",
              "    </tr>\n",
              "    <tr>\n",
              "      <th>Interest Coverage</th>\n",
              "      <td>0.038822</td>\n",
              "      <td>0.014208</td>\n",
              "    </tr>\n",
              "    <tr>\n",
              "      <th>P/NCAV</th>\n",
              "      <td>0.037763</td>\n",
              "      <td>0.031360</td>\n",
              "    </tr>\n",
              "    <tr>\n",
              "      <th>Current Ratio</th>\n",
              "      <td>0.036938</td>\n",
              "      <td>0.060161</td>\n",
              "    </tr>\n",
              "    <tr>\n",
              "      <th>Quick Ratio</th>\n",
              "      <td>0.034829</td>\n",
              "      <td>0.040606</td>\n",
              "    </tr>\n",
              "    <tr>\n",
              "      <th>(Dividends + Share Buyback) / FCF</th>\n",
              "      <td>0.032754</td>\n",
              "      <td>0.031616</td>\n",
              "    </tr>\n",
              "    <tr>\n",
              "      <th>P/Cash</th>\n",
              "      <td>0.031873</td>\n",
              "      <td>0.016435</td>\n",
              "    </tr>\n",
              "    <tr>\n",
              "      <th>Return on Equity</th>\n",
              "      <td>0.030978</td>\n",
              "      <td>0.122219</td>\n",
              "    </tr>\n",
              "    <tr>\n",
              "      <th>Price to Book Value</th>\n",
              "      <td>0.029340</td>\n",
              "      <td>0.033884</td>\n",
              "    </tr>\n",
              "    <tr>\n",
              "      <th>P/Sales</th>\n",
              "      <td>0.028635</td>\n",
              "      <td>0.061844</td>\n",
              "    </tr>\n",
              "    <tr>\n",
              "      <th>Sales Growth</th>\n",
              "      <td>0.027868</td>\n",
              "      <td>0.012628</td>\n",
              "    </tr>\n",
              "    <tr>\n",
              "      <th>P/FCF</th>\n",
              "      <td>0.027381</td>\n",
              "      <td>0.063388</td>\n",
              "    </tr>\n",
              "    <tr>\n",
              "      <th>P/NetNet</th>\n",
              "      <td>0.026414</td>\n",
              "      <td>0.027302</td>\n",
              "    </tr>\n",
              "    <tr>\n",
              "      <th>FCF Growth</th>\n",
              "      <td>0.026366</td>\n",
              "      <td>0.027016</td>\n",
              "    </tr>\n",
              "    <tr>\n",
              "      <th>Earnings Growth</th>\n",
              "      <td>0.024192</td>\n",
              "      <td>0.021566</td>\n",
              "    </tr>\n",
              "    <tr>\n",
              "      <th>Share Buyback / FCF</th>\n",
              "      <td>0.022100</td>\n",
              "      <td>0.022867</td>\n",
              "    </tr>\n",
              "    <tr>\n",
              "      <th>Return on Assets</th>\n",
              "      <td>0.021490</td>\n",
              "      <td>0.167867</td>\n",
              "    </tr>\n",
              "    <tr>\n",
              "      <th>Sales Growth YOY</th>\n",
              "      <td>0.020350</td>\n",
              "      <td>0.011828</td>\n",
              "    </tr>\n",
              "    <tr>\n",
              "      <th>FCF Yield</th>\n",
              "      <td>0.018756</td>\n",
              "      <td>0.117659</td>\n",
              "    </tr>\n",
              "    <tr>\n",
              "      <th>Earnings Yield</th>\n",
              "      <td>0.018086</td>\n",
              "      <td>0.150990</td>\n",
              "    </tr>\n",
              "    <tr>\n",
              "      <th>P/E</th>\n",
              "      <td>0.017671</td>\n",
              "      <td>0.073909</td>\n",
              "    </tr>\n",
              "    <tr>\n",
              "      <th>Dividends / FCF</th>\n",
              "      <td>0.016634</td>\n",
              "      <td>0.048962</td>\n",
              "    </tr>\n",
              "    <tr>\n",
              "      <th>Sales Growth QOQ</th>\n",
              "      <td>0.015835</td>\n",
              "      <td>0.019988</td>\n",
              "    </tr>\n",
              "    <tr>\n",
              "      <th>FCF Growth QOQ</th>\n",
              "      <td>0.013685</td>\n",
              "      <td>0.013165</td>\n",
              "    </tr>\n",
              "    <tr>\n",
              "      <th>FCF Growth YOY</th>\n",
              "      <td>0.013464</td>\n",
              "      <td>0.022877</td>\n",
              "    </tr>\n",
              "    <tr>\n",
              "      <th>Earnings Growth YOY</th>\n",
              "      <td>0.012871</td>\n",
              "      <td>0.019865</td>\n",
              "    </tr>\n",
              "    <tr>\n",
              "      <th>Assets Growth YOY</th>\n",
              "      <td>0.012373</td>\n",
              "      <td>0.023676</td>\n",
              "    </tr>\n",
              "    <tr>\n",
              "      <th>Assets Growth QOQ</th>\n",
              "      <td>0.012298</td>\n",
              "      <td>0.024992</td>\n",
              "    </tr>\n",
              "    <tr>\n",
              "      <th>Assets Growth</th>\n",
              "      <td>0.012042</td>\n",
              "      <td>0.023894</td>\n",
              "    </tr>\n",
              "    <tr>\n",
              "      <th>Earnings Growth QOQ</th>\n",
              "      <td>0.011229</td>\n",
              "      <td>0.020012</td>\n",
              "    </tr>\n",
              "  </tbody>\n",
              "</table>\n",
              "</div>"
            ],
            "text/plain": [
              "                                   Feature Importance  Return Correlation\n",
              "Net Profit Margin                            0.062059            0.180413\n",
              "Log Revenue                                  0.061262            0.131642\n",
              "Gross Profit Margin                          0.058579            0.011243\n",
              "Asset Turnover                               0.050048            0.029806\n",
              "Market-Cap                                   0.049964            0.058252\n",
              "CapEx / (Depr + Amor)                        0.045054            0.041523\n",
              "Interest Coverage                            0.038822            0.014208\n",
              "P/NCAV                                       0.037763            0.031360\n",
              "Current Ratio                                0.036938            0.060161\n",
              "Quick Ratio                                  0.034829            0.040606\n",
              "(Dividends + Share Buyback) / FCF            0.032754            0.031616\n",
              "P/Cash                                       0.031873            0.016435\n",
              "Return on Equity                             0.030978            0.122219\n",
              "Price to Book Value                          0.029340            0.033884\n",
              "P/Sales                                      0.028635            0.061844\n",
              "Sales Growth                                 0.027868            0.012628\n",
              "P/FCF                                        0.027381            0.063388\n",
              "P/NetNet                                     0.026414            0.027302\n",
              "FCF Growth                                   0.026366            0.027016\n",
              "Earnings Growth                              0.024192            0.021566\n",
              "Share Buyback / FCF                          0.022100            0.022867\n",
              "Return on Assets                             0.021490            0.167867\n",
              "Sales Growth YOY                             0.020350            0.011828\n",
              "FCF Yield                                    0.018756            0.117659\n",
              "Earnings Yield                               0.018086            0.150990\n",
              "P/E                                          0.017671            0.073909\n",
              "Dividends / FCF                              0.016634            0.048962\n",
              "Sales Growth QOQ                             0.015835            0.019988\n",
              "FCF Growth QOQ                               0.013685            0.013165\n",
              "FCF Growth YOY                               0.013464            0.022877\n",
              "Earnings Growth YOY                          0.012871            0.019865\n",
              "Assets Growth YOY                            0.012373            0.023676\n",
              "Assets Growth QOQ                            0.012298            0.024992\n",
              "Assets Growth                                0.012042            0.023894\n",
              "Earnings Growth QOQ                          0.011229            0.020012"
            ]
          },
          "metadata": {
            "tags": []
          },
          "execution_count": 38
        }
      ]
    },
    {
      "cell_type": "markdown",
      "metadata": {
        "id": "ZcbpfxEBI9Cm"
      },
      "source": [
        "## **Regression Results**\n",
        "Let us now see how well the Machine Learning model performs. First we use the fitted model to predict the stock-returns for the training- and test-sets:"
      ]
    },
    {
      "cell_type": "code",
      "metadata": {
        "colab": {
          "base_uri": "https://localhost:8080/"
        },
        "id": "1B1sAe-zJDMX",
        "outputId": "0c5b7641-e83b-4d7e-c795-a027f5608734"
      },
      "source": [
        "%%time\n",
        "y_train_pred = regr.predict(X_train)\n",
        "y_test_pred = regr.predict(X_test)"
      ],
      "execution_count": 39,
      "outputs": [
        {
          "output_type": "stream",
          "text": [
            "CPU times: user 20.7 s, sys: 255 ms, total: 21 s\n",
            "Wall time: 5.95 s\n"
          ],
          "name": "stdout"
        }
      ]
    },
    {
      "cell_type": "markdown",
      "metadata": {
        "id": "9N9h_FDEJFxW"
      },
      "source": [
        "We can then calculate the $R^2$ value (aka. the coefficient of determination) between the actual stock-returns and those predicted by the model. A value of 1 means a perfect prediction, while a value of 0 means the model basically predicted the average stock-return, and a negative value means the model's prediction was worse than just using the average stock-return.\n",
        "\n",
        "As we can see, the $R^2$ value is quite high for the training-set, so the model has learned to map the signals X to stock-returns y quite well for the training-set:"
      ]
    },
    {
      "cell_type": "code",
      "metadata": {
        "colab": {
          "base_uri": "https://localhost:8080/"
        },
        "id": "3O6x6qiZJIXz",
        "outputId": "1c5f8305-beda-4dab-db86-669969ef2eb4"
      },
      "source": [
        "r2_score(y_true=y_train, y_pred=y_train_pred)"
      ],
      "execution_count": 40,
      "outputs": [
        {
          "output_type": "execute_result",
          "data": {
            "text/plain": [
              "0.9434606448336921"
            ]
          },
          "metadata": {
            "tags": []
          },
          "execution_count": 40
        }
      ]
    },
    {
      "cell_type": "markdown",
      "metadata": {
        "id": "HvRGPNKsJLeP"
      },
      "source": [
        "But the $R^2$ value is very bad for the test-set, so the model has not really learned the underlying relation between the signals X and stock-returns y. The model has merely learned noise or peculiarities in the training-data, which do not generalize to the unseen data in the test-set:"
      ]
    },
    {
      "cell_type": "code",
      "metadata": {
        "colab": {
          "base_uri": "https://localhost:8080/"
        },
        "id": "GvaepCF9JMpc",
        "outputId": "914848be-92fd-4c23-fa3b-448225102adc"
      },
      "source": [
        "r2_score(y_true=y_test, y_pred=y_test_pred)"
      ],
      "execution_count": 41,
      "outputs": [
        {
          "output_type": "execute_result",
          "data": {
            "text/plain": [
              "-0.12705535141049906"
            ]
          },
          "metadata": {
            "tags": []
          },
          "execution_count": 41
        }
      ]
    },
    {
      "cell_type": "markdown",
      "metadata": {
        "id": "QbmzYwOqJQzQ"
      },
      "source": [
        "## **Regression Examples**\n",
        "\n",
        "We can also try and plot the model's predicted versus actual stock-returns for a stock in the training-set. As we can see, the model has learned this mapping quite well:"
      ]
    },
    {
      "cell_type": "code",
      "metadata": {
        "colab": {
          "base_uri": "https://localhost:8080/",
          "height": 285
        },
        "id": "bCaRBI0IJVZV",
        "outputId": "9c225170-bc7f-4e79-8bf6-9601f924e09f"
      },
      "source": [
        "# Column-name for the models' predicted stock-returns.\n",
        "TOTAL_RETURN_PRED = 'Total Return Predicted'\n",
        "\n",
        "# Create a DataFrame with actual and predicted stock-returns.\n",
        "# This is for the training-set.\n",
        "df_y_train = pd.DataFrame(y_train)\n",
        "df_y_train[TOTAL_RETURN_PRED] = y_train_pred\n",
        "\n",
        "# Plot the actual and predicted stock-returns for the first stock.\n",
        "ticker = tickers_train[0]\n",
        "_ = df_y_train.loc[ticker].plot(title=ticker)"
      ],
      "execution_count": 42,
      "outputs": [
        {
          "output_type": "display_data",
          "data": {
            "image/png": "[encoded data removed]",
            "text/plain": [
              "<Figure size 432x288 with 1 Axes>"
            ]
          },
          "metadata": {
            "tags": []
          }
        }
      ]
    },
    {
      "cell_type": "markdown",
      "metadata": {
        "id": "A7BdBUdJJcXZ"
      },
      "source": [
        "Now let us try and plot the model's predicted versus actual stock-returns for the first stock in the test-set. As we can see, the model is completely unable to predict the stock-returns, for this data that it has not seen during its training:"
      ]
    },
    {
      "cell_type": "code",
      "metadata": {
        "colab": {
          "base_uri": "https://localhost:8080/",
          "height": 293
        },
        "id": "MdedAUvjJdIa",
        "outputId": "e6105aa3-5423-47d6-8740-2f524eb4edbf"
      },
      "source": [
        "# Create a DataFrame with actual and predicted stock-returns.\n",
        "# This is for the test-set.\n",
        "df_y_test = pd.DataFrame(y_test)\n",
        "df_y_test[TOTAL_RETURN_PRED] = y_test_pred\n",
        "\n",
        "# Plot the actual and predicted stock-returns for the first stock.\n",
        "ticker = tickers_test[0]\n",
        "_ = df_y_test.loc[ticker].plot(title=ticker)"
      ],
      "execution_count": 66,
      "outputs": [
        {
          "output_type": "display_data",
          "data": {
            "image/png": "[encoded data removed]",
            "text/plain": [
              "<Figure size 432x288 with 1 Axes>"
            ]
          },
          "metadata": {
            "tags": []
          }
        }
      ]
    },
    {
      "cell_type": "code",
      "metadata": {
        "id": "58awDCS-hvri"
      },
      "source": [
        ""
      ],
      "execution_count": null,
      "outputs": []
    },
    {
      "cell_type": "code",
      "metadata": {
        "id": "GWhmWuqlhvuB"
      },
      "source": [
        ""
      ],
      "execution_count": null,
      "outputs": []
    },
    {
      "cell_type": "markdown",
      "metadata": {
        "id": "TkQkitOLJhT8"
      },
      "source": [
        "## **Machine Learning: Classification**\n",
        "\n",
        "Instead of mapping from signals x to a continuous variable y for the stock-return, we can try and map to discrete output-classes that indicate if the stock-return was a gain or loss. This is a so-called binary classification problem, and perhaps that is easier for the Machine Learning model.\n",
        "\n",
        "First we need to convert the stock-returns into values of either 1.0 for gains or -1.0 for losses, and then split into training- and test-sets:"
      ]
    },
    {
      "cell_type": "code",
      "metadata": {
        "colab": {
          "base_uri": "https://localhost:8080/"
        },
        "id": "ksodvPH-Oqtv",
        "outputId": "19391cd1-64ef-41a4-fed2-2296423f5978"
      },
      "source": [
        "%%time\n",
        "# Convert stock-returns to binary classes by taking the sign.\n",
        "df_cls = np.sign(df_sig_rets[TOTAL_RETURN_1_3Y])\n",
        "\n",
        "# Split the classes into training- and test-sets.\n",
        "y_train_cls = df_cls.loc[tickers_train]\n",
        "y_test_cls = df_cls.loc[tickers_test]"
      ],
      "execution_count": 44,
      "outputs": [
        {
          "output_type": "stream",
          "text": [
            "CPU times: user 76.8 ms, sys: 7 ms, total: 83.8 ms\n",
            "Wall time: 83.7 ms\n"
          ],
          "name": "stdout"
        }
      ]
    },
    {
      "cell_type": "markdown",
      "metadata": {
        "id": "ajUZU-XbJz8N"
      },
      "source": [
        "The training-set is biased because it contains many more stocks with gains than losses:"
      ]
    },
    {
      "cell_type": "code",
      "metadata": {
        "colab": {
          "base_uri": "https://localhost:8080/"
        },
        "id": "nAjZT89tNjP5",
        "outputId": "a4088e8a-77a6-4549-b307-17987e60ae73"
      },
      "source": [
        "# Fraction of the training-set that is classified as gains.\n",
        "(y_train_cls == 1.0).sum() / len(y_train_cls)"
      ],
      "execution_count": 45,
      "outputs": [
        {
          "output_type": "execute_result",
          "data": {
            "text/plain": [
              "0.701823936499772"
            ]
          },
          "metadata": {
            "tags": []
          },
          "execution_count": 45
        }
      ]
    },
    {
      "cell_type": "markdown",
      "metadata": {
        "id": "TpqtrpDTJ4oV"
      },
      "source": [
        "We instruct the Machine Learning model to take this bias into account, by setting class_weight='balanced', and otherwise use the same arguments as above:"
      ]
    },
    {
      "cell_type": "code",
      "metadata": {
        "id": "3KnRekppNmUw"
      },
      "source": [
        "clf = RandomForestClassifier(class_weight='balanced', **model_args)"
      ],
      "execution_count": 46,
      "outputs": []
    },
    {
      "cell_type": "markdown",
      "metadata": {
        "id": "iLdOExxDJ9jx"
      },
      "source": [
        "We can then fit the model to the training-data. This is much faster then for the regression model above, because we only have a binary class as output:"
      ]
    },
    {
      "cell_type": "code",
      "metadata": {
        "colab": {
          "base_uri": "https://localhost:8080/"
        },
        "id": "wPDBusC-Nqqk",
        "outputId": "22a2a9c1-c9cf-4c60-b3a9-d1c5acdde4f7"
      },
      "source": [
        "%%time\n",
        "_ = clf.fit(X=X_train, y=y_train_cls)"
      ],
      "execution_count": 47,
      "outputs": [
        {
          "output_type": "stream",
          "text": [
            "CPU times: user 12min 26s, sys: 1.23 s, total: 12min 27s\n",
            "Wall time: 3min 9s\n"
          ],
          "name": "stdout"
        }
      ]
    },
    {
      "cell_type": "markdown",
      "metadata": {
        "id": "v-bWW0EMKCfi"
      },
      "source": [
        "As for the regression model above, the Random Forest consists of 100 Decision Trees, which are basically just nested if-then-else statements that split the input signals, to try and find a mapping that fits the input and output of the training-data."
      ]
    },
    {
      "cell_type": "code",
      "metadata": {
        "colab": {
          "base_uri": "https://localhost:8080/"
        },
        "id": "otYe1CmVPDPq",
        "outputId": "c6a39ce1-fb20-4bff-fc19-396dc1331974"
      },
      "source": [
        "print_tree(clf)"
      ],
      "execution_count": 48,
      "outputs": [
        {
          "output_type": "stream",
          "text": [
            "|--- Log_Revenue <= 8.13\n",
            "|   |--- P/E <= -0.01\n",
            "|   |   |--- P/Sales <= 4.98\n",
            "|   |   |   |--- FCF_Yield <= -0.29\n",
            "|   |   |   |   |--- P/E <= -3.26\n",
            "|   |   |   |   |   |--- Current_Ratio <= 3.59\n",
            "|   |   |   |   |   |   |--- Log_Revenue <= 7.61\n",
            "|   |   |   |   |   |   |   |--- truncated branch of depth 5\n",
            "|   |   |   |   |   |   |--- Log_Revenue >  7.61\n",
            "|   |   |   |   |   |   |   |--- truncated branch of depth 4\n",
            "|   |   |   |   |   |--- Current_Ratio >  3.59\n",
            "|   |   |   |   |   |   |--- Earnings_Yield <= -0.16\n",
            "|   |   |   |   |   |   |   |--- truncated branch of depth 2\n",
            "|   |   |   |   |   |   |--- Earnings_Yield >  -0.16\n",
            "|   |   |   |   |   |   |   |--- class: 0.0\n",
            "|   |   |   |   |--- P/E >  -3.26\n",
            "|   |   |   |   |   |--- FCF_Growth_YOY <= -1.16\n",
            "|   |   |   |   |   |   |--- Log_Revenue <= 7.91\n",
            "|   |   |   |   |   |   |   |--- truncated branch of depth 5\n",
            "|   |   |   |   |   |   |--- Log_Revenue >  7.91\n",
            "|   |   |   |   |   |   |   |--- truncated branch of depth 2\n",
            "|   |   |   |   |   |--- FCF_Growth_YOY >  -1.16\n",
            "|   |   |   |   |   |   |--- (Dividends_+_Share_Buyback)_/_FCF <= 1.60\n",
            "|   |   |   |   |   |   |   |--- truncated branch of depth 14\n",
            "|   |   |   |   |   |   |--- (Dividends_+_Share_Buyback)_/_FCF >  1.60\n",
            "|   |   |   |   |   |   |   |--- truncated branch of depth 3\n",
            "|   |   |   |--- FCF_Yield >  -0.29\n",
            "|   |   |   |   |--- Dividends_/_FCF <= 0.35\n",
            "|   |   |   |   |   |--- Gross_Profit_Margin <= 0.45\n",
            "|   |   |   |   |   |   |--- P/NCAV <= -10.46\n",
            "|   |   |   |   |   |   |   |--- truncated branch of depth 10\n",
            "|   |   |   |   |   |   |--- P/NCAV >  -10.46\n",
            "|   |   |   |   |   |   |   |--- truncated branch of depth 14\n",
            "|   |   |   |   |   |--- Gross_Profit_Margin >  0.45\n",
            "|   |   |   |   |   |   |--- CapEx_/_(Depr_+_Amor) <= 0.61\n",
            "|   |   |   |   |   |   |   |--- truncated branch of depth 14\n",
            "|   |   |   |   |   |   |--- CapEx_/_(Depr_+_Amor) >  0.61\n",
            "|   |   |   |   |   |   |   |--- truncated branch of depth 12\n",
            "|   |   |   |   |--- Dividends_/_FCF >  0.35\n",
            "|   |   |   |   |   |--- Log_Revenue <= 8.11\n",
            "|   |   |   |   |   |   |--- CapEx_/_(Depr_+_Amor) <= 1.95\n",
            "|   |   |   |   |   |   |   |--- truncated branch of depth 2\n",
            "|   |   |   |   |   |   |--- CapEx_/_(Depr_+_Amor) >  1.95\n",
            "|   |   |   |   |   |   |   |--- class: 1.0\n",
            "|   |   |   |   |   |--- Log_Revenue >  8.11\n",
            "|   |   |   |   |   |   |--- class: 0.0\n",
            "|   |   |--- P/Sales >  4.98\n",
            "|   |   |   |--- Share_Buyback_/_FCF <= 0.03\n",
            "|   |   |   |   |--- Earnings_Yield <= -0.19\n",
            "|   |   |   |   |   |--- Market-Cap <= 65758382.00\n",
            "|   |   |   |   |   |   |--- Earnings_Yield <= -0.25\n",
            "|   |   |   |   |   |   |   |--- truncated branch of depth 8\n",
            "|   |   |   |   |   |   |--- Earnings_Yield >  -0.25\n",
            "|   |   |   |   |   |   |   |--- class: 1.0\n",
            "|   |   |   |   |   |--- Market-Cap >  65758382.00\n",
            "|   |   |   |   |   |   |--- Return_on_Assets <= -0.37\n",
            "|   |   |   |   |   |   |   |--- truncated branch of depth 9\n",
            "|   |   |   |   |   |   |--- Return_on_Assets >  -0.37\n",
            "|   |   |   |   |   |   |   |--- truncated branch of depth 5\n",
            "|   |   |   |   |--- Earnings_Yield >  -0.19\n",
            "|   |   |   |   |   |--- P/FCF <= 22.93\n",
            "|   |   |   |   |   |   |--- Return_on_Equity <= -0.29\n",
            "|   |   |   |   |   |   |   |--- truncated branch of depth 11\n",
            "|   |   |   |   |   |   |--- Return_on_Equity >  -0.29\n",
            "|   |   |   |   |   |   |   |--- truncated branch of depth 7\n",
            "|   |   |   |   |   |--- P/FCF >  22.93\n",
            "|   |   |   |   |   |   |--- Interest_Coverage <= 0.05\n",
            "|   |   |   |   |   |   |   |--- truncated branch of depth 6\n",
            "|   |   |   |   |   |   |--- Interest_Coverage >  0.05\n",
            "|   |   |   |   |   |   |   |--- truncated branch of depth 3\n",
            "|   |   |   |--- Share_Buyback_/_FCF >  0.03\n",
            "|   |   |   |   |--- CapEx_/_(Depr_+_Amor) <= 0.70\n",
            "|   |   |   |   |   |--- FCF_Growth <= -0.60\n",
            "|   |   |   |   |   |   |--- Assets_Growth_YOY <= 0.52\n",
            "|   |   |   |   |   |   |   |--- truncated branch of depth 5\n",
            "|   |   |   |   |   |   |--- Assets_Growth_YOY >  0.52\n",
            "|   |   |   |   |   |   |   |--- class: 0.0\n",
            "|   |   |   |   |   |--- FCF_Growth >  -0.60\n",
            "|   |   |   |   |   |   |--- Earnings_Growth <= -0.67\n",
            "|   |   |   |   |   |   |   |--- truncated branch of depth 6\n",
            "|   |   |   |   |   |   |--- Earnings_Growth >  -0.67\n",
            "|   |   |   |   |   |   |   |--- truncated branch of depth 14\n",
            "|   |   |   |   |--- CapEx_/_(Depr_+_Amor) >  0.70\n",
            "|   |   |   |   |   |--- Return_on_Assets <= 0.00\n",
            "|   |   |   |   |   |   |--- Log_Revenue <= 7.98\n",
            "|   |   |   |   |   |   |   |--- truncated branch of depth 14\n",
            "|   |   |   |   |   |   |--- Log_Revenue >  7.98\n",
            "|   |   |   |   |   |   |   |--- truncated branch of depth 2\n",
            "|   |   |   |   |   |--- Return_on_Assets >  0.00\n",
            "|   |   |   |   |   |   |--- class: 1.0\n",
            "|   |--- P/E >  -0.01\n",
            "|   |   |--- P/Sales <= 5.17\n",
            "|   |   |   |--- Log_Revenue <= 7.45\n",
            "|   |   |   |   |--- FCF_Growth <= -1.43\n",
            "|   |   |   |   |   |--- Sales_Growth <= -0.05\n",
            "|   |   |   |   |   |   |--- Assets_Growth_QOQ <= -0.05\n",
            "|   |   |   |   |   |   |   |--- class: 0.0\n",
            "|   |   |   |   |   |   |--- Assets_Growth_QOQ >  -0.05\n",
            "|   |   |   |   |   |   |   |--- truncated branch of depth 3\n",
            "|   |   |   |   |   |--- Sales_Growth >  -0.05\n",
            "|   |   |   |   |   |   |--- Share_Buyback_/_FCF <= -0.61\n",
            "|   |   |   |   |   |   |   |--- class: 0.0\n",
            "|   |   |   |   |   |   |--- Share_Buyback_/_FCF >  -0.61\n",
            "|   |   |   |   |   |   |   |--- truncated branch of depth 6\n",
            "|   |   |   |   |--- FCF_Growth >  -1.43\n",
            "|   |   |   |   |   |--- P/NCAV <= -22.44\n",
            "|   |   |   |   |   |   |--- Interest_Coverage <= 15.14\n",
            "|   |   |   |   |   |   |   |--- truncated branch of depth 5\n",
            "|   |   |   |   |   |   |--- Interest_Coverage >  15.14\n",
            "|   |   |   |   |   |   |   |--- class: 0.0\n",
            "|   |   |   |   |   |--- P/NCAV >  -22.44\n",
            "|   |   |   |   |   |   |--- Earnings_Growth_YOY <= -0.07\n",
            "|   |   |   |   |   |   |   |--- truncated branch of depth 14\n",
            "|   |   |   |   |   |   |--- Earnings_Growth_YOY >  -0.07\n",
            "|   |   |   |   |   |   |   |--- truncated branch of depth 11\n",
            "|   |   |   |--- Log_Revenue >  7.45\n",
            "|   |   |   |   |--- P/Cash <= 2.61\n",
            "|   |   |   |   |   |--- Assets_Growth <= 0.06\n",
            "|   |   |   |   |   |   |--- Log_Revenue <= 8.12\n",
            "|   |   |   |   |   |   |   |--- truncated branch of depth 4\n",
            "|   |   |   |   |   |   |--- Log_Revenue >  8.12\n",
            "|   |   |   |   |   |   |   |--- class: 0.0\n",
            "|   |   |   |   |   |--- Assets_Growth >  0.06\n",
            "|   |   |   |   |   |   |--- (Dividends_+_Share_Buyback)_/_FCF <= -0.00\n",
            "|   |   |   |   |   |   |   |--- truncated branch of depth 3\n",
            "|   |   |   |   |   |   |--- (Dividends_+_Share_Buyback)_/_FCF >  -0.00\n",
            "|   |   |   |   |   |   |   |--- truncated branch of depth 3\n",
            "|   |   |   |   |--- P/Cash >  2.61\n",
            "|   |   |   |   |   |--- Quick_Ratio <= 0.25\n",
            "|   |   |   |   |   |   |--- class: 1.0\n",
            "|   |   |   |   |   |--- Quick_Ratio >  0.25\n",
            "|   |   |   |   |   |   |--- Gross_Profit_Margin <= 0.87\n",
            "|   |   |   |   |   |   |   |--- truncated branch of depth 14\n",
            "|   |   |   |   |   |   |--- Gross_Profit_Margin >  0.87\n",
            "|   |   |   |   |   |   |   |--- truncated branch of depth 9\n",
            "|   |   |--- P/Sales >  5.17\n",
            "|   |   |   |--- FCF_Growth <= -0.39\n",
            "|   |   |   |   |--- Earnings_Growth <= -0.16\n",
            "|   |   |   |   |   |--- FCF_Growth_QOQ <= -5.12\n",
            "|   |   |   |   |   |   |--- Return_on_Assets <= 0.03\n",
            "|   |   |   |   |   |   |   |--- class: 1.0\n",
            "|   |   |   |   |   |   |--- Return_on_Assets >  0.03\n",
            "|   |   |   |   |   |   |   |--- class: 1.0\n",
            "|   |   |   |   |   |--- FCF_Growth_QOQ >  -5.12\n",
            "|   |   |   |   |   |   |--- Market-Cap <= 686097664.00\n",
            "|   |   |   |   |   |   |   |--- truncated branch of depth 4\n",
            "|   |   |   |   |   |   |--- Market-Cap >  686097664.00\n",
            "|   |   |   |   |   |   |   |--- truncated branch of depth 5\n",
            "|   |   |   |   |--- Earnings_Growth >  -0.16\n",
            "|   |   |   |   |   |--- FCF_Yield <= 0.01\n",
            "|   |   |   |   |   |   |--- Asset_Turnover <= 0.25\n",
            "|   |   |   |   |   |   |   |--- class: 1.0\n",
            "|   |   |   |   |   |   |--- Asset_Turnover >  0.25\n",
            "|   |   |   |   |   |   |   |--- class: 1.0\n",
            "|   |   |   |   |   |--- FCF_Yield >  0.01\n",
            "|   |   |   |   |   |   |--- Assets_Growth_QOQ <= 0.01\n",
            "|   |   |   |   |   |   |   |--- truncated branch of depth 4\n",
            "|   |   |   |   |   |   |--- Assets_Growth_QOQ >  0.01\n",
            "|   |   |   |   |   |   |   |--- class: 1.0\n",
            "|   |   |   |--- FCF_Growth >  -0.39\n",
            "|   |   |   |   |--- Dividends_/_FCF <= 0.23\n",
            "|   |   |   |   |   |--- CapEx_/_(Depr_+_Amor) <= 1.49\n",
            "|   |   |   |   |   |   |--- Sales_Growth_YOY <= 0.01\n",
            "|   |   |   |   |   |   |   |--- truncated branch of depth 5\n",
            "|   |   |   |   |   |   |--- Sales_Growth_YOY >  0.01\n",
            "|   |   |   |   |   |   |   |--- truncated branch of depth 10\n",
            "|   |   |   |   |   |--- CapEx_/_(Depr_+_Amor) >  1.49\n",
            "|   |   |   |   |   |   |--- Interest_Coverage <= -54.54\n",
            "|   |   |   |   |   |   |   |--- class: 0.0\n",
            "|   |   |   |   |   |   |--- Interest_Coverage >  -54.54\n",
            "|   |   |   |   |   |   |   |--- truncated branch of depth 4\n",
            "|   |   |   |   |--- Dividends_/_FCF >  0.23\n",
            "|   |   |   |   |   |--- Asset_Turnover <= 0.31\n",
            "|   |   |   |   |   |   |--- Log_Revenue <= 7.36\n",
            "|   |   |   |   |   |   |   |--- truncated branch of depth 3\n",
            "|   |   |   |   |   |   |--- Log_Revenue >  7.36\n",
            "|   |   |   |   |   |   |   |--- truncated branch of depth 3\n",
            "|   |   |   |   |   |--- Asset_Turnover >  0.31\n",
            "|   |   |   |   |   |   |--- Sales_Growth_YOY <= -0.07\n",
            "|   |   |   |   |   |   |   |--- truncated branch of depth 2\n",
            "|   |   |   |   |   |   |--- Sales_Growth_YOY >  -0.07\n",
            "|   |   |   |   |   |   |   |--- truncated branch of depth 2\n",
            "|--- Log_Revenue >  8.13\n",
            "|   |--- Share_Buyback_/_FCF <= 0.05\n",
            "|   |   |--- FCF_Growth <= -0.67\n",
            "|   |   |   |--- Dividends_/_FCF <= 0.34\n",
            "|   |   |   |   |--- Return_on_Equity <= 0.01\n",
            "|   |   |   |   |   |--- Gross_Profit_Margin <= 0.24\n",
            "|   |   |   |   |   |   |--- Return_on_Equity <= -0.01\n",
            "|   |   |   |   |   |   |   |--- truncated branch of depth 14\n",
            "|   |   |   |   |   |   |--- Return_on_Equity >  -0.01\n",
            "|   |   |   |   |   |   |   |--- truncated branch of depth 7\n",
            "|   |   |   |   |   |--- Gross_Profit_Margin >  0.24\n",
            "|   |   |   |   |   |   |--- P/E <= -25.48\n",
            "|   |   |   |   |   |   |   |--- truncated branch of depth 14\n",
            "|   |   |   |   |   |   |--- P/E >  -25.48\n",
            "|   |   |   |   |   |   |   |--- truncated branch of depth 14\n",
            "|   |   |   |   |--- Return_on_Equity >  0.01\n",
            "|   |   |   |   |   |--- FCF_Growth_YOY <= -0.66\n",
            "|   |   |   |   |   |   |--- Assets_Growth_QOQ <= -0.07\n",
            "|   |   |   |   |   |   |   |--- truncated branch of depth 8\n",
            "|   |   |   |   |   |   |--- Assets_Growth_QOQ >  -0.07\n",
            "|   |   |   |   |   |   |   |--- truncated branch of depth 14\n",
            "|   |   |   |   |   |--- FCF_Growth_YOY >  -0.66\n",
            "|   |   |   |   |   |   |--- Assets_Growth <= 0.12\n",
            "|   |   |   |   |   |   |   |--- truncated branch of depth 14\n",
            "|   |   |   |   |   |   |--- Assets_Growth >  0.12\n",
            "|   |   |   |   |   |   |   |--- truncated branch of depth 14\n",
            "|   |   |   |--- Dividends_/_FCF >  0.34\n",
            "|   |   |   |   |--- Earnings_Growth <= -0.09\n",
            "|   |   |   |   |   |--- P/E <= 17.42\n",
            "|   |   |   |   |   |   |--- FCF_Yield <= 0.06\n",
            "|   |   |   |   |   |   |   |--- truncated branch of depth 11\n",
            "|   |   |   |   |   |   |--- FCF_Yield >  0.06\n",
            "|   |   |   |   |   |   |   |--- truncated branch of depth 3\n",
            "|   |   |   |   |   |--- P/E >  17.42\n",
            "|   |   |   |   |   |   |--- Sales_Growth_YOY <= 0.26\n",
            "|   |   |   |   |   |   |   |--- truncated branch of depth 10\n",
            "|   |   |   |   |   |   |--- Sales_Growth_YOY >  0.26\n",
            "|   |   |   |   |   |   |   |--- truncated branch of depth 5\n",
            "|   |   |   |   |--- Earnings_Growth >  -0.09\n",
            "|   |   |   |   |   |--- Earnings_Yield <= -0.05\n",
            "|   |   |   |   |   |   |--- Earnings_Yield <= -0.33\n",
            "|   |   |   |   |   |   |   |--- truncated branch of depth 2\n",
            "|   |   |   |   |   |   |--- Earnings_Yield >  -0.33\n",
            "|   |   |   |   |   |   |   |--- truncated branch of depth 4\n",
            "|   |   |   |   |   |--- Earnings_Yield >  -0.05\n",
            "|   |   |   |   |   |   |--- P/NCAV <= -1.52\n",
            "|   |   |   |   |   |   |   |--- truncated branch of depth 10\n",
            "|   |   |   |   |   |   |--- P/NCAV >  -1.52\n",
            "|   |   |   |   |   |   |   |--- truncated branch of depth 7\n",
            "|   |   |--- FCF_Growth >  -0.67\n",
            "|   |   |   |--- Share_Buyback_/_FCF <= -0.01\n",
            "|   |   |   |   |--- Log_Revenue <= 10.35\n",
            "|   |   |   |   |   |--- FCF_Growth <= 3.07\n",
            "|   |   |   |   |   |   |--- CapEx_/_(Depr_+_Amor) <= 3.14\n",
            "|   |   |   |   |   |   |   |--- truncated branch of depth 14\n",
            "|   |   |   |   |   |   |--- CapEx_/_(Depr_+_Amor) >  3.14\n",
            "|   |   |   |   |   |   |   |--- truncated branch of depth 11\n",
            "|   |   |   |   |   |--- FCF_Growth >  3.07\n",
            "|   |   |   |   |   |   |--- Dividends_/_FCF <= 0.20\n",
            "|   |   |   |   |   |   |   |--- truncated branch of depth 14\n",
            "|   |   |   |   |   |   |--- Dividends_/_FCF >  0.20\n",
            "|   |   |   |   |   |   |   |--- truncated branch of depth 8\n",
            "|   |   |   |   |--- Log_Revenue >  10.35\n",
            "|   |   |   |   |   |--- P/Sales <= 0.35\n",
            "|   |   |   |   |   |   |--- Gross_Profit_Margin <= 0.25\n",
            "|   |   |   |   |   |   |   |--- truncated branch of depth 5\n",
            "|   |   |   |   |   |   |--- Gross_Profit_Margin >  0.25\n",
            "|   |   |   |   |   |   |   |--- truncated branch of depth 5\n",
            "|   |   |   |   |   |--- P/Sales >  0.35\n",
            "|   |   |   |   |   |   |--- Assets_Growth <= -0.05\n",
            "|   |   |   |   |   |   |   |--- truncated branch of depth 3\n",
            "|   |   |   |   |   |   |--- Assets_Growth >  -0.05\n",
            "|   |   |   |   |   |   |   |--- truncated branch of depth 5\n",
            "|   |   |   |--- Share_Buyback_/_FCF >  -0.01\n",
            "|   |   |   |   |--- P/E <= 5.46\n",
            "|   |   |   |   |   |--- P/FCF <= 8.55\n",
            "|   |   |   |   |   |   |--- Assets_Growth_YOY <= -0.12\n",
            "|   |   |   |   |   |   |   |--- truncated branch of depth 14\n",
            "|   |   |   |   |   |   |--- Assets_Growth_YOY >  -0.12\n",
            "|   |   |   |   |   |   |   |--- truncated branch of depth 14\n",
            "|   |   |   |   |   |--- P/FCF >  8.55\n",
            "|   |   |   |   |   |   |--- Sales_Growth <= 0.30\n",
            "|   |   |   |   |   |   |   |--- truncated branch of depth 14\n",
            "|   |   |   |   |   |   |--- Sales_Growth >  0.30\n",
            "|   |   |   |   |   |   |   |--- truncated branch of depth 7\n",
            "|   |   |   |   |--- P/E >  5.46\n",
            "|   |   |   |   |   |--- Dividends_/_FCF <= 0.08\n",
            "|   |   |   |   |   |   |--- (Dividends_+_Share_Buyback)_/_FCF <= -0.45\n",
            "|   |   |   |   |   |   |   |--- truncated branch of depth 8\n",
            "|   |   |   |   |   |   |--- (Dividends_+_Share_Buyback)_/_FCF >  -0.45\n",
            "|   |   |   |   |   |   |   |--- truncated branch of depth 14\n",
            "|   |   |   |   |   |--- Dividends_/_FCF >  0.08\n",
            "|   |   |   |   |   |   |--- P/NCAV <= -12.41\n",
            "|   |   |   |   |   |   |   |--- truncated branch of depth 11\n",
            "|   |   |   |   |   |   |--- P/NCAV >  -12.41\n",
            "|   |   |   |   |   |   |   |--- truncated branch of depth 14\n",
            "|   |--- Share_Buyback_/_FCF >  0.05\n",
            "|   |   |--- P/Sales <= 0.78\n",
            "|   |   |   |--- FCF_Growth <= 0.18\n",
            "|   |   |   |   |--- Earnings_Growth_QOQ <= -0.75\n",
            "|   |   |   |   |   |--- Asset_Turnover <= 1.84\n",
            "|   |   |   |   |   |   |--- FCF_Growth_YOY <= 3.14\n",
            "|   |   |   |   |   |   |   |--- truncated branch of depth 14\n",
            "|   |   |   |   |   |   |--- FCF_Growth_YOY >  3.14\n",
            "|   |   |   |   |   |   |   |--- truncated branch of depth 2\n",
            "|   |   |   |   |   |--- Asset_Turnover >  1.84\n",
            "|   |   |   |   |   |   |--- Dividends_/_FCF <= 0.20\n",
            "|   |   |   |   |   |   |   |--- truncated branch of depth 9\n",
            "|   |   |   |   |   |   |--- Dividends_/_FCF >  0.20\n",
            "|   |   |   |   |   |   |   |--- truncated branch of depth 8\n",
            "|   |   |   |   |--- Earnings_Growth_QOQ >  -0.75\n",
            "|   |   |   |   |   |--- Sales_Growth <= 0.11\n",
            "|   |   |   |   |   |   |--- Price_to_Book_Value <= 7.34\n",
            "|   |   |   |   |   |   |   |--- truncated branch of depth 14\n",
            "|   |   |   |   |   |   |--- Price_to_Book_Value >  7.34\n",
            "|   |   |   |   |   |   |   |--- truncated branch of depth 3\n",
            "|   |   |   |   |   |--- Sales_Growth >  0.11\n",
            "|   |   |   |   |   |   |--- P/E <= 17.48\n",
            "|   |   |   |   |   |   |   |--- truncated branch of depth 13\n",
            "|   |   |   |   |   |   |--- P/E >  17.48\n",
            "|   |   |   |   |   |   |   |--- truncated branch of depth 10\n",
            "|   |   |   |--- FCF_Growth >  0.18\n",
            "|   |   |   |   |--- Quick_Ratio <= 1.18\n",
            "|   |   |   |   |   |--- Earnings_Yield <= 0.08\n",
            "|   |   |   |   |   |   |--- (Dividends_+_Share_Buyback)_/_FCF <= 0.10\n",
            "|   |   |   |   |   |   |   |--- truncated branch of depth 5\n",
            "|   |   |   |   |   |   |--- (Dividends_+_Share_Buyback)_/_FCF >  0.10\n",
            "|   |   |   |   |   |   |   |--- truncated branch of depth 14\n",
            "|   |   |   |   |   |--- Earnings_Yield >  0.08\n",
            "|   |   |   |   |   |   |--- Log_Revenue <= 10.03\n",
            "|   |   |   |   |   |   |   |--- truncated branch of depth 9\n",
            "|   |   |   |   |   |   |--- Log_Revenue >  10.03\n",
            "|   |   |   |   |   |   |   |--- truncated branch of depth 8\n",
            "|   |   |   |   |--- Quick_Ratio >  1.18\n",
            "|   |   |   |   |   |--- Market-Cap <= 352103232.00\n",
            "|   |   |   |   |   |   |--- Earnings_Yield <= 0.06\n",
            "|   |   |   |   |   |   |   |--- truncated branch of depth 7\n",
            "|   |   |   |   |   |   |--- Earnings_Yield >  0.06\n",
            "|   |   |   |   |   |   |   |--- truncated branch of depth 2\n",
            "|   |   |   |   |   |--- Market-Cap >  352103232.00\n",
            "|   |   |   |   |   |   |--- Sales_Growth_YOY <= 0.12\n",
            "|   |   |   |   |   |   |   |--- truncated branch of depth 13\n",
            "|   |   |   |   |   |   |--- Sales_Growth_YOY >  0.12\n",
            "|   |   |   |   |   |   |   |--- truncated branch of depth 3\n",
            "|   |   |--- P/Sales >  0.78\n",
            "|   |   |   |--- Dividends_/_FCF <= 0.04\n",
            "|   |   |   |   |--- FCF_Growth <= -0.57\n",
            "|   |   |   |   |   |--- Dividends_/_FCF <= -0.16\n",
            "|   |   |   |   |   |   |--- Assets_Growth <= 0.01\n",
            "|   |   |   |   |   |   |   |--- truncated branch of depth 9\n",
            "|   |   |   |   |   |   |--- Assets_Growth >  0.01\n",
            "|   |   |   |   |   |   |   |--- truncated branch of depth 14\n",
            "|   |   |   |   |   |--- Dividends_/_FCF >  -0.16\n",
            "|   |   |   |   |   |   |--- Dividends_/_FCF <= -0.02\n",
            "|   |   |   |   |   |   |   |--- truncated branch of depth 8\n",
            "|   |   |   |   |   |   |--- Dividends_/_FCF >  -0.02\n",
            "|   |   |   |   |   |   |   |--- truncated branch of depth 14\n",
            "|   |   |   |   |--- FCF_Growth >  -0.57\n",
            "|   |   |   |   |   |--- (Dividends_+_Share_Buyback)_/_FCF <= -0.39\n",
            "|   |   |   |   |   |   |--- P/E <= -46.41\n",
            "|   |   |   |   |   |   |   |--- class: 0.0\n",
            "|   |   |   |   |   |   |--- P/E >  -46.41\n",
            "|   |   |   |   |   |   |   |--- truncated branch of depth 6\n",
            "|   |   |   |   |   |--- (Dividends_+_Share_Buyback)_/_FCF >  -0.39\n",
            "|   |   |   |   |   |   |--- Sales_Growth <= 0.12\n",
            "|   |   |   |   |   |   |   |--- truncated branch of depth 14\n",
            "|   |   |   |   |   |   |--- Sales_Growth >  0.12\n",
            "|   |   |   |   |   |   |   |--- truncated branch of depth 14\n",
            "|   |   |   |--- Dividends_/_FCF >  0.04\n",
            "|   |   |   |   |--- Quick_Ratio <= 3.72\n",
            "|   |   |   |   |   |--- Log_Revenue <= 10.42\n",
            "|   |   |   |   |   |   |--- Interest_Coverage <= 3.58\n",
            "|   |   |   |   |   |   |   |--- truncated branch of depth 14\n",
            "|   |   |   |   |   |   |--- Interest_Coverage >  3.58\n",
            "|   |   |   |   |   |   |   |--- truncated branch of depth 14\n",
            "|   |   |   |   |   |--- Log_Revenue >  10.42\n",
            "|   |   |   |   |   |   |--- FCF_Yield <= 0.04\n",
            "|   |   |   |   |   |   |   |--- truncated branch of depth 12\n",
            "|   |   |   |   |   |   |--- FCF_Yield >  0.04\n",
            "|   |   |   |   |   |   |   |--- truncated branch of depth 11\n",
            "|   |   |   |   |--- Quick_Ratio >  3.72\n",
            "|   |   |   |   |   |--- Asset_Turnover <= 0.26\n",
            "|   |   |   |   |   |   |--- class: 0.0\n",
            "|   |   |   |   |   |--- Asset_Turnover >  0.26\n",
            "|   |   |   |   |   |   |--- FCF_Growth_QOQ <= 3.58\n",
            "|   |   |   |   |   |   |   |--- truncated branch of depth 8\n",
            "|   |   |   |   |   |   |--- FCF_Growth_QOQ >  3.58\n",
            "|   |   |   |   |   |   |   |--- truncated branch of depth 3\n",
            "\n"
          ],
          "name": "stdout"
        }
      ]
    },
    {
      "cell_type": "markdown",
      "metadata": {
        "id": "ER6f2e4XKLrM"
      },
      "source": [
        "We can also show the signals (or features) that the model found were most important. These are not necessarily the signals that are best correlated with stock-returns, because the Random Forest is a non-linear mapping from signals to the gain/loss classification."
      ]
    },
    {
      "cell_type": "code",
      "metadata": {
        "colab": {
          "base_uri": "https://localhost:8080/",
          "height": 1000
        },
        "id": "DukHmyXSP4D3",
        "outputId": "7d3d4a6b-796f-4f12-fa53-df54e4f1ba5d"
      },
      "source": [
        "compare_feature_imp_corr(clf)"
      ],
      "execution_count": 49,
      "outputs": [
        {
          "output_type": "execute_result",
          "data": {
            "text/html": [
              "<div>\n",
              "<style scoped>\n",
              "    .dataframe tbody tr th:only-of-type {\n",
              "        vertical-align: middle;\n",
              "    }\n",
              "\n",
              "    .dataframe tbody tr th {\n",
              "        vertical-align: top;\n",
              "    }\n",
              "\n",
              "    .dataframe thead th {\n",
              "        text-align: right;\n",
              "    }\n",
              "</style>\n",
              "<table border=\"1\" class=\"dataframe\">\n",
              "  <thead>\n",
              "    <tr style=\"text-align: right;\">\n",
              "      <th></th>\n",
              "      <th>Feature Importance</th>\n",
              "      <th>Return Correlation</th>\n",
              "    </tr>\n",
              "  </thead>\n",
              "  <tbody>\n",
              "    <tr>\n",
              "      <th>Log Revenue</th>\n",
              "      <td>0.047610</td>\n",
              "      <td>0.131642</td>\n",
              "    </tr>\n",
              "    <tr>\n",
              "      <th>Market-Cap</th>\n",
              "      <td>0.042871</td>\n",
              "      <td>0.058252</td>\n",
              "    </tr>\n",
              "    <tr>\n",
              "      <th>Gross Profit Margin</th>\n",
              "      <td>0.041422</td>\n",
              "      <td>0.011243</td>\n",
              "    </tr>\n",
              "    <tr>\n",
              "      <th>Asset Turnover</th>\n",
              "      <td>0.038098</td>\n",
              "      <td>0.029806</td>\n",
              "    </tr>\n",
              "    <tr>\n",
              "      <th>Net Profit Margin</th>\n",
              "      <td>0.036092</td>\n",
              "      <td>0.180413</td>\n",
              "    </tr>\n",
              "    <tr>\n",
              "      <th>Return on Assets</th>\n",
              "      <td>0.035309</td>\n",
              "      <td>0.167867</td>\n",
              "    </tr>\n",
              "    <tr>\n",
              "      <th>CapEx / (Depr + Amor)</th>\n",
              "      <td>0.034205</td>\n",
              "      <td>0.041523</td>\n",
              "    </tr>\n",
              "    <tr>\n",
              "      <th>Interest Coverage</th>\n",
              "      <td>0.033821</td>\n",
              "      <td>0.014208</td>\n",
              "    </tr>\n",
              "    <tr>\n",
              "      <th>Quick Ratio</th>\n",
              "      <td>0.033063</td>\n",
              "      <td>0.040606</td>\n",
              "    </tr>\n",
              "    <tr>\n",
              "      <th>Current Ratio</th>\n",
              "      <td>0.032245</td>\n",
              "      <td>0.060161</td>\n",
              "    </tr>\n",
              "    <tr>\n",
              "      <th>Return on Equity</th>\n",
              "      <td>0.031109</td>\n",
              "      <td>0.122219</td>\n",
              "    </tr>\n",
              "    <tr>\n",
              "      <th>P/NCAV</th>\n",
              "      <td>0.030783</td>\n",
              "      <td>0.031360</td>\n",
              "    </tr>\n",
              "    <tr>\n",
              "      <th>P/Sales</th>\n",
              "      <td>0.030655</td>\n",
              "      <td>0.061844</td>\n",
              "    </tr>\n",
              "    <tr>\n",
              "      <th>P/E</th>\n",
              "      <td>0.030438</td>\n",
              "      <td>0.073909</td>\n",
              "    </tr>\n",
              "    <tr>\n",
              "      <th>Sales Growth</th>\n",
              "      <td>0.030420</td>\n",
              "      <td>0.012628</td>\n",
              "    </tr>\n",
              "    <tr>\n",
              "      <th>(Dividends + Share Buyback) / FCF</th>\n",
              "      <td>0.030167</td>\n",
              "      <td>0.031616</td>\n",
              "    </tr>\n",
              "    <tr>\n",
              "      <th>P/NetNet</th>\n",
              "      <td>0.030087</td>\n",
              "      <td>0.027302</td>\n",
              "    </tr>\n",
              "    <tr>\n",
              "      <th>Earnings Yield</th>\n",
              "      <td>0.028978</td>\n",
              "      <td>0.150990</td>\n",
              "    </tr>\n",
              "    <tr>\n",
              "      <th>P/Cash</th>\n",
              "      <td>0.028578</td>\n",
              "      <td>0.016435</td>\n",
              "    </tr>\n",
              "    <tr>\n",
              "      <th>Price to Book Value</th>\n",
              "      <td>0.028006</td>\n",
              "      <td>0.033884</td>\n",
              "    </tr>\n",
              "    <tr>\n",
              "      <th>Share Buyback / FCF</th>\n",
              "      <td>0.027562</td>\n",
              "      <td>0.022867</td>\n",
              "    </tr>\n",
              "    <tr>\n",
              "      <th>Dividends / FCF</th>\n",
              "      <td>0.026673</td>\n",
              "      <td>0.048962</td>\n",
              "    </tr>\n",
              "    <tr>\n",
              "      <th>Earnings Growth</th>\n",
              "      <td>0.026512</td>\n",
              "      <td>0.021566</td>\n",
              "    </tr>\n",
              "    <tr>\n",
              "      <th>FCF Yield</th>\n",
              "      <td>0.025458</td>\n",
              "      <td>0.117659</td>\n",
              "    </tr>\n",
              "    <tr>\n",
              "      <th>P/FCF</th>\n",
              "      <td>0.024675</td>\n",
              "      <td>0.063388</td>\n",
              "    </tr>\n",
              "    <tr>\n",
              "      <th>FCF Growth</th>\n",
              "      <td>0.024668</td>\n",
              "      <td>0.027016</td>\n",
              "    </tr>\n",
              "    <tr>\n",
              "      <th>Sales Growth YOY</th>\n",
              "      <td>0.022455</td>\n",
              "      <td>0.011828</td>\n",
              "    </tr>\n",
              "    <tr>\n",
              "      <th>Assets Growth YOY</th>\n",
              "      <td>0.022243</td>\n",
              "      <td>0.023676</td>\n",
              "    </tr>\n",
              "    <tr>\n",
              "      <th>Assets Growth</th>\n",
              "      <td>0.022213</td>\n",
              "      <td>0.023894</td>\n",
              "    </tr>\n",
              "    <tr>\n",
              "      <th>Earnings Growth YOY</th>\n",
              "      <td>0.019071</td>\n",
              "      <td>0.019865</td>\n",
              "    </tr>\n",
              "    <tr>\n",
              "      <th>FCF Growth YOY</th>\n",
              "      <td>0.017604</td>\n",
              "      <td>0.022877</td>\n",
              "    </tr>\n",
              "    <tr>\n",
              "      <th>FCF Growth QOQ</th>\n",
              "      <td>0.017260</td>\n",
              "      <td>0.013165</td>\n",
              "    </tr>\n",
              "    <tr>\n",
              "      <th>Earnings Growth QOQ</th>\n",
              "      <td>0.016745</td>\n",
              "      <td>0.020012</td>\n",
              "    </tr>\n",
              "    <tr>\n",
              "      <th>Assets Growth QOQ</th>\n",
              "      <td>0.016599</td>\n",
              "      <td>0.024992</td>\n",
              "    </tr>\n",
              "    <tr>\n",
              "      <th>Sales Growth QOQ</th>\n",
              "      <td>0.016303</td>\n",
              "      <td>0.019988</td>\n",
              "    </tr>\n",
              "  </tbody>\n",
              "</table>\n",
              "</div>"
            ],
            "text/plain": [
              "                                   Feature Importance  Return Correlation\n",
              "Log Revenue                                  0.047610            0.131642\n",
              "Market-Cap                                   0.042871            0.058252\n",
              "Gross Profit Margin                          0.041422            0.011243\n",
              "Asset Turnover                               0.038098            0.029806\n",
              "Net Profit Margin                            0.036092            0.180413\n",
              "Return on Assets                             0.035309            0.167867\n",
              "CapEx / (Depr + Amor)                        0.034205            0.041523\n",
              "Interest Coverage                            0.033821            0.014208\n",
              "Quick Ratio                                  0.033063            0.040606\n",
              "Current Ratio                                0.032245            0.060161\n",
              "Return on Equity                             0.031109            0.122219\n",
              "P/NCAV                                       0.030783            0.031360\n",
              "P/Sales                                      0.030655            0.061844\n",
              "P/E                                          0.030438            0.073909\n",
              "Sales Growth                                 0.030420            0.012628\n",
              "(Dividends + Share Buyback) / FCF            0.030167            0.031616\n",
              "P/NetNet                                     0.030087            0.027302\n",
              "Earnings Yield                               0.028978            0.150990\n",
              "P/Cash                                       0.028578            0.016435\n",
              "Price to Book Value                          0.028006            0.033884\n",
              "Share Buyback / FCF                          0.027562            0.022867\n",
              "Dividends / FCF                              0.026673            0.048962\n",
              "Earnings Growth                              0.026512            0.021566\n",
              "FCF Yield                                    0.025458            0.117659\n",
              "P/FCF                                        0.024675            0.063388\n",
              "FCF Growth                                   0.024668            0.027016\n",
              "Sales Growth YOY                             0.022455            0.011828\n",
              "Assets Growth YOY                            0.022243            0.023676\n",
              "Assets Growth                                0.022213            0.023894\n",
              "Earnings Growth YOY                          0.019071            0.019865\n",
              "FCF Growth YOY                               0.017604            0.022877\n",
              "FCF Growth QOQ                               0.017260            0.013165\n",
              "Earnings Growth QOQ                          0.016745            0.020012\n",
              "Assets Growth QOQ                            0.016599            0.024992\n",
              "Sales Growth QOQ                             0.016303            0.019988"
            ]
          },
          "metadata": {
            "tags": []
          },
          "execution_count": 49
        }
      ]
    },
    {
      "cell_type": "markdown",
      "metadata": {
        "id": "RiWyJwtSKP0D"
      },
      "source": [
        "## **Classification Results**\n",
        "\n",
        "We can then use the fitted model to predict the classes for the training- and test-sets:"
      ]
    },
    {
      "cell_type": "code",
      "metadata": {
        "colab": {
          "base_uri": "https://localhost:8080/"
        },
        "id": "K-qJQ6R4QDvP",
        "outputId": "3e2d1705-c4b7-446c-9ea2-98b406696f29"
      },
      "source": [
        "%%time\n",
        "y_train_pred_cls = clf.predict(X_train)\n",
        "y_test_pred_cls = clf.predict(X_test)"
      ],
      "execution_count": 50,
      "outputs": [
        {
          "output_type": "stream",
          "text": [
            "CPU times: user 26.3 s, sys: 267 ms, total: 26.5 s\n",
            "Wall time: 7.14 s\n"
          ],
          "name": "stdout"
        }
      ]
    },
    {
      "cell_type": "markdown",
      "metadata": {
        "id": "cEPhImRyKXKh"
      },
      "source": [
        "The model has a very high classification accuracy on the training-set, so the model has learned to map financial signals to gain/loss classifications for 1-3 year investment periods:"
      ]
    },
    {
      "cell_type": "code",
      "metadata": {
        "colab": {
          "base_uri": "https://localhost:8080/"
        },
        "id": "1wgk_eujQgSk",
        "outputId": "c32e1970-5c40-4d40-c5db-cba15ee3616d"
      },
      "source": [
        "accuracy_score(y_true=y_train_cls, y_pred=y_train_pred_cls)"
      ],
      "execution_count": 51,
      "outputs": [
        {
          "output_type": "execute_result",
          "data": {
            "text/plain": [
              "0.9788607776206119"
            ]
          },
          "metadata": {
            "tags": []
          },
          "execution_count": 51
        }
      ]
    },
    {
      "cell_type": "markdown",
      "metadata": {
        "id": "l_oWDiQxKaXB"
      },
      "source": [
        "Unfortunately this performance does not generalize to the test-set, which the model has not seen during training. Here the classification accuracy is much lower:"
      ]
    },
    {
      "cell_type": "code",
      "metadata": {
        "colab": {
          "base_uri": "https://localhost:8080/"
        },
        "id": "3xAl2Bi5QlcV",
        "outputId": "0a159b25-e97c-4b03-9759-d94525cf7f51"
      },
      "source": [
        "accuracy_score(y_true=y_test_cls, y_pred=y_test_pred_cls)"
      ],
      "execution_count": 52,
      "outputs": [
        {
          "output_type": "execute_result",
          "data": {
            "text/plain": [
              "0.6745117083397492"
            ]
          },
          "metadata": {
            "tags": []
          },
          "execution_count": 52
        }
      ]
    },
    {
      "cell_type": "markdown",
      "metadata": {
        "id": "JO-7cYZ3Ke7T"
      },
      "source": [
        "This is about the same score as simply guessing that the stock-returns are always gains:"
      ]
    },
    {
      "cell_type": "code",
      "metadata": {
        "colab": {
          "base_uri": "https://localhost:8080/"
        },
        "id": "LiI4YN-AQsaD",
        "outputId": "434d1f8d-241f-4fa3-f56a-df0d66a35e02"
      },
      "source": [
        "# Fraction of the test-set that is classified as gains.\n",
        "(y_test_cls == 1.0).sum() / len(y_test_cls)"
      ],
      "execution_count": 53,
      "outputs": [
        {
          "output_type": "execute_result",
          "data": {
            "text/plain": [
              "0.6776919705781326"
            ]
          },
          "metadata": {
            "tags": []
          },
          "execution_count": 53
        }
      ]
    },
    {
      "cell_type": "markdown",
      "metadata": {
        "id": "QO5PGpsLKjXQ"
      },
      "source": [
        "## **Confusion Matrix**\n",
        "We can also plot a so-called Confusion Matrix, which shows how the classes were predicted. For the training-set, we again see that the model has learned to accurately classify gains and losses. Note how the colours are different, because the training-set contains many more gains than losses."
      ]
    },
    {
      "cell_type": "code",
      "metadata": {
        "colab": {
          "base_uri": "https://localhost:8080/",
          "height": 265
        },
        "id": "pc0AmV1PQ5ha",
        "outputId": "6ff35947-6bee-4e13-e158-9bb6d8cc77d3"
      },
      "source": [
        "plot_confusion_matrix(y_true=y_train_cls, y_pred=y_train_pred_cls)"
      ],
      "execution_count": 54,
      "outputs": [
        {
          "output_type": "display_data",
          "data": {
            "image/png": "[encoded data removed]",
            "text/plain": [
              "<Figure size 432x288 with 2 Axes>"
            ]
          },
          "metadata": {
            "tags": []
          }
        }
      ]
    },
    {
      "cell_type": "markdown",
      "metadata": {
        "id": "ZfjfY_xRKpop"
      },
      "source": [
        "The confusion matrix for the test-set, shows that most classes were predicted as gains:"
      ]
    },
    {
      "cell_type": "code",
      "metadata": {
        "colab": {
          "base_uri": "https://localhost:8080/",
          "height": 265
        },
        "id": "SUpaZ-VaQ_qP",
        "outputId": "9a6260d4-6dd1-4ad1-8ea9-99e75f6cb020"
      },
      "source": [
        "plot_confusion_matrix(y_true=y_test_cls, y_pred=y_test_pred_cls)"
      ],
      "execution_count": 55,
      "outputs": [
        {
          "output_type": "display_data",
          "data": {
            "image/png": "[encoded data removed]",
            "text/plain": [
              "<Figure size 432x288 with 2 Axes>"
            ]
          },
          "metadata": {
            "tags": []
          }
        }
      ]
    },
    {
      "cell_type": "code",
      "metadata": {
        "colab": {
          "base_uri": "https://localhost:8080/"
        },
        "id": "P5HlG3icbOlT",
        "outputId": "9e8fc452-5d9b-4196-d127-f8828b0a0276"
      },
      "source": [
        "from sklearn.metrics import classification_report\n",
        "print(classification_report(y_test_cls, y_test_pred_cls))"
      ],
      "execution_count": 56,
      "outputs": [
        {
          "output_type": "stream",
          "text": [
            "              precision    recall  f1-score   support\n",
            "\n",
            "        -1.0       0.49      0.19      0.28    108846\n",
            "         1.0       0.70      0.90      0.79    228862\n",
            "\n",
            "    accuracy                           0.67    337708\n",
            "   macro avg       0.59      0.55      0.53    337708\n",
            "weighted avg       0.63      0.67      0.62    337708\n",
            "\n"
          ],
          "name": "stdout"
        }
      ]
    },
    {
      "cell_type": "markdown",
      "metadata": {
        "id": "-KrXlyXbKtaE"
      },
      "source": [
        "## **Classification Examples**\n",
        "We can also try and plot the model's predicted versus actual gain/loss classification for a stock in the training-set. As we can see, the model has learned this mapping reasonably well:"
      ]
    },
    {
      "cell_type": "code",
      "metadata": {
        "colab": {
          "base_uri": "https://localhost:8080/",
          "height": 293
        },
        "id": "pM4tCvJhREBy",
        "outputId": "9f874a25-cecc-4891-deac-5a2ba9c1ed17"
      },
      "source": [
        "# Create a DataFrame with actual and predicted classifications.\n",
        "# This is for the training-set.\n",
        "df_y_train_cls = pd.DataFrame(y_train_cls)\n",
        "df_y_train_cls[TOTAL_RETURN_PRED] = y_train_pred_cls\n",
        "\n",
        "# Plot the actual and predicted stock-returns for the first stock.\n",
        "ticker = tickers_train[22]\n",
        "_ = df_y_train_cls.loc[ticker].plot(title=ticker)"
      ],
      "execution_count": 57,
      "outputs": [
        {
          "output_type": "display_data",
          "data": {
            "image/png": "[encoded data removed]",
            "text/plain": [
              "<Figure size 432x288 with 1 Axes>"
            ]
          },
          "metadata": {
            "tags": []
          }
        }
      ]
    },
    {
      "cell_type": "markdown",
      "metadata": {
        "id": "w3j6zC-EK8v0"
      },
      "source": [
        "Now let us try and plot the model's predicted versus actual gain/loss classifications for the first stock in the test-set. As we can see, the model is quite bad at predicting this for data that it has not seen during its training:"
      ]
    },
    {
      "cell_type": "code",
      "metadata": {
        "colab": {
          "base_uri": "https://localhost:8080/",
          "height": 293
        },
        "id": "YC7WC7fvRbKl",
        "outputId": "59875f34-ca8d-4813-b3f9-a42a65ad5173"
      },
      "source": [
        "# Create a DataFrame with actual and predicted classifications.\n",
        "# This is for the test-set.\n",
        "df_y_test_cls = pd.DataFrame(y_test_cls)\n",
        "df_y_test_cls[TOTAL_RETURN_PRED] = y_test_pred_cls\n",
        "\n",
        "# Plot the actual and predicted stock-returns for the first stock.\n",
        "ticker = tickers_test[22]\n",
        "_ = df_y_test_cls.loc[ticker].plot(title=ticker)"
      ],
      "execution_count": 58,
      "outputs": [
        {
          "output_type": "display_data",
          "data": {
            "image/png": "[encoded data removed]",
            "text/plain": [
              "<Figure size 432x288 with 1 Axes>"
            ]
          },
          "metadata": {
            "tags": []
          }
        }
      ]
    },
    {
      "cell_type": "code",
      "metadata": {
        "id": "SbVJsrfIdgAs"
      },
      "source": [
        ""
      ],
      "execution_count": 58,
      "outputs": []
    }
  ]
}