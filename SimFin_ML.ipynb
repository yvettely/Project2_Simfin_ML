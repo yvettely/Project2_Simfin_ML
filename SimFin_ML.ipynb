{
  "nbformat": 4,
  "nbformat_minor": 0,
  "metadata": {
    "colab": {
      "name": "SimFin_ML.ipynb",
      "provenance": [],
      "collapsed_sections": [],
      "machine_shape": "hm"
    },
    "kernelspec": {
      "name": "python3",
      "display_name": "Python 3"
    },
    "language_info": {
      "name": "python"
    }
  },
  "cells": [
    {
      "cell_type": "markdown",
      "metadata": {
        "id": "qz1HfxFL_uVU"
      },
      "source": [
        "## **Installs**"
      ]
    },
    {
      "cell_type": "code",
      "metadata": {
        "colab": {
          "base_uri": "https://localhost:8080/"
        },
        "id": "UChrWcf25NsQ",
        "outputId": "dcc74b33-fd62-4971-f23d-a30cea29746d"
      },
      "source": [
        "!pip install simfin"
      ],
      "execution_count": 1,
      "outputs": [
        {
          "output_type": "stream",
          "text": [
            "Collecting simfin\n",
            "  Downloading simfin-0.8.1-py3-none-any.whl (60 kB)\n",
            "\u001b[?25l\r\u001b[K     |█████▍                          | 10 kB 23.3 MB/s eta 0:00:01\r\u001b[K     |██████████▉                     | 20 kB 28.3 MB/s eta 0:00:01\r\u001b[K     |████████████████▎               | 30 kB 11.9 MB/s eta 0:00:01\r\u001b[K     |█████████████████████▊          | 40 kB 9.2 MB/s eta 0:00:01\r\u001b[K     |███████████████████████████▏    | 51 kB 5.4 MB/s eta 0:00:01\r\u001b[K     |████████████████████████████████| 60 kB 3.1 MB/s \n",
            "\u001b[?25hRequirement already satisfied: pandas in /usr/local/lib/python3.7/dist-packages (from simfin) (1.1.5)\n",
            "Requirement already satisfied: requests in /usr/local/lib/python3.7/dist-packages (from simfin) (2.23.0)\n",
            "Requirement already satisfied: numpy in /usr/local/lib/python3.7/dist-packages (from simfin) (1.19.5)\n",
            "Requirement already satisfied: pytz>=2017.2 in /usr/local/lib/python3.7/dist-packages (from pandas->simfin) (2018.9)\n",
            "Requirement already satisfied: python-dateutil>=2.7.3 in /usr/local/lib/python3.7/dist-packages (from pandas->simfin) (2.8.1)\n",
            "Requirement already satisfied: six>=1.5 in /usr/local/lib/python3.7/dist-packages (from python-dateutil>=2.7.3->pandas->simfin) (1.15.0)\n",
            "Requirement already satisfied: idna<3,>=2.5 in /usr/local/lib/python3.7/dist-packages (from requests->simfin) (2.10)\n",
            "Requirement already satisfied: chardet<4,>=3.0.2 in /usr/local/lib/python3.7/dist-packages (from requests->simfin) (3.0.4)\n",
            "Requirement already satisfied: certifi>=2017.4.17 in /usr/local/lib/python3.7/dist-packages (from requests->simfin) (2021.5.30)\n",
            "Requirement already satisfied: urllib3!=1.25.0,!=1.25.1,<1.26,>=1.21.1 in /usr/local/lib/python3.7/dist-packages (from requests->simfin) (1.24.3)\n",
            "Installing collected packages: simfin\n",
            "Successfully installed simfin-0.8.1\n"
          ],
          "name": "stdout"
        }
      ]
    },
    {
      "cell_type": "markdown",
      "metadata": {
        "id": "AUiFgrt3AJQs"
      },
      "source": [
        "# **Imports**"
      ]
    },
    {
      "cell_type": "code",
      "metadata": {
        "id": "bL5JDkXC__N4"
      },
      "source": [
        "%matplotlib inline\n",
        "import pandas as pd\n",
        "import numpy as np\n",
        "import seaborn as sns\n",
        "\n",
        "# Scikit-learn imports.\n",
        "from sklearn.ensemble import RandomForestRegressor\n",
        "from sklearn.ensemble import RandomForestClassifier\n",
        "from sklearn.model_selection import train_test_split\n",
        "from sklearn.tree import export_text\n",
        "from sklearn.metrics import confusion_matrix\n",
        "from sklearn.metrics import r2_score, accuracy_score\n",
        "\n",
        "# Import the main functionality from the SimFin Python API.\n",
        "import simfin as sf\n",
        "\n",
        "# Import names used for easy access to SimFin's data-columns.\n",
        "from simfin.names import *"
      ],
      "execution_count": 2,
      "outputs": []
    },
    {
      "cell_type": "code",
      "metadata": {
        "colab": {
          "base_uri": "https://localhost:8080/",
          "height": 35
        },
        "id": "VtoQk3Me5XD_",
        "outputId": "5e094351-72fb-4209-c94c-1d8c632a2ae9"
      },
      "source": [
        "# Version of the SimFin Python API.\n",
        "sf.__version__"
      ],
      "execution_count": 3,
      "outputs": [
        {
          "output_type": "execute_result",
          "data": {
            "application/vnd.google.colaboratory.intrinsic+json": {
              "type": "string"
            },
            "text/plain": [
              "'0.8.1'"
            ]
          },
          "metadata": {
            "tags": []
          },
          "execution_count": 3
        }
      ]
    },
    {
      "cell_type": "markdown",
      "metadata": {
        "id": "sxLqZxpdAWap"
      },
      "source": [
        "## **SimFin Config**"
      ]
    },
    {
      "cell_type": "code",
      "metadata": {
        "id": "pOwR9-n25jvb"
      },
      "source": [
        "# SimFin data-directory.\n",
        "sf.set_data_dir('~/simfin_data/')"
      ],
      "execution_count": 4,
      "outputs": []
    },
    {
      "cell_type": "code",
      "metadata": {
        "id": "Xf6dqg5l5nAa"
      },
      "source": [
        "# SimFin load API key or use free data.\n",
        "sf.load_api_key(path='~/simfin_api_key.txt', default_key='free')"
      ],
      "execution_count": 5,
      "outputs": []
    },
    {
      "cell_type": "code",
      "metadata": {
        "id": "unLlSGEn50Or"
      },
      "source": [
        "# Seaborn set plotting style.\n",
        "sns.set_style(\"whitegrid\")"
      ],
      "execution_count": 6,
      "outputs": []
    },
    {
      "cell_type": "markdown",
      "metadata": {
        "id": "szpMlr0rApw5"
      },
      "source": [
        "## **Data Hub**"
      ]
    },
    {
      "cell_type": "code",
      "metadata": {
        "id": "Ojc9D2x155Em"
      },
      "source": [
        "# We are interested in the US stock-market.\n",
        "market = 'us'\n",
        "\n",
        "# Add this date-offset to the fundamental data such as\n",
        "# Income Statements etc., because the REPORT_DATE is not\n",
        "# when it was actually made available to the public,\n",
        "# which can be 1, 2 or even 3 months after the Report Date.\n",
        "offset = pd.DateOffset(days=60)\n",
        "\n",
        "# Refresh the fundamental datasets (Income Statements etc.)\n",
        "# every 30 days.\n",
        "refresh_days = 30\n",
        "\n",
        "# Refresh the dataset with shareprices every 10 days.\n",
        "refresh_days_shareprices = 10"
      ],
      "execution_count": 7,
      "outputs": []
    },
    {
      "cell_type": "code",
      "metadata": {
        "colab": {
          "base_uri": "https://localhost:8080/"
        },
        "id": "201Ht0pW6Alo",
        "outputId": "e9b1dfce-31c7-4cf0-e74f-4a91f5d703cc"
      },
      "source": [
        "%%time\n",
        "hub = sf.StockHub(market=market, offset=offset,\n",
        "                  refresh_days=refresh_days,\n",
        "                  refresh_days_shareprices=refresh_days_shareprices)"
      ],
      "execution_count": 8,
      "outputs": [
        {
          "output_type": "stream",
          "text": [
            "CPU times: user 12 µs, sys: 6 µs, total: 18 µs\n",
            "Wall time: 20.3 µs\n"
          ],
          "name": "stdout"
        }
      ]
    },
    {
      "cell_type": "markdown",
      "metadata": {
        "id": "FcZGYrg4A6vr"
      },
      "source": [
        "## **Signals**\n",
        "\n",
        "First we calculate financial signals for the stocks, such as the Current Ratio, Debt Ratio, Net Profit Margin, Return on Assets, etc. These are calculated using data from the financial reports: Income Statements, Balance Sheets and Cash-Flow Statements, which are automatically downloaded and loaded by the data-hub."
      ]
    },
    {
      "cell_type": "code",
      "metadata": {
        "colab": {
          "base_uri": "https://localhost:8080/"
        },
        "id": "wTYLhOlQ6Ek4",
        "outputId": "6d5dc8f4-1c44-4707-bdaf-5e74afc309ce"
      },
      "source": [
        "%%time\n",
        "df_fin_signals = hub.fin_signals(variant='daily')"
      ],
      "execution_count": 9,
      "outputs": [
        {
          "output_type": "stream",
          "text": [
            "Dataset \"us-income-ttm\" not on disk.\n",
            "- Downloading ... 100.0%\n",
            "- Extracting zip-file ... Done!\n",
            "- Loading from disk ... Done!\n",
            "Dataset \"us-balance-ttm\" not on disk.\n",
            "- Downloading ... 100.0%\n",
            "- Extracting zip-file ... Done!\n",
            "- Loading from disk ... Done!\n",
            "Dataset \"us-cashflow-ttm\" not on disk.\n",
            "- Downloading ... 100.0%\n",
            "- Extracting zip-file ... Done!\n",
            "- Loading from disk ... Done!\n",
            "Dataset \"us-shareprices-daily\" not on disk.\n",
            "- Downloading ... 100.0%\n",
            "- Extracting zip-file ... Done!\n",
            "- Loading from disk ... Done!\n",
            "Cache-file 'fin_signals-2a38bb7d.pickle' not on disk.\n",
            "- Running function fin_signals() ... "
          ],
          "name": "stdout"
        },
        {
          "output_type": "stream",
          "text": [
            "/usr/local/lib/python3.7/dist-packages/pandas/core/series.py:726: RuntimeWarning: divide by zero encountered in log10\n",
            "  result = getattr(ufunc, method)(*inputs, **kwargs)\n",
            "/usr/local/lib/python3.7/dist-packages/pandas/core/series.py:726: RuntimeWarning: invalid value encountered in log10\n",
            "  result = getattr(ufunc, method)(*inputs, **kwargs)\n"
          ],
          "name": "stderr"
        },
        {
          "output_type": "stream",
          "text": [
            "Done!\n",
            "- Saving cache-file to disk ... Done!\n",
            "CPU times: user 2min 54s, sys: 11.9 s, total: 3min 6s\n",
            "Wall time: 3min 11s\n"
          ],
          "name": "stdout"
        }
      ]
    },
    {
      "cell_type": "markdown",
      "metadata": {
        "id": "XoSSn-jmE2dn"
      },
      "source": [
        "Now we calculate growth signals for the stocks, such as Earnings Growth, FCF Growth, Sales Growth, etc. These are also calculated using data from the financial reports: Income Statements, Balance Sheets and Cash-Flow Statements, which are automatically downloaded and loaded by the data-hub."
      ]
    },
    {
      "cell_type": "code",
      "metadata": {
        "colab": {
          "base_uri": "https://localhost:8080/"
        },
        "id": "kD0nhC4D6MaL",
        "outputId": "d1b80019-6c2c-4972-9a33-23868104bc7b"
      },
      "source": [
        "%%time\n",
        "df_growth_signals = hub.growth_signals(variant='daily')"
      ],
      "execution_count": 10,
      "outputs": [
        {
          "output_type": "stream",
          "text": [
            "Dataset \"us-income-quarterly\" not on disk.\n",
            "- Downloading ... 100.0%\n",
            "- Extracting zip-file ... Done!\n",
            "- Loading from disk ... Done!\n",
            "Dataset \"us-balance-quarterly\" not on disk.\n",
            "- Downloading ... 100.0%\n",
            "- Extracting zip-file ... Done!\n",
            "- Loading from disk ... Done!\n",
            "Dataset \"us-cashflow-quarterly\" not on disk.\n",
            "- Downloading ... 100.0%\n",
            "- Extracting zip-file ... Done!\n",
            "- Loading from disk ... Done!\n",
            "Cache-file 'growth_signals-2a38bb7d.pickle' not on disk.\n",
            "- Running function growth_signals() ... Done!\n",
            "- Saving cache-file to disk ... Done!\n",
            "CPU times: user 1min 36s, sys: 6.67 s, total: 1min 42s\n",
            "Wall time: 1min 46s\n"
          ],
          "name": "stdout"
        }
      ]
    },
    {
      "cell_type": "markdown",
      "metadata": {
        "id": "FkejVz9mFZ8C"
      },
      "source": [
        "Now we calculate valuation signals for the stocks, such as P/E, P/Sales, etc. These are calculated from the share-prices and data from the financial reports. Because the data-hub has already loaded the required datasets in the function-calls above, the data is merely reused here, and the data-hub can proceed directly to computing the signals."
      ]
    },
    {
      "cell_type": "code",
      "metadata": {
        "colab": {
          "base_uri": "https://localhost:8080/"
        },
        "id": "RA1M5lJu7LIF",
        "outputId": "ebaa98c4-fbc8-4476-b2b3-b6e9a2421083"
      },
      "source": [
        "%%time\n",
        "df_val_signals = hub.val_signals(variant='daily')"
      ],
      "execution_count": 11,
      "outputs": [
        {
          "output_type": "stream",
          "text": [
            "Cache-file 'val_signals-739b68a6.pickle' not on disk.\n",
            "- Running function val_signals() ... Done!\n",
            "- Saving cache-file to disk ... Done!\n",
            "CPU times: user 2min 27s, sys: 5.04 s, total: 2min 32s\n",
            "Wall time: 2min 30s\n"
          ],
          "name": "stdout"
        }
      ]
    },
    {
      "cell_type": "markdown",
      "metadata": {
        "id": "uecErDWIFe9Y"
      },
      "source": [
        "We now combine all the signals into a single DataFrame:"
      ]
    },
    {
      "cell_type": "code",
      "metadata": {
        "colab": {
          "base_uri": "https://localhost:8080/"
        },
        "id": "OQ1rMusl8hdv",
        "outputId": "6e761d67-2590-4079-ebb2-f46e7d36c421"
      },
      "source": [
        "%%time\n",
        "# Combine the DataFrames.\n",
        "dfs = [df_fin_signals, df_growth_signals, df_val_signals]\n",
        "df_signals = pd.concat(dfs, axis=1)"
      ],
      "execution_count": 12,
      "outputs": [
        {
          "output_type": "stream",
          "text": [
            "CPU times: user 2.16 s, sys: 22.3 ms, total: 2.18 s\n",
            "Wall time: 2.17 s\n"
          ],
          "name": "stdout"
        }
      ]
    },
    {
      "cell_type": "code",
      "metadata": {
        "colab": {
          "base_uri": "https://localhost:8080/",
          "height": 408
        },
        "id": "uaej9SVv-C-H",
        "outputId": "938e9b14-d362-412b-a397-00237f1f3b89"
      },
      "source": [
        "df_signals.dropna(how='all').tail()"
      ],
      "execution_count": 13,
      "outputs": [
        {
          "output_type": "execute_result",
          "data": {
            "text/html": [
              "<div>\n",
              "<style scoped>\n",
              "    .dataframe tbody tr th:only-of-type {\n",
              "        vertical-align: middle;\n",
              "    }\n",
              "\n",
              "    .dataframe tbody tr th {\n",
              "        vertical-align: top;\n",
              "    }\n",
              "\n",
              "    .dataframe thead th {\n",
              "        text-align: right;\n",
              "    }\n",
              "</style>\n",
              "<table border=\"1\" class=\"dataframe\">\n",
              "  <thead>\n",
              "    <tr style=\"text-align: right;\">\n",
              "      <th></th>\n",
              "      <th></th>\n",
              "      <th>(Dividends + Share Buyback) / FCF</th>\n",
              "      <th>Asset Turnover</th>\n",
              "      <th>CapEx / (Depr + Amor)</th>\n",
              "      <th>Current Ratio</th>\n",
              "      <th>Debt Ratio</th>\n",
              "      <th>Dividends / FCF</th>\n",
              "      <th>Gross Profit Margin</th>\n",
              "      <th>Interest Coverage</th>\n",
              "      <th>Inventory Turnover</th>\n",
              "      <th>Log Revenue</th>\n",
              "      <th>Net Acquisitions / Total Assets</th>\n",
              "      <th>Net Profit Margin</th>\n",
              "      <th>Quick Ratio</th>\n",
              "      <th>R&amp;D / Gross Profit</th>\n",
              "      <th>R&amp;D / Revenue</th>\n",
              "      <th>Return on Assets</th>\n",
              "      <th>Return on Equity</th>\n",
              "      <th>Return on Research Capital</th>\n",
              "      <th>Share Buyback / FCF</th>\n",
              "      <th>Assets Growth</th>\n",
              "      <th>Assets Growth QOQ</th>\n",
              "      <th>Assets Growth YOY</th>\n",
              "      <th>Earnings Growth</th>\n",
              "      <th>Earnings Growth QOQ</th>\n",
              "      <th>Earnings Growth YOY</th>\n",
              "      <th>FCF Growth</th>\n",
              "      <th>FCF Growth QOQ</th>\n",
              "      <th>FCF Growth YOY</th>\n",
              "      <th>Sales Growth</th>\n",
              "      <th>Sales Growth QOQ</th>\n",
              "      <th>Sales Growth YOY</th>\n",
              "      <th>Dividend Yield</th>\n",
              "      <th>Earnings Yield</th>\n",
              "      <th>FCF Yield</th>\n",
              "      <th>Market-Cap</th>\n",
              "      <th>P/Cash</th>\n",
              "      <th>P/E</th>\n",
              "      <th>P/FCF</th>\n",
              "      <th>P/NCAV</th>\n",
              "      <th>P/NetNet</th>\n",
              "      <th>P/Sales</th>\n",
              "      <th>Price to Book Value</th>\n",
              "    </tr>\n",
              "    <tr>\n",
              "      <th>Ticker</th>\n",
              "      <th>Date</th>\n",
              "      <th></th>\n",
              "      <th></th>\n",
              "      <th></th>\n",
              "      <th></th>\n",
              "      <th></th>\n",
              "      <th></th>\n",
              "      <th></th>\n",
              "      <th></th>\n",
              "      <th></th>\n",
              "      <th></th>\n",
              "      <th></th>\n",
              "      <th></th>\n",
              "      <th></th>\n",
              "      <th></th>\n",
              "      <th></th>\n",
              "      <th></th>\n",
              "      <th></th>\n",
              "      <th></th>\n",
              "      <th></th>\n",
              "      <th></th>\n",
              "      <th></th>\n",
              "      <th></th>\n",
              "      <th></th>\n",
              "      <th></th>\n",
              "      <th></th>\n",
              "      <th></th>\n",
              "      <th></th>\n",
              "      <th></th>\n",
              "      <th></th>\n",
              "      <th></th>\n",
              "      <th></th>\n",
              "      <th></th>\n",
              "      <th></th>\n",
              "      <th></th>\n",
              "      <th></th>\n",
              "      <th></th>\n",
              "      <th></th>\n",
              "      <th></th>\n",
              "      <th></th>\n",
              "      <th></th>\n",
              "      <th></th>\n",
              "      <th></th>\n",
              "    </tr>\n",
              "  </thead>\n",
              "  <tbody>\n",
              "    <tr>\n",
              "      <th rowspan=\"5\" valign=\"top\">ZYXI</th>\n",
              "      <th>2020-07-31</th>\n",
              "      <td>-0.091642</td>\n",
              "      <td>1.550298</td>\n",
              "      <td>NaN</td>\n",
              "      <td>4.404868</td>\n",
              "      <td>NaN</td>\n",
              "      <td>0.000636</td>\n",
              "      <td>0.797472</td>\n",
              "      <td>1252.0</td>\n",
              "      <td>15.020122</td>\n",
              "      <td>7.711841</td>\n",
              "      <td>NaN</td>\n",
              "      <td>0.195694</td>\n",
              "      <td>3.622557</td>\n",
              "      <td>NaN</td>\n",
              "      <td>NaN</td>\n",
              "      <td>0.303383</td>\n",
              "      <td>0.432427</td>\n",
              "      <td>NaN</td>\n",
              "      <td>-0.092278</td>\n",
              "      <td>0.761039</td>\n",
              "      <td>0.174877</td>\n",
              "      <td>0.761039</td>\n",
              "      <td>0.009717</td>\n",
              "      <td>-0.003393</td>\n",
              "      <td>0.249787</td>\n",
              "      <td>-0.53689</td>\n",
              "      <td>-0.827141</td>\n",
              "      <td>-0.810091</td>\n",
              "      <td>0.504337</td>\n",
              "      <td>0.075272</td>\n",
              "      <td>0.655937</td>\n",
              "      <td>0.000005</td>\n",
              "      <td>0.015466</td>\n",
              "      <td>0.007234</td>\n",
              "      <td>651681300.0</td>\n",
              "      <td>44.681611</td>\n",
              "      <td>64.657337</td>\n",
              "      <td>138.243806</td>\n",
              "      <td>41.287462</td>\n",
              "      <td>57.684950</td>\n",
              "      <td>12.653023</td>\n",
              "      <td>27.959555</td>\n",
              "    </tr>\n",
              "    <tr>\n",
              "      <th>2020-08-03</th>\n",
              "      <td>-0.091642</td>\n",
              "      <td>1.550298</td>\n",
              "      <td>NaN</td>\n",
              "      <td>4.404868</td>\n",
              "      <td>NaN</td>\n",
              "      <td>0.000636</td>\n",
              "      <td>0.797472</td>\n",
              "      <td>1252.0</td>\n",
              "      <td>15.020122</td>\n",
              "      <td>7.711841</td>\n",
              "      <td>NaN</td>\n",
              "      <td>0.195694</td>\n",
              "      <td>3.622557</td>\n",
              "      <td>NaN</td>\n",
              "      <td>NaN</td>\n",
              "      <td>0.303383</td>\n",
              "      <td>0.432427</td>\n",
              "      <td>NaN</td>\n",
              "      <td>-0.092278</td>\n",
              "      <td>0.761039</td>\n",
              "      <td>0.174877</td>\n",
              "      <td>0.761039</td>\n",
              "      <td>0.009717</td>\n",
              "      <td>-0.003393</td>\n",
              "      <td>0.249787</td>\n",
              "      <td>-0.53689</td>\n",
              "      <td>-0.827141</td>\n",
              "      <td>-0.810091</td>\n",
              "      <td>0.504337</td>\n",
              "      <td>0.075272</td>\n",
              "      <td>0.655937</td>\n",
              "      <td>0.000005</td>\n",
              "      <td>0.015654</td>\n",
              "      <td>0.007322</td>\n",
              "      <td>643842037.5</td>\n",
              "      <td>44.144123</td>\n",
              "      <td>63.879555</td>\n",
              "      <td>136.580831</td>\n",
              "      <td>40.790803</td>\n",
              "      <td>56.991041</td>\n",
              "      <td>12.500816</td>\n",
              "      <td>27.623221</td>\n",
              "    </tr>\n",
              "    <tr>\n",
              "      <th>2020-08-04</th>\n",
              "      <td>-0.091642</td>\n",
              "      <td>1.550298</td>\n",
              "      <td>NaN</td>\n",
              "      <td>4.404868</td>\n",
              "      <td>NaN</td>\n",
              "      <td>0.000636</td>\n",
              "      <td>0.797472</td>\n",
              "      <td>1252.0</td>\n",
              "      <td>15.020122</td>\n",
              "      <td>7.711841</td>\n",
              "      <td>NaN</td>\n",
              "      <td>0.195694</td>\n",
              "      <td>3.622557</td>\n",
              "      <td>NaN</td>\n",
              "      <td>NaN</td>\n",
              "      <td>0.303383</td>\n",
              "      <td>0.432427</td>\n",
              "      <td>NaN</td>\n",
              "      <td>-0.092278</td>\n",
              "      <td>0.761039</td>\n",
              "      <td>0.174877</td>\n",
              "      <td>0.761039</td>\n",
              "      <td>0.009717</td>\n",
              "      <td>-0.003393</td>\n",
              "      <td>0.249787</td>\n",
              "      <td>-0.53689</td>\n",
              "      <td>-0.827141</td>\n",
              "      <td>-0.810091</td>\n",
              "      <td>0.504337</td>\n",
              "      <td>0.075272</td>\n",
              "      <td>0.655937</td>\n",
              "      <td>0.000005</td>\n",
              "      <td>0.016383</td>\n",
              "      <td>0.007662</td>\n",
              "      <td>615211687.5</td>\n",
              "      <td>42.181124</td>\n",
              "      <td>61.038961</td>\n",
              "      <td>130.507358</td>\n",
              "      <td>38.976919</td>\n",
              "      <td>54.456765</td>\n",
              "      <td>11.944930</td>\n",
              "      <td>26.394872</td>\n",
              "    </tr>\n",
              "    <tr>\n",
              "      <th>2020-08-05</th>\n",
              "      <td>-0.091642</td>\n",
              "      <td>1.550298</td>\n",
              "      <td>NaN</td>\n",
              "      <td>4.404868</td>\n",
              "      <td>NaN</td>\n",
              "      <td>0.000636</td>\n",
              "      <td>0.797472</td>\n",
              "      <td>1252.0</td>\n",
              "      <td>15.020122</td>\n",
              "      <td>7.711841</td>\n",
              "      <td>NaN</td>\n",
              "      <td>0.195694</td>\n",
              "      <td>3.622557</td>\n",
              "      <td>NaN</td>\n",
              "      <td>NaN</td>\n",
              "      <td>0.303383</td>\n",
              "      <td>0.432427</td>\n",
              "      <td>NaN</td>\n",
              "      <td>-0.092278</td>\n",
              "      <td>0.761039</td>\n",
              "      <td>0.174877</td>\n",
              "      <td>0.761039</td>\n",
              "      <td>0.009717</td>\n",
              "      <td>-0.003393</td>\n",
              "      <td>0.249787</td>\n",
              "      <td>-0.53689</td>\n",
              "      <td>-0.827141</td>\n",
              "      <td>-0.810091</td>\n",
              "      <td>0.504337</td>\n",
              "      <td>0.075272</td>\n",
              "      <td>0.655937</td>\n",
              "      <td>0.000005</td>\n",
              "      <td>0.016320</td>\n",
              "      <td>0.007633</td>\n",
              "      <td>617597550.0</td>\n",
              "      <td>42.344707</td>\n",
              "      <td>61.275677</td>\n",
              "      <td>131.013481</td>\n",
              "      <td>39.128076</td>\n",
              "      <td>54.667955</td>\n",
              "      <td>11.991254</td>\n",
              "      <td>26.497235</td>\n",
              "    </tr>\n",
              "    <tr>\n",
              "      <th>2020-08-06</th>\n",
              "      <td>-0.091642</td>\n",
              "      <td>1.550298</td>\n",
              "      <td>NaN</td>\n",
              "      <td>4.404868</td>\n",
              "      <td>NaN</td>\n",
              "      <td>0.000636</td>\n",
              "      <td>0.797472</td>\n",
              "      <td>1252.0</td>\n",
              "      <td>15.020122</td>\n",
              "      <td>7.711841</td>\n",
              "      <td>NaN</td>\n",
              "      <td>0.195694</td>\n",
              "      <td>3.622557</td>\n",
              "      <td>NaN</td>\n",
              "      <td>NaN</td>\n",
              "      <td>0.303383</td>\n",
              "      <td>0.432427</td>\n",
              "      <td>NaN</td>\n",
              "      <td>-0.092278</td>\n",
              "      <td>0.761039</td>\n",
              "      <td>0.174877</td>\n",
              "      <td>0.761039</td>\n",
              "      <td>0.009717</td>\n",
              "      <td>-0.003393</td>\n",
              "      <td>0.249787</td>\n",
              "      <td>-0.53689</td>\n",
              "      <td>-0.827141</td>\n",
              "      <td>-0.810091</td>\n",
              "      <td>0.504337</td>\n",
              "      <td>0.075272</td>\n",
              "      <td>0.655937</td>\n",
              "      <td>0.000005</td>\n",
              "      <td>0.017581</td>\n",
              "      <td>0.008223</td>\n",
              "      <td>573288675.0</td>\n",
              "      <td>39.306731</td>\n",
              "      <td>56.879519</td>\n",
              "      <td>121.614059</td>\n",
              "      <td>36.320874</td>\n",
              "      <td>50.745861</td>\n",
              "      <td>11.130954</td>\n",
              "      <td>24.596219</td>\n",
              "    </tr>\n",
              "  </tbody>\n",
              "</table>\n",
              "</div>"
            ],
            "text/plain": [
              "                   (Dividends + Share Buyback) / FCF  ...  Price to Book Value\n",
              "Ticker Date                                           ...                     \n",
              "ZYXI   2020-07-31                          -0.091642  ...            27.959555\n",
              "       2020-08-03                          -0.091642  ...            27.623221\n",
              "       2020-08-04                          -0.091642  ...            26.394872\n",
              "       2020-08-05                          -0.091642  ...            26.497235\n",
              "       2020-08-06                          -0.091642  ...            24.596219\n",
              "\n",
              "[5 rows x 42 columns]"
            ]
          },
          "metadata": {
            "tags": []
          },
          "execution_count": 13
        }
      ]
    },
    {
      "cell_type": "markdown",
      "metadata": {
        "id": "8TMIAzdBFnIx"
      },
      "source": [
        "## **Missing Data**\n",
        "\n",
        "Some of the signals have a lot of missing data which cannot be handled by scikit-learn. Below is the fraction of each signal-column that is missing:"
      ]
    },
    {
      "cell_type": "code",
      "metadata": {
        "colab": {
          "base_uri": "https://localhost:8080/"
        },
        "id": "DxHwbvOQ-Iw-",
        "outputId": "e9ba41ea-1355-46ea-a572-72e932cd5917"
      },
      "source": [
        "# Remove all rows with only NaN values.\n",
        "df = df_signals.dropna(how='all').reset_index(drop=True)\n",
        "\n",
        "# For each column, show the fraction of the rows that are NaN.\n",
        "(df.isnull().sum() / len(df)).sort_values(ascending=False)"
      ],
      "execution_count": 14,
      "outputs": [
        {
          "output_type": "execute_result",
          "data": {
            "text/plain": [
              "R&D / Revenue                        0.609849\n",
              "R&D / Gross Profit                   0.609710\n",
              "Return on Research Capital           0.609710\n",
              "Dividend Yield                       0.441065\n",
              "Inventory Turnover                   0.289154\n",
              "Debt Ratio                           0.264525\n",
              "Net Acquisitions / Total Assets      0.261299\n",
              "Sales Growth YOY                     0.155158\n",
              "Sales Growth                         0.145834\n",
              "FCF Growth YOY                       0.145031\n",
              "Assets Growth YOY                    0.145016\n",
              "Earnings Growth YOY                  0.145016\n",
              "Assets Growth                        0.137141\n",
              "Earnings Growth                      0.137141\n",
              "FCF Growth                           0.137141\n",
              "Interest Coverage                    0.099638\n",
              "Sales Growth QOQ                     0.063761\n",
              "Earnings Growth QOQ                  0.051099\n",
              "Assets Growth QOQ                    0.051099\n",
              "FCF Growth QOQ                       0.051099\n",
              "CapEx / (Depr + Amor)                0.039883\n",
              "P/Sales                              0.025382\n",
              "Gross Profit Margin                  0.020915\n",
              "P/Cash                               0.018192\n",
              "Log Revenue                          0.017724\n",
              "Asset Turnover                       0.017674\n",
              "Net Profit Margin                    0.017674\n",
              "Price to Book Value                  0.016961\n",
              "Earnings Yield                       0.016961\n",
              "FCF Yield                            0.016961\n",
              "Market-Cap                           0.016961\n",
              "P/E                                  0.016961\n",
              "P/FCF                                0.016961\n",
              "P/NCAV                               0.016961\n",
              "P/NetNet                             0.016961\n",
              "Quick Ratio                          0.010491\n",
              "Return on Assets                     0.009246\n",
              "Return on Equity                     0.009246\n",
              "Share Buyback / FCF                  0.009246\n",
              "Dividends / FCF                      0.009246\n",
              "Current Ratio                        0.009246\n",
              "(Dividends + Share Buyback) / FCF    0.009246\n",
              "dtype: float64"
            ]
          },
          "metadata": {
            "tags": []
          },
          "execution_count": 14
        }
      ]
    },
    {
      "cell_type": "markdown",
      "metadata": {
        "id": "Y71gO4Z_F43t"
      },
      "source": [
        "We removed all signals that have more than 25% missing data:"
      ]
    },
    {
      "cell_type": "code",
      "metadata": {
        "colab": {
          "base_uri": "https://localhost:8080/"
        },
        "id": "fLFYiE_1_WPI",
        "outputId": "06ae8b3b-fb85-412b-d7f5-28fd75df809a"
      },
      "source": [
        "# List of the columns before removing any.\n",
        "columns_before = df_signals.columns\n",
        "\n",
        "# Threshold for the number of rows that must be NaN for each column.\n",
        "thresh = 0.75 * len(df_signals.dropna(how='all'))\n",
        "\n",
        "# Remove all columns which don't have sufficient data.\n",
        "df_signals = df_signals.dropna(axis='columns', thresh=thresh)\n",
        "\n",
        "# List of the columns after the removal.\n",
        "columns_after = df_signals.columns\n",
        "\n",
        "# Show the columns that were removed.\n",
        "columns_before.difference(columns_after)"
      ],
      "execution_count": 15,
      "outputs": [
        {
          "output_type": "execute_result",
          "data": {
            "text/plain": [
              "Index(['Debt Ratio', 'Dividend Yield', 'Inventory Turnover',\n",
              "       'Net Acquisitions / Total Assets', 'R&D / Gross Profit',\n",
              "       'R&D / Revenue', 'Return on Research Capital'],\n",
              "      dtype='object')"
            ]
          },
          "metadata": {
            "tags": []
          },
          "execution_count": 15
        }
      ]
    },
    {
      "cell_type": "markdown",
      "metadata": {
        "id": "K2Sl5a25GG7Z"
      },
      "source": [
        "## **1-3 Year Returns**\n",
        "\n",
        "We want to try and predict the average 1-3 year returns by considering the mean log-returns."
      ]
    },
    {
      "cell_type": "code",
      "metadata": {
        "id": "-uAwTCKyAPXv"
      },
      "source": [
        "# Name of the new column for the returns.\n",
        "TOTAL_RETURN_1_3Y = 'Total Return 1-3 Years'"
      ],
      "execution_count": 16,
      "outputs": []
    },
    {
      "cell_type": "code",
      "metadata": {
        "colab": {
          "base_uri": "https://localhost:8080/"
        },
        "id": "MirmskzPAdmk",
        "outputId": "a6509f5b-1f58-4c1d-f84a-6da0321148f8"
      },
      "source": [
        "%%time\n",
        "# Calculate the mean log-returns for all 1-3 year periods.\n",
        "df_returns_1_3y = \\\n",
        "    hub.mean_log_returns(name=TOTAL_RETURN_1_3Y,\n",
        "                         future=True, annualized=True,\n",
        "                         min_years=1, max_years=3)"
      ],
      "execution_count": 17,
      "outputs": [
        {
          "output_type": "stream",
          "text": [
            "Cache-file 'mean_log_change-5cec82bd.pickle' not on disk.\n",
            "- Running function mean_log_change() ... Done!\n",
            "- Saving cache-file to disk ... Done!\n",
            "CPU times: user 52.1 s, sys: 411 ms, total: 52.5 s\n",
            "Wall time: 52.3 s\n"
          ],
          "name": "stdout"
        }
      ]
    },
    {
      "cell_type": "code",
      "metadata": {
        "colab": {
          "base_uri": "https://localhost:8080/"
        },
        "id": "l8sK5rdCv9HX",
        "outputId": "33a82f7a-232b-4e17-87cf-ab1fe66da5ce"
      },
      "source": [
        "df_returns_1_3y"
      ],
      "execution_count": 18,
      "outputs": [
        {
          "output_type": "execute_result",
          "data": {
            "text/plain": [
              "Ticker  Date      \n",
              "A       2007-01-03   -0.147205\n",
              "        2007-01-04   -0.149268\n",
              "        2007-01-05   -0.144580\n",
              "        2007-01-08   -0.143036\n",
              "        2007-01-09   -0.144187\n",
              "                        ...   \n",
              "ZYXI    2020-07-31         NaN\n",
              "        2020-08-03         NaN\n",
              "        2020-08-04         NaN\n",
              "        2020-08-05         NaN\n",
              "        2020-08-06         NaN\n",
              "Name: Total Return 1-3 Years, Length: 6952738, dtype: float64"
            ]
          },
          "metadata": {
            "tags": []
          },
          "execution_count": 18
        }
      ]
    },
    {
      "cell_type": "markdown",
      "metadata": {
        "id": "clg5aeiUGf0r"
      },
      "source": [
        "## **Combine Signals and Returns**\n",
        "\n",
        "We then combine the signals and returns into a single DataFrame to align the data."
      ]
    },
    {
      "cell_type": "code",
      "metadata": {
        "colab": {
          "base_uri": "https://localhost:8080/"
        },
        "id": "YhIiVg53Aht4",
        "outputId": "c97fd560-a694-43d6-b717-4b47d6befded"
      },
      "source": [
        "%%time\n",
        "dfs = [df_signals, df_returns_1_3y]\n",
        "df_sig_rets = pd.concat(dfs, axis=1)"
      ],
      "execution_count": 19,
      "outputs": [
        {
          "output_type": "stream",
          "text": [
            "CPU times: user 2.04 s, sys: 17.4 ms, total: 2.06 s\n",
            "Wall time: 2.04 s\n"
          ],
          "name": "stdout"
        }
      ]
    },
    {
      "cell_type": "code",
      "metadata": {
        "colab": {
          "base_uri": "https://localhost:8080/"
        },
        "id": "WxjeMP5dBFjR",
        "outputId": "f95c386d-5f13-4228-e1ff-e9fd490a330f"
      },
      "source": [
        "df_sig_rets.shape"
      ],
      "execution_count": 20,
      "outputs": [
        {
          "output_type": "execute_result",
          "data": {
            "text/plain": [
              "(6952738, 36)"
            ]
          },
          "metadata": {
            "tags": []
          },
          "execution_count": 20
        }
      ]
    },
    {
      "cell_type": "markdown",
      "metadata": {
        "id": "CxDsUw3KGqAq"
      },
      "source": [
        "## **Data Cleaning**\n",
        "\n",
        "The data also contains outliers and still has missing values, so we used a common method for removing outliers which is called Winsorization of the data. It limits or clips the data between e.g. the 5% and 95% quantiles of the data. We have Winsorized both the stock-returns and all the signals. After that, we removed all rows with missing values, because scikit-learn cannot handle that. Finally we removed tickers that have less than 200 rows of data.\n",
        "\n",
        "There were more than 6 million data-rows before this cleaning:"
      ]
    },
    {
      "cell_type": "code",
      "metadata": {
        "id": "C4HLv-Y2BRDl",
        "colab": {
          "base_uri": "https://localhost:8080/"
        },
        "outputId": "e2a77341-9447-4dd0-9d6a-81fafb931e0f"
      },
      "source": [
        "%%time\n",
        "\n",
        "# Clip the signals and returns at their 5% and 95% quantiles.\n",
        "# We do not set them to NaN because it would remove too much data.\n",
        "df_sig_rets = sf.winsorize(df_sig_rets)\n",
        "\n",
        "# Remove all rows with missing values (NaN)\n",
        "# because scikit-learn cannot handle that.\n",
        "df_sig_rets = df_sig_rets.dropna(how='any')\n",
        "\n",
        "# Remove all tickers which have less than 200 data-rows.\n",
        "df_sig_rets = df_sig_rets.groupby(TICKER) \\\n",
        "                .filter(lambda df: len(df)>200)"
      ],
      "execution_count": 21,
      "outputs": [
        {
          "output_type": "stream",
          "text": [
            "CPU times: user 23.2 s, sys: 2.63 s, total: 25.9 s\n",
            "Wall time: 22.9 s\n"
          ],
          "name": "stdout"
        }
      ]
    },
    {
      "cell_type": "code",
      "metadata": {
        "id": "E3TaORI-BXne",
        "colab": {
          "base_uri": "https://localhost:8080/"
        },
        "outputId": "fd0818ff-fcfb-448c-e7f9-9a89806bf508"
      },
      "source": [
        "df_sig_rets.shape"
      ],
      "execution_count": 22,
      "outputs": [
        {
          "output_type": "execute_result",
          "data": {
            "text/plain": [
              "(1754286, 36)"
            ]
          },
          "metadata": {
            "tags": []
          },
          "execution_count": 22
        }
      ]
    },
    {
      "cell_type": "markdown",
      "metadata": {
        "id": "R7YczFlTHTLg"
      },
      "source": [
        "The reason that so many rows have been removed, is that scikit-learn cannot handle rows with missing values (NaN). Some missing values could be set to a default value, e.g. the Dividend Yield could be set to 0. Other columns could be omitted because they don't have any predictive power anyway. \n",
        "\n",
        "## **Correlation: Signals vs. Return**\n",
        "\n",
        "The linear correlation between the signals and stock-returns can be used to assess which signals might be the best predictors for stock-returns.\n",
        "\n",
        "A correlation value of +1 means the two variables are perfectly correlated, so they always increase and decrease together in a linear way. Conversely, a correlation value of -1 means the two variables are perfectly inversely correlated, so they always increase and decrease in the opposite direction of each other. A correlation value of zero means that there is no linear relation between the signal and stock-returns, but there may still be a strong non-linear relation.\n",
        "\n",
        "We use the Winsorized data when studying the correlation, because data-outliers may falsely indicate a strong overall correlation, when in fact there is no correlation for the majority of the data.\n",
        "\n",
        "The following calculates the correlation between all the signals and the 1-3 year average stock-returns, sorted according to the absolute correlation strength:"
      ]
    },
    {
      "cell_type": "code",
      "metadata": {
        "colab": {
          "base_uri": "https://localhost:8080/"
        },
        "id": "p6Zv-f4nMa81",
        "outputId": "de4db4ae-da45-4c91-f133-54fa800f07a9"
      },
      "source": [
        "# New column-name for correlation between signals and returns.\n",
        "RETURN_CORR = 'Return Correlation'\n",
        "\n",
        "# Calculate the correlation between all data-columns.\n",
        "df_corr = df_sig_rets.corr()\n",
        "\n",
        "# Correlation between signals and returns.\n",
        "# Sorted to show the strongest absolute correlations first.\n",
        "df_corr_returns = df_corr[TOTAL_RETURN_1_3Y] \\\n",
        "                    .abs() \\\n",
        "                    .drop(TOTAL_RETURN_1_3Y) \\\n",
        "                    .sort_values(ascending=False) \\\n",
        "                    .rename(RETURN_CORR)\n",
        "\n",
        "# Show the correlations between signals and returns.\n",
        "df_corr_returns"
      ],
      "execution_count": 23,
      "outputs": [
        {
          "output_type": "execute_result",
          "data": {
            "text/plain": [
              "Net Profit Margin                    0.179823\n",
              "Return on Assets                     0.169738\n",
              "Earnings Yield                       0.153571\n",
              "Log Revenue                          0.127872\n",
              "Return on Equity                     0.121230\n",
              "FCF Yield                            0.115599\n",
              "P/E                                  0.077106\n",
              "P/FCF                                0.066776\n",
              "Current Ratio                        0.060111\n",
              "P/Sales                              0.057554\n",
              "Market-Cap                           0.054481\n",
              "Dividends / FCF                      0.053831\n",
              "Quick Ratio                          0.042061\n",
              "Price to Book Value                  0.038819\n",
              "(Dividends + Share Buyback) / FCF    0.036685\n",
              "CapEx / (Depr + Amor)                0.036108\n",
              "Asset Turnover                       0.030061\n",
              "FCF Growth                           0.029083\n",
              "P/NCAV                               0.028812\n",
              "Share Buyback / FCF                  0.027415\n",
              "Assets Growth                        0.025805\n",
              "Assets Growth YOY                    0.025712\n",
              "P/NetNet                             0.025510\n",
              "Earnings Growth                      0.022352\n",
              "Assets Growth QOQ                    0.022339\n",
              "FCF Growth YOY                       0.020355\n",
              "Sales Growth QOQ                     0.020047\n",
              "Earnings Growth QOQ                  0.020032\n",
              "Earnings Growth YOY                  0.019653\n",
              "P/Cash                               0.015078\n",
              "Sales Growth                         0.014204\n",
              "Interest Coverage                    0.012846\n",
              "Sales Growth YOY                     0.011551\n",
              "Gross Profit Margin                  0.011505\n",
              "FCF Growth QOQ                       0.010294\n",
              "Name: Return Correlation, dtype: float64"
            ]
          },
          "metadata": {
            "tags": []
          },
          "execution_count": 23
        }
      ]
    },
    {
      "cell_type": "markdown",
      "metadata": {
        "id": "IEyvcBN7HouX"
      },
      "source": [
        "## **Split Training / Test-Sets**\n",
        "\n",
        "If we randomly divide all the data-rows into training- and test-sets, we would most likely get data for every stock-ticker in both the training- and test-sets, which would probably make them highly correlated. To avoid this, we split the dataset according to stock-tickers, so a ticker belongs to either the training- or test-set, but not both. We use 80% of all the tickers in the training-set, and 20% in the test-set."
      ]
    },
    {
      "cell_type": "code",
      "metadata": {
        "id": "XXahN70iMggs"
      },
      "source": [
        "# List of all unique stock-tickers in the dataset.\n",
        "tickers = df_sig_rets.reset_index()[TICKER].unique()\n",
        "\n",
        "# Split the tickers into training- and test-sets.\n",
        "tickers_train, tickers_test = \\\n",
        "    train_test_split(tickers, train_size=0.8, random_state=1234)"
      ],
      "execution_count": 24,
      "outputs": []
    },
    {
      "cell_type": "markdown",
      "metadata": {
        "id": "9zSDmxxnHyn_"
      },
      "source": [
        "Now that we have lists of tickers for the training- and test-sets, we then selected those rows from the DataFrame with signals and stock-returns:"
      ]
    },
    {
      "cell_type": "code",
      "metadata": {
        "colab": {
          "base_uri": "https://localhost:8080/"
        },
        "id": "ECyKseN-MmCT",
        "outputId": "7af2ed28-3cae-4177-d6b8-8819697204e9"
      },
      "source": [
        "%%time\n",
        "df_train = df_sig_rets.loc[tickers_train]\n",
        "df_test = df_sig_rets.loc[tickers_test]"
      ],
      "execution_count": 25,
      "outputs": [
        {
          "output_type": "stream",
          "text": [
            "CPU times: user 264 ms, sys: 54.3 ms, total: 319 ms\n",
            "Wall time: 317 ms\n"
          ],
          "name": "stdout"
        }
      ]
    },
    {
      "cell_type": "markdown",
      "metadata": {
        "id": "tZXoi0P_H099"
      },
      "source": [
        "We then split these DataFrames into signals and stock-returns; that is, X and y-values that the Machine Learning model must try and find a mapping between. "
      ]
    },
    {
      "cell_type": "code",
      "metadata": {
        "id": "jQSodqX5Mpd7"
      },
      "source": [
        "# DataFrames with signals for training- and test-sets.\n",
        "X_train = df_train.drop(columns=[TOTAL_RETURN_1_3Y])\n",
        "X_test = df_test.drop(columns=[TOTAL_RETURN_1_3Y])\n",
        "\n",
        "# DataFrames with stock-returns for training- and test-sets.\n",
        "y_train = df_train[TOTAL_RETURN_1_3Y]\n",
        "y_test = df_test[TOTAL_RETURN_1_3Y]"
      ],
      "execution_count": 26,
      "outputs": []
    },
    {
      "cell_type": "code",
      "metadata": {
        "colab": {
          "base_uri": "https://localhost:8080/"
        },
        "id": "8GYTYeLLMs7a",
        "outputId": "85a3b3a8-889b-4dc4-92cf-a0e24a9af2c1"
      },
      "source": [
        "X_train.shape, y_train.shape"
      ],
      "execution_count": 27,
      "outputs": [
        {
          "output_type": "execute_result",
          "data": {
            "text/plain": [
              "((1397670, 35), (1397670,))"
            ]
          },
          "metadata": {
            "tags": []
          },
          "execution_count": 27
        }
      ]
    },
    {
      "cell_type": "code",
      "metadata": {
        "colab": {
          "base_uri": "https://localhost:8080/"
        },
        "id": "9iFim4GSMwHY",
        "outputId": "f43fa2cd-46a6-4f7e-a66c-a426347d11b8"
      },
      "source": [
        "\n",
        "X_test.shape, y_test.shape"
      ],
      "execution_count": 28,
      "outputs": [
        {
          "output_type": "execute_result",
          "data": {
            "text/plain": [
              "((356616, 35), (356616,))"
            ]
          },
          "metadata": {
            "tags": []
          },
          "execution_count": 28
        }
      ]
    },
    {
      "cell_type": "markdown",
      "metadata": {
        "id": "GWJtFjTIIAOo"
      },
      "source": [
        "## **Helper Functions**\n",
        "\n",
        "The following are helper-functions for printing and plotting the results."
      ]
    },
    {
      "cell_type": "code",
      "metadata": {
        "id": "iyklY7bRMzJ6"
      },
      "source": [
        "# List of signal names.\n",
        "signal_names = X_train.columns.values\n",
        "\n",
        "# List of signal names where spaces are replaced with _\n",
        "signal_names_ = [s.replace(' ', '_') for s in signal_names]"
      ],
      "execution_count": 29,
      "outputs": []
    },
    {
      "cell_type": "code",
      "metadata": {
        "id": "USWNMh5CNKYs"
      },
      "source": [
        "# Column-name.\n",
        "FEATURE_IMPORTANCE = 'Feature Importance'"
      ],
      "execution_count": 30,
      "outputs": []
    },
    {
      "cell_type": "code",
      "metadata": {
        "id": "XOIlf_APNN4N"
      },
      "source": [
        "def compare_feature_imp_corr(estimator):\n",
        "    \"\"\"\n",
        "    Return a DataFrame which compares the signals' Feature\n",
        "    Importance in the Machine Learning model, to the absolute\n",
        "    correlation of the signals and stock-returns.\n",
        "    \n",
        "    :param estimator: Sklearn ensemble estimator.\n",
        "    :return: Pandas DataFrame.\n",
        "    \"\"\"\n",
        "    \n",
        "    # Wrap the list of Feature Importance in a Pandas Series.\n",
        "    df_feat_imp = pd.Series(estimator.feature_importances_,\n",
        "                            index=signal_names,\n",
        "                            name=FEATURE_IMPORTANCE)\n",
        "\n",
        "    # Concatenate the DataFrames with Feature Importance\n",
        "    # and Return Correlation.\n",
        "    dfs = [df_feat_imp, df_corr_returns]\n",
        "    df_compare = pd.concat(dfs, axis=1, sort=True)\n",
        "    \n",
        "    # Sort by Feature Importance.\n",
        "    df_compare.sort_values(by=FEATURE_IMPORTANCE,\n",
        "                           ascending=False, inplace=True)\n",
        "    \n",
        "    return df_compare"
      ],
      "execution_count": 31,
      "outputs": []
    },
    {
      "cell_type": "code",
      "metadata": {
        "id": "MwndrLrFNQzR"
      },
      "source": [
        "def print_tree(estimator, max_depth=6, **kwargs):\n",
        "    \"\"\"\n",
        "    Print the first Decision Tree from a Random Forest.\n",
        "    :param estimator: Sklearn ensemble estimator.\n",
        "    \"\"\"\n",
        "    s = export_text(estimator.estimators_[0],\n",
        "                    max_depth=max_depth,\n",
        "                    feature_names=signal_names_,\n",
        "                    **kwargs)\n",
        "    print(s)"
      ],
      "execution_count": 32,
      "outputs": []
    },
    {
      "cell_type": "code",
      "metadata": {
        "id": "mpynCNE7NU0j"
      },
      "source": [
        "def plot_confusion_matrix(y_true, y_pred):\n",
        "    \"\"\"\n",
        "    Plot a classification confusion matrix.\n",
        "    \n",
        "    :param y_true: Array of true classes.\n",
        "    :param y_pred: Array of predicted classes.\n",
        "    \"\"\"\n",
        "    \n",
        "    # Class labels.\n",
        "    labels = [1.0, -1.0]\n",
        "    labels_text = ['Gain', 'Loss']\n",
        "\n",
        "    # Create confusion matrix.\n",
        "    mat = confusion_matrix(y_true=y_true, y_pred=y_pred,\n",
        "                           labels=labels)\n",
        "    \n",
        "    # Normalize so all matrix entries sum to 1.0\n",
        "    mat = mat / len(y_true)\n",
        "    \n",
        "    # Plot the matrix as a heatmap.\n",
        "    sns.heatmap(mat, robust=True,\n",
        "                xticklabels=labels_text,\n",
        "                yticklabels=labels_text)"
      ],
      "execution_count": 33,
      "outputs": []
    },
    {
      "cell_type": "markdown",
      "metadata": {
        "id": "nE4eiWiEIT1I"
      },
      "source": [
        "## **Machine Learning: Regression**\n",
        "\n",
        "Because we want to map financial signals x to stock-returns y that are continuous values, we used a Regression model. For this model, we used a Random Forest which is an ensemble of many Decision Trees, because it computes fairly quickly. The Decision Tree is shown further below, after the model has been fitted to the training-data."
      ]
    },
    {
      "cell_type": "code",
      "metadata": {
        "id": "-MMLs2syIdPT"
      },
      "source": [
        "# Parameters for scikit-learn's Random Forest models.\n",
        "model_args = \\\n",
        "{\n",
        "    # Random Forest parameters to adjust between\n",
        "    # over- and under-fitting.\n",
        "    'n_estimators': 100,\n",
        "    'max_depth': 20,\n",
        "    'min_samples_split': 100,\n",
        "    'min_samples_leaf': 10,\n",
        "\n",
        "    # Use all available CPU cores.\n",
        "    'n_jobs': -1,\n",
        "\n",
        "    # Set random seed to make the experiments repeatable.\n",
        "    'random_state': 1234,\n",
        "}"
      ],
      "execution_count": 34,
      "outputs": []
    },
    {
      "cell_type": "code",
      "metadata": {
        "id": "pmjgFT-LIiY0"
      },
      "source": [
        "# Create the estimator, but don't do any computations yet.\n",
        "regr = RandomForestRegressor(**model_args)"
      ],
      "execution_count": 35,
      "outputs": []
    },
    {
      "cell_type": "code",
      "metadata": {
        "colab": {
          "base_uri": "https://localhost:8080/"
        },
        "id": "ZpzaNx2nIlL9",
        "outputId": "00fb3ac5-71c8-4d9b-9e73-bac01e8e97a2"
      },
      "source": [
        "%%time\n",
        "# Fit the estimator to the training-data.\n",
        "# This may take several minutes on a 4-core CPU.\n",
        "_ = regr.fit(X=X_train, y=y_train)"
      ],
      "execution_count": 36,
      "outputs": [
        {
          "output_type": "stream",
          "text": [
            "CPU times: user 1h 45min 33s, sys: 2.85 s, total: 1h 45min 36s\n",
            "Wall time: 26min 44s\n"
          ],
          "name": "stdout"
        }
      ]
    },
    {
      "cell_type": "markdown",
      "metadata": {
        "id": "k7AArpwYIrG1"
      },
      "source": [
        "Now that the Random Forest model has been fitted to the training-data, we present one of the 100 Decision Trees that it found. These are deeply nested if-then-else statements on the signals, which result in some output value. The output of 100 such Decision Trees are averaged to create the output of the entire ensemble known as a Random Forest.\n",
        "\n",
        "This model, however, does not contain any profound insight. It does not understand anything about finance. The model has just found that it could estimate the mapping between signals x and stock-returns y in the training-data, using many of these finely tuned if-then-else statements."
      ]
    },
    {
      "cell_type": "code",
      "metadata": {
        "colab": {
          "base_uri": "https://localhost:8080/"
        },
        "id": "7myaI7t9IwKA",
        "outputId": "e1383ef9-aefd-48d6-d919-741706503821"
      },
      "source": [
        "print_tree(regr)"
      ],
      "execution_count": 37,
      "outputs": [
        {
          "output_type": "stream",
          "text": [
            "|--- Net_Profit_Margin <= -0.26\n",
            "|   |--- Log_Revenue <= 8.08\n",
            "|   |   |--- P/FCF <= -1.65\n",
            "|   |   |   |--- Asset_Turnover <= 0.50\n",
            "|   |   |   |   |--- CapEx_/_(Depr_+_Amor) <= 0.07\n",
            "|   |   |   |   |   |--- Gross_Profit_Margin <= 0.23\n",
            "|   |   |   |   |   |   |--- Return_on_Assets <= -0.41\n",
            "|   |   |   |   |   |   |   |--- truncated branch of depth 3\n",
            "|   |   |   |   |   |   |--- Return_on_Assets >  -0.41\n",
            "|   |   |   |   |   |   |   |--- truncated branch of depth 4\n",
            "|   |   |   |   |   |--- Gross_Profit_Margin >  0.23\n",
            "|   |   |   |   |   |   |--- FCF_Growth_YOY <= 0.82\n",
            "|   |   |   |   |   |   |   |--- truncated branch of depth 13\n",
            "|   |   |   |   |   |   |--- FCF_Growth_YOY >  0.82\n",
            "|   |   |   |   |   |   |   |--- truncated branch of depth 5\n",
            "|   |   |   |   |--- CapEx_/_(Depr_+_Amor) >  0.07\n",
            "|   |   |   |   |   |--- Earnings_Growth_QOQ <= -0.23\n",
            "|   |   |   |   |   |   |--- Current_Ratio <= 7.84\n",
            "|   |   |   |   |   |   |   |--- truncated branch of depth 14\n",
            "|   |   |   |   |   |   |--- Current_Ratio >  7.84\n",
            "|   |   |   |   |   |   |   |--- truncated branch of depth 11\n",
            "|   |   |   |   |   |--- Earnings_Growth_QOQ >  -0.23\n",
            "|   |   |   |   |   |   |--- Log_Revenue <= 7.84\n",
            "|   |   |   |   |   |   |   |--- truncated branch of depth 14\n",
            "|   |   |   |   |   |   |--- Log_Revenue >  7.84\n",
            "|   |   |   |   |   |   |   |--- truncated branch of depth 8\n",
            "|   |   |   |--- Asset_Turnover >  0.50\n",
            "|   |   |   |   |--- Gross_Profit_Margin <= 0.47\n",
            "|   |   |   |   |   |--- Earnings_Growth_QOQ <= -0.75\n",
            "|   |   |   |   |   |   |--- P/Cash <= 10.04\n",
            "|   |   |   |   |   |   |   |--- truncated branch of depth 7\n",
            "|   |   |   |   |   |   |--- P/Cash >  10.04\n",
            "|   |   |   |   |   |   |   |--- truncated branch of depth 10\n",
            "|   |   |   |   |   |--- Earnings_Growth_QOQ >  -0.75\n",
            "|   |   |   |   |   |   |--- Gross_Profit_Margin <= 0.20\n",
            "|   |   |   |   |   |   |   |--- truncated branch of depth 9\n",
            "|   |   |   |   |   |   |--- Gross_Profit_Margin >  0.20\n",
            "|   |   |   |   |   |   |   |--- truncated branch of depth 12\n",
            "|   |   |   |   |--- Gross_Profit_Margin >  0.47\n",
            "|   |   |   |   |   |--- Sales_Growth_QOQ <= -0.02\n",
            "|   |   |   |   |   |   |--- Net_Profit_Margin <= -1.09\n",
            "|   |   |   |   |   |   |   |--- truncated branch of depth 7\n",
            "|   |   |   |   |   |   |--- Net_Profit_Margin >  -1.09\n",
            "|   |   |   |   |   |   |   |--- truncated branch of depth 11\n",
            "|   |   |   |   |   |--- Sales_Growth_QOQ >  -0.02\n",
            "|   |   |   |   |   |   |--- Earnings_Growth <= -0.35\n",
            "|   |   |   |   |   |   |   |--- truncated branch of depth 8\n",
            "|   |   |   |   |   |   |--- Earnings_Growth >  -0.35\n",
            "|   |   |   |   |   |   |   |--- truncated branch of depth 14\n",
            "|   |   |--- P/FCF >  -1.65\n",
            "|   |   |   |--- P/FCF <= 7.20\n",
            "|   |   |   |   |--- Interest_Coverage <= -10.34\n",
            "|   |   |   |   |   |--- P/Sales <= 11.74\n",
            "|   |   |   |   |   |   |--- P/NCAV <= 1.12\n",
            "|   |   |   |   |   |   |   |--- truncated branch of depth 12\n",
            "|   |   |   |   |   |   |--- P/NCAV >  1.12\n",
            "|   |   |   |   |   |   |   |--- truncated branch of depth 8\n",
            "|   |   |   |   |   |--- P/Sales >  11.74\n",
            "|   |   |   |   |   |   |--- Sales_Growth_QOQ <= 0.23\n",
            "|   |   |   |   |   |   |   |--- truncated branch of depth 9\n",
            "|   |   |   |   |   |   |--- Sales_Growth_QOQ >  0.23\n",
            "|   |   |   |   |   |   |   |--- truncated branch of depth 5\n",
            "|   |   |   |   |--- Interest_Coverage >  -10.34\n",
            "|   |   |   |   |   |--- Dividends_/_FCF <= -0.13\n",
            "|   |   |   |   |   |   |--- value: [0.48]\n",
            "|   |   |   |   |   |--- Dividends_/_FCF >  -0.13\n",
            "|   |   |   |   |   |   |--- (Dividends_+_Share_Buyback)_/_FCF <= 0.35\n",
            "|   |   |   |   |   |   |   |--- truncated branch of depth 9\n",
            "|   |   |   |   |   |   |--- (Dividends_+_Share_Buyback)_/_FCF >  0.35\n",
            "|   |   |   |   |   |   |   |--- truncated branch of depth 7\n",
            "|   |   |   |--- P/FCF >  7.20\n",
            "|   |   |   |   |--- Asset_Turnover <= 0.19\n",
            "|   |   |   |   |   |--- Quick_Ratio <= 4.25\n",
            "|   |   |   |   |   |   |--- FCF_Growth_QOQ <= -1.55\n",
            "|   |   |   |   |   |   |   |--- value: [0.43]\n",
            "|   |   |   |   |   |   |--- FCF_Growth_QOQ >  -1.55\n",
            "|   |   |   |   |   |   |   |--- value: [0.30]\n",
            "|   |   |   |   |   |--- Quick_Ratio >  4.25\n",
            "|   |   |   |   |   |   |--- P/NCAV <= 2.43\n",
            "|   |   |   |   |   |   |   |--- value: [0.04]\n",
            "|   |   |   |   |   |   |--- P/NCAV >  2.43\n",
            "|   |   |   |   |   |   |   |--- truncated branch of depth 5\n",
            "|   |   |   |   |--- Asset_Turnover >  0.19\n",
            "|   |   |   |   |   |--- Assets_Growth_QOQ <= 0.08\n",
            "|   |   |   |   |   |   |--- Net_Profit_Margin <= -0.26\n",
            "|   |   |   |   |   |   |   |--- truncated branch of depth 9\n",
            "|   |   |   |   |   |   |--- Net_Profit_Margin >  -0.26\n",
            "|   |   |   |   |   |   |   |--- value: [-0.52]\n",
            "|   |   |   |   |   |--- Assets_Growth_QOQ >  0.08\n",
            "|   |   |   |   |   |   |--- value: [-0.51]\n",
            "|   |--- Log_Revenue >  8.08\n",
            "|   |   |--- Log_Revenue <= 8.43\n",
            "|   |   |   |--- CapEx_/_(Depr_+_Amor) <= 0.94\n",
            "|   |   |   |   |--- Asset_Turnover <= 0.22\n",
            "|   |   |   |   |   |--- Price_to_Book_Value <= 5.31\n",
            "|   |   |   |   |   |   |--- Market-Cap <= 474783632.00\n",
            "|   |   |   |   |   |   |   |--- value: [0.12]\n",
            "|   |   |   |   |   |   |--- Market-Cap >  474783632.00\n",
            "|   |   |   |   |   |   |   |--- truncated branch of depth 2\n",
            "|   |   |   |   |   |--- Price_to_Book_Value >  5.31\n",
            "|   |   |   |   |   |   |--- value: [-0.52]\n",
            "|   |   |   |   |--- Asset_Turnover >  0.22\n",
            "|   |   |   |   |   |--- Return_on_Assets <= -0.12\n",
            "|   |   |   |   |   |   |--- Earnings_Growth_QOQ <= -0.83\n",
            "|   |   |   |   |   |   |   |--- truncated branch of depth 9\n",
            "|   |   |   |   |   |   |--- Earnings_Growth_QOQ >  -0.83\n",
            "|   |   |   |   |   |   |   |--- truncated branch of depth 11\n",
            "|   |   |   |   |   |--- Return_on_Assets >  -0.12\n",
            "|   |   |   |   |   |   |--- Interest_Coverage <= 8.45\n",
            "|   |   |   |   |   |   |   |--- truncated branch of depth 2\n",
            "|   |   |   |   |   |   |--- Interest_Coverage >  8.45\n",
            "|   |   |   |   |   |   |   |--- value: [-0.15]\n",
            "|   |   |   |--- CapEx_/_(Depr_+_Amor) >  0.94\n",
            "|   |   |   |   |--- Earnings_Growth <= -0.35\n",
            "|   |   |   |   |   |--- Market-Cap <= 90780324.00\n",
            "|   |   |   |   |   |   |--- value: [0.34]\n",
            "|   |   |   |   |   |--- Market-Cap >  90780324.00\n",
            "|   |   |   |   |   |   |--- Assets_Growth_QOQ <= -0.09\n",
            "|   |   |   |   |   |   |   |--- truncated branch of depth 5\n",
            "|   |   |   |   |   |   |--- Assets_Growth_QOQ >  -0.09\n",
            "|   |   |   |   |   |   |   |--- truncated branch of depth 5\n",
            "|   |   |   |   |--- Earnings_Growth >  -0.35\n",
            "|   |   |   |   |   |--- Market-Cap <= 148823480.00\n",
            "|   |   |   |   |   |   |--- value: [-0.52]\n",
            "|   |   |   |   |   |--- Market-Cap >  148823480.00\n",
            "|   |   |   |   |   |   |--- P/NetNet <= -7.52\n",
            "|   |   |   |   |   |   |   |--- truncated branch of depth 5\n",
            "|   |   |   |   |   |   |--- P/NetNet >  -7.52\n",
            "|   |   |   |   |   |   |   |--- truncated branch of depth 7\n",
            "|   |   |--- Log_Revenue >  8.43\n",
            "|   |   |   |--- Net_Profit_Margin <= -0.26\n",
            "|   |   |   |   |--- P/NetNet <= -11.07\n",
            "|   |   |   |   |   |--- Price_to_Book_Value <= 8.31\n",
            "|   |   |   |   |   |   |--- Price_to_Book_Value <= 2.22\n",
            "|   |   |   |   |   |   |   |--- truncated branch of depth 3\n",
            "|   |   |   |   |   |   |--- Price_to_Book_Value >  2.22\n",
            "|   |   |   |   |   |   |   |--- truncated branch of depth 8\n",
            "|   |   |   |   |   |--- Price_to_Book_Value >  8.31\n",
            "|   |   |   |   |   |   |--- Return_on_Equity <= -0.48\n",
            "|   |   |   |   |   |   |   |--- truncated branch of depth 12\n",
            "|   |   |   |   |   |   |--- Return_on_Equity >  -0.48\n",
            "|   |   |   |   |   |   |   |--- truncated branch of depth 3\n",
            "|   |   |   |   |--- P/NetNet >  -11.07\n",
            "|   |   |   |   |   |--- Price_to_Book_Value <= 0.47\n",
            "|   |   |   |   |   |   |--- FCF_Yield <= 0.01\n",
            "|   |   |   |   |   |   |   |--- truncated branch of depth 8\n",
            "|   |   |   |   |   |   |--- FCF_Yield >  0.01\n",
            "|   |   |   |   |   |   |   |--- truncated branch of depth 4\n",
            "|   |   |   |   |   |--- Price_to_Book_Value >  0.47\n",
            "|   |   |   |   |   |   |--- Return_on_Assets <= -0.22\n",
            "|   |   |   |   |   |   |   |--- truncated branch of depth 12\n",
            "|   |   |   |   |   |   |--- Return_on_Assets >  -0.22\n",
            "|   |   |   |   |   |   |   |--- truncated branch of depth 14\n",
            "|   |   |   |--- Net_Profit_Margin >  -0.26\n",
            "|   |   |   |   |--- CapEx_/_(Depr_+_Amor) <= 0.45\n",
            "|   |   |   |   |   |--- P/E <= -2.58\n",
            "|   |   |   |   |   |   |--- P/NetNet <= -0.42\n",
            "|   |   |   |   |   |   |   |--- truncated branch of depth 7\n",
            "|   |   |   |   |   |   |--- P/NetNet >  -0.42\n",
            "|   |   |   |   |   |   |   |--- value: [-0.40]\n",
            "|   |   |   |   |   |--- P/E >  -2.58\n",
            "|   |   |   |   |   |   |--- P/NetNet <= -0.29\n",
            "|   |   |   |   |   |   |   |--- value: [-0.30]\n",
            "|   |   |   |   |   |   |--- P/NetNet >  -0.29\n",
            "|   |   |   |   |   |   |   |--- value: [-0.22]\n",
            "|   |   |   |   |--- CapEx_/_(Depr_+_Amor) >  0.45\n",
            "|   |   |   |   |   |--- Earnings_Growth <= 0.37\n",
            "|   |   |   |   |   |   |--- Earnings_Growth_YOY <= 1.32\n",
            "|   |   |   |   |   |   |   |--- value: [-0.22]\n",
            "|   |   |   |   |   |   |--- Earnings_Growth_YOY >  1.32\n",
            "|   |   |   |   |   |   |   |--- value: [-0.52]\n",
            "|   |   |   |   |   |--- Earnings_Growth >  0.37\n",
            "|   |   |   |   |   |   |--- FCF_Yield <= -0.01\n",
            "|   |   |   |   |   |   |   |--- value: [0.15]\n",
            "|   |   |   |   |   |   |--- FCF_Yield >  -0.01\n",
            "|   |   |   |   |   |   |   |--- value: [-0.07]\n",
            "|--- Net_Profit_Margin >  -0.26\n",
            "|   |--- P/FCF <= 5.64\n",
            "|   |   |--- Interest_Coverage <= 1.17\n",
            "|   |   |   |--- Assets_Growth <= -0.16\n",
            "|   |   |   |   |--- CapEx_/_(Depr_+_Amor) <= 0.04\n",
            "|   |   |   |   |   |--- Sales_Growth <= -0.23\n",
            "|   |   |   |   |   |   |--- Asset_Turnover <= 1.39\n",
            "|   |   |   |   |   |   |   |--- truncated branch of depth 4\n",
            "|   |   |   |   |   |   |--- Asset_Turnover >  1.39\n",
            "|   |   |   |   |   |   |   |--- value: [-0.52]\n",
            "|   |   |   |   |   |--- Sales_Growth >  -0.23\n",
            "|   |   |   |   |   |   |--- Market-Cap <= 40906791.00\n",
            "|   |   |   |   |   |   |   |--- truncated branch of depth 4\n",
            "|   |   |   |   |   |   |--- Market-Cap >  40906791.00\n",
            "|   |   |   |   |   |   |   |--- truncated branch of depth 5\n",
            "|   |   |   |   |--- CapEx_/_(Depr_+_Amor) >  0.04\n",
            "|   |   |   |   |   |--- Asset_Turnover <= 2.08\n",
            "|   |   |   |   |   |   |--- Price_to_Book_Value <= 0.48\n",
            "|   |   |   |   |   |   |   |--- truncated branch of depth 12\n",
            "|   |   |   |   |   |   |--- Price_to_Book_Value >  0.48\n",
            "|   |   |   |   |   |   |   |--- truncated branch of depth 14\n",
            "|   |   |   |   |   |--- Asset_Turnover >  2.08\n",
            "|   |   |   |   |   |   |--- Current_Ratio <= 0.64\n",
            "|   |   |   |   |   |   |   |--- truncated branch of depth 2\n",
            "|   |   |   |   |   |   |--- Current_Ratio >  0.64\n",
            "|   |   |   |   |   |   |   |--- truncated branch of depth 7\n",
            "|   |   |   |--- Assets_Growth >  -0.16\n",
            "|   |   |   |   |--- P/FCF <= -0.75\n",
            "|   |   |   |   |   |--- P/Cash <= 1.74\n",
            "|   |   |   |   |   |   |--- Share_Buyback_/_FCF <= 0.00\n",
            "|   |   |   |   |   |   |   |--- truncated branch of depth 10\n",
            "|   |   |   |   |   |   |--- Share_Buyback_/_FCF >  0.00\n",
            "|   |   |   |   |   |   |   |--- truncated branch of depth 10\n",
            "|   |   |   |   |   |--- P/Cash >  1.74\n",
            "|   |   |   |   |   |   |--- Gross_Profit_Margin <= 0.20\n",
            "|   |   |   |   |   |   |   |--- truncated branch of depth 14\n",
            "|   |   |   |   |   |   |--- Gross_Profit_Margin >  0.20\n",
            "|   |   |   |   |   |   |   |--- truncated branch of depth 14\n",
            "|   |   |   |   |--- P/FCF >  -0.75\n",
            "|   |   |   |   |   |--- Gross_Profit_Margin <= 0.28\n",
            "|   |   |   |   |   |   |--- Return_on_Assets <= -0.02\n",
            "|   |   |   |   |   |   |   |--- truncated branch of depth 11\n",
            "|   |   |   |   |   |   |--- Return_on_Assets >  -0.02\n",
            "|   |   |   |   |   |   |   |--- truncated branch of depth 12\n",
            "|   |   |   |   |   |--- Gross_Profit_Margin >  0.28\n",
            "|   |   |   |   |   |   |--- Price_to_Book_Value <= 0.28\n",
            "|   |   |   |   |   |   |   |--- truncated branch of depth 10\n",
            "|   |   |   |   |   |   |--- Price_to_Book_Value >  0.28\n",
            "|   |   |   |   |   |   |   |--- truncated branch of depth 14\n",
            "|   |   |--- Interest_Coverage >  1.17\n",
            "|   |   |   |--- Interest_Coverage <= 7.17\n",
            "|   |   |   |   |--- P/Cash <= 2.64\n",
            "|   |   |   |   |   |--- Assets_Growth <= 0.05\n",
            "|   |   |   |   |   |   |--- P/NetNet <= 4.08\n",
            "|   |   |   |   |   |   |   |--- truncated branch of depth 14\n",
            "|   |   |   |   |   |   |--- P/NetNet >  4.08\n",
            "|   |   |   |   |   |   |   |--- truncated branch of depth 2\n",
            "|   |   |   |   |   |--- Assets_Growth >  0.05\n",
            "|   |   |   |   |   |   |--- Sales_Growth_YOY <= -0.17\n",
            "|   |   |   |   |   |   |   |--- truncated branch of depth 5\n",
            "|   |   |   |   |   |   |--- Sales_Growth_YOY >  -0.17\n",
            "|   |   |   |   |   |   |   |--- truncated branch of depth 14\n",
            "|   |   |   |   |--- P/Cash >  2.64\n",
            "|   |   |   |   |   |--- Net_Profit_Margin <= 0.01\n",
            "|   |   |   |   |   |   |--- Interest_Coverage <= 2.04\n",
            "|   |   |   |   |   |   |   |--- truncated branch of depth 14\n",
            "|   |   |   |   |   |   |--- Interest_Coverage >  2.04\n",
            "|   |   |   |   |   |   |   |--- truncated branch of depth 14\n",
            "|   |   |   |   |   |--- Net_Profit_Margin >  0.01\n",
            "|   |   |   |   |   |   |--- Net_Profit_Margin <= 0.15\n",
            "|   |   |   |   |   |   |   |--- truncated branch of depth 14\n",
            "|   |   |   |   |   |   |--- Net_Profit_Margin >  0.15\n",
            "|   |   |   |   |   |   |   |--- truncated branch of depth 14\n",
            "|   |   |   |--- Interest_Coverage >  7.17\n",
            "|   |   |   |   |--- Asset_Turnover <= 0.32\n",
            "|   |   |   |   |   |--- Assets_Growth_QOQ <= 0.02\n",
            "|   |   |   |   |   |   |--- FCF_Yield <= -0.04\n",
            "|   |   |   |   |   |   |   |--- truncated branch of depth 9\n",
            "|   |   |   |   |   |   |--- FCF_Yield >  -0.04\n",
            "|   |   |   |   |   |   |   |--- truncated branch of depth 8\n",
            "|   |   |   |   |   |--- Assets_Growth_QOQ >  0.02\n",
            "|   |   |   |   |   |   |--- Sales_Growth <= 0.49\n",
            "|   |   |   |   |   |   |   |--- truncated branch of depth 11\n",
            "|   |   |   |   |   |   |--- Sales_Growth >  0.49\n",
            "|   |   |   |   |   |   |   |--- truncated branch of depth 9\n",
            "|   |   |   |   |--- Asset_Turnover >  0.32\n",
            "|   |   |   |   |   |--- Current_Ratio <= 0.84\n",
            "|   |   |   |   |   |   |--- CapEx_/_(Depr_+_Amor) <= 3.31\n",
            "|   |   |   |   |   |   |   |--- truncated branch of depth 14\n",
            "|   |   |   |   |   |   |--- CapEx_/_(Depr_+_Amor) >  3.31\n",
            "|   |   |   |   |   |   |   |--- truncated branch of depth 8\n",
            "|   |   |   |   |   |--- Current_Ratio >  0.84\n",
            "|   |   |   |   |   |   |--- Log_Revenue <= 7.53\n",
            "|   |   |   |   |   |   |   |--- truncated branch of depth 12\n",
            "|   |   |   |   |   |   |--- Log_Revenue >  7.53\n",
            "|   |   |   |   |   |   |   |--- truncated branch of depth 14\n",
            "|   |--- P/FCF >  5.64\n",
            "|   |   |--- FCF_Growth <= -0.89\n",
            "|   |   |   |--- Return_on_Assets <= -0.19\n",
            "|   |   |   |   |--- FCF_Growth_YOY <= -0.37\n",
            "|   |   |   |   |   |--- FCF_Growth_QOQ <= -0.60\n",
            "|   |   |   |   |   |   |--- P/E <= -1.26\n",
            "|   |   |   |   |   |   |   |--- truncated branch of depth 10\n",
            "|   |   |   |   |   |   |--- P/E >  -1.26\n",
            "|   |   |   |   |   |   |   |--- truncated branch of depth 4\n",
            "|   |   |   |   |   |--- FCF_Growth_QOQ >  -0.60\n",
            "|   |   |   |   |   |   |--- CapEx_/_(Depr_+_Amor) <= 0.67\n",
            "|   |   |   |   |   |   |   |--- truncated branch of depth 2\n",
            "|   |   |   |   |   |   |--- CapEx_/_(Depr_+_Amor) >  0.67\n",
            "|   |   |   |   |   |   |   |--- value: [0.34]\n",
            "|   |   |   |   |--- FCF_Growth_YOY >  -0.37\n",
            "|   |   |   |   |   |--- Price_to_Book_Value <= 0.30\n",
            "|   |   |   |   |   |   |--- value: [-0.32]\n",
            "|   |   |   |   |   |--- Price_to_Book_Value >  0.30\n",
            "|   |   |   |   |   |   |--- P/FCF <= 8.03\n",
            "|   |   |   |   |   |   |   |--- value: [-0.42]\n",
            "|   |   |   |   |   |   |--- P/FCF >  8.03\n",
            "|   |   |   |   |   |   |   |--- truncated branch of depth 4\n",
            "|   |   |   |--- Return_on_Assets >  -0.19\n",
            "|   |   |   |   |--- Sales_Growth_YOY <= 0.58\n",
            "|   |   |   |   |   |--- Return_on_Assets <= -0.07\n",
            "|   |   |   |   |   |   |--- Log_Revenue <= 7.72\n",
            "|   |   |   |   |   |   |   |--- truncated branch of depth 7\n",
            "|   |   |   |   |   |   |--- Log_Revenue >  7.72\n",
            "|   |   |   |   |   |   |   |--- truncated branch of depth 14\n",
            "|   |   |   |   |   |--- Return_on_Assets >  -0.07\n",
            "|   |   |   |   |   |   |--- Current_Ratio <= 1.19\n",
            "|   |   |   |   |   |   |   |--- truncated branch of depth 14\n",
            "|   |   |   |   |   |   |--- Current_Ratio >  1.19\n",
            "|   |   |   |   |   |   |   |--- truncated branch of depth 14\n",
            "|   |   |   |   |--- Sales_Growth_YOY >  0.58\n",
            "|   |   |   |   |   |--- Interest_Coverage <= -2.15\n",
            "|   |   |   |   |   |   |--- P/NCAV <= 3.43\n",
            "|   |   |   |   |   |   |   |--- truncated branch of depth 5\n",
            "|   |   |   |   |   |   |--- P/NCAV >  3.43\n",
            "|   |   |   |   |   |   |   |--- truncated branch of depth 5\n",
            "|   |   |   |   |   |--- Interest_Coverage >  -2.15\n",
            "|   |   |   |   |   |   |--- Interest_Coverage <= 90.35\n",
            "|   |   |   |   |   |   |   |--- truncated branch of depth 13\n",
            "|   |   |   |   |   |   |--- Interest_Coverage >  90.35\n",
            "|   |   |   |   |   |   |   |--- truncated branch of depth 5\n",
            "|   |   |--- FCF_Growth >  -0.89\n",
            "|   |   |   |--- Sales_Growth <= -0.00\n",
            "|   |   |   |   |--- Return_on_Equity <= -0.04\n",
            "|   |   |   |   |   |--- (Dividends_+_Share_Buyback)_/_FCF <= 1.00\n",
            "|   |   |   |   |   |   |--- Return_on_Assets <= -0.13\n",
            "|   |   |   |   |   |   |   |--- truncated branch of depth 8\n",
            "|   |   |   |   |   |   |--- Return_on_Assets >  -0.13\n",
            "|   |   |   |   |   |   |   |--- truncated branch of depth 14\n",
            "|   |   |   |   |   |--- (Dividends_+_Share_Buyback)_/_FCF >  1.00\n",
            "|   |   |   |   |   |   |--- Quick_Ratio <= 2.17\n",
            "|   |   |   |   |   |   |   |--- truncated branch of depth 11\n",
            "|   |   |   |   |   |   |--- Quick_Ratio >  2.17\n",
            "|   |   |   |   |   |   |   |--- truncated branch of depth 3\n",
            "|   |   |   |   |--- Return_on_Equity >  -0.04\n",
            "|   |   |   |   |   |--- Share_Buyback_/_FCF <= 0.54\n",
            "|   |   |   |   |   |   |--- Gross_Profit_Margin <= 0.38\n",
            "|   |   |   |   |   |   |   |--- truncated branch of depth 14\n",
            "|   |   |   |   |   |   |--- Gross_Profit_Margin >  0.38\n",
            "|   |   |   |   |   |   |   |--- truncated branch of depth 14\n",
            "|   |   |   |   |   |--- Share_Buyback_/_FCF >  0.54\n",
            "|   |   |   |   |   |   |--- Quick_Ratio <= 0.46\n",
            "|   |   |   |   |   |   |   |--- truncated branch of depth 14\n",
            "|   |   |   |   |   |   |--- Quick_Ratio >  0.46\n",
            "|   |   |   |   |   |   |   |--- truncated branch of depth 14\n",
            "|   |   |   |--- Sales_Growth >  -0.00\n",
            "|   |   |   |   |--- CapEx_/_(Depr_+_Amor) <= 1.17\n",
            "|   |   |   |   |   |--- Sales_Growth <= 0.19\n",
            "|   |   |   |   |   |   |--- Return_on_Assets <= 0.08\n",
            "|   |   |   |   |   |   |   |--- truncated branch of depth 14\n",
            "|   |   |   |   |   |   |--- Return_on_Assets >  0.08\n",
            "|   |   |   |   |   |   |   |--- truncated branch of depth 14\n",
            "|   |   |   |   |   |--- Sales_Growth >  0.19\n",
            "|   |   |   |   |   |   |--- (Dividends_+_Share_Buyback)_/_FCF <= 0.04\n",
            "|   |   |   |   |   |   |   |--- truncated branch of depth 14\n",
            "|   |   |   |   |   |   |--- (Dividends_+_Share_Buyback)_/_FCF >  0.04\n",
            "|   |   |   |   |   |   |   |--- truncated branch of depth 14\n",
            "|   |   |   |   |--- CapEx_/_(Depr_+_Amor) >  1.17\n",
            "|   |   |   |   |   |--- Interest_Coverage <= 129.54\n",
            "|   |   |   |   |   |   |--- Gross_Profit_Margin <= 0.64\n",
            "|   |   |   |   |   |   |   |--- truncated branch of depth 14\n",
            "|   |   |   |   |   |   |--- Gross_Profit_Margin >  0.64\n",
            "|   |   |   |   |   |   |   |--- truncated branch of depth 14\n",
            "|   |   |   |   |   |--- Interest_Coverage >  129.54\n",
            "|   |   |   |   |   |   |--- Asset_Turnover <= 1.78\n",
            "|   |   |   |   |   |   |   |--- truncated branch of depth 14\n",
            "|   |   |   |   |   |   |--- Asset_Turnover >  1.78\n",
            "|   |   |   |   |   |   |   |--- truncated branch of depth 14\n",
            "\n"
          ],
          "name": "stdout"
        }
      ]
    },
    {
      "cell_type": "markdown",
      "metadata": {
        "id": "EV3slkrCI12s"
      },
      "source": [
        "Shown below is the mutual importance of the signals (aka. features) in the model, and the comparison to their correlation with the stock-returns. The signals with highest correlations to the future stock-returns, are not necessarily the ones that were most important to the model. But correlation only measures the linear relation between signals and stock-returns, while the Random Forest can find complicated non-linear relations."
      ]
    },
    {
      "cell_type": "code",
      "metadata": {
        "colab": {
          "base_uri": "https://localhost:8080/",
          "height": 1000
        },
        "id": "xBXXqCjdI3vO",
        "outputId": "d37dfdc1-6e08-4d38-f664-2d26476e9a45"
      },
      "source": [
        "compare_feature_imp_corr(regr)"
      ],
      "execution_count": 38,
      "outputs": [
        {
          "output_type": "execute_result",
          "data": {
            "text/html": [
              "<div>\n",
              "<style scoped>\n",
              "    .dataframe tbody tr th:only-of-type {\n",
              "        vertical-align: middle;\n",
              "    }\n",
              "\n",
              "    .dataframe tbody tr th {\n",
              "        vertical-align: top;\n",
              "    }\n",
              "\n",
              "    .dataframe thead th {\n",
              "        text-align: right;\n",
              "    }\n",
              "</style>\n",
              "<table border=\"1\" class=\"dataframe\">\n",
              "  <thead>\n",
              "    <tr style=\"text-align: right;\">\n",
              "      <th></th>\n",
              "      <th>Feature Importance</th>\n",
              "      <th>Return Correlation</th>\n",
              "    </tr>\n",
              "  </thead>\n",
              "  <tbody>\n",
              "    <tr>\n",
              "      <th>Gross Profit Margin</th>\n",
              "      <td>0.061551</td>\n",
              "      <td>0.011505</td>\n",
              "    </tr>\n",
              "    <tr>\n",
              "      <th>Log Revenue</th>\n",
              "      <td>0.057134</td>\n",
              "      <td>0.127872</td>\n",
              "    </tr>\n",
              "    <tr>\n",
              "      <th>Net Profit Margin</th>\n",
              "      <td>0.056160</td>\n",
              "      <td>0.179823</td>\n",
              "    </tr>\n",
              "    <tr>\n",
              "      <th>Asset Turnover</th>\n",
              "      <td>0.053031</td>\n",
              "      <td>0.030061</td>\n",
              "    </tr>\n",
              "    <tr>\n",
              "      <th>Market-Cap</th>\n",
              "      <td>0.046324</td>\n",
              "      <td>0.054481</td>\n",
              "    </tr>\n",
              "    <tr>\n",
              "      <th>CapEx / (Depr + Amor)</th>\n",
              "      <td>0.043374</td>\n",
              "      <td>0.036108</td>\n",
              "    </tr>\n",
              "    <tr>\n",
              "      <th>Interest Coverage</th>\n",
              "      <td>0.039237</td>\n",
              "      <td>0.012846</td>\n",
              "    </tr>\n",
              "    <tr>\n",
              "      <th>Quick Ratio</th>\n",
              "      <td>0.038460</td>\n",
              "      <td>0.042061</td>\n",
              "    </tr>\n",
              "    <tr>\n",
              "      <th>Current Ratio</th>\n",
              "      <td>0.035778</td>\n",
              "      <td>0.060111</td>\n",
              "    </tr>\n",
              "    <tr>\n",
              "      <th>P/Cash</th>\n",
              "      <td>0.033710</td>\n",
              "      <td>0.015078</td>\n",
              "    </tr>\n",
              "    <tr>\n",
              "      <th>Sales Growth</th>\n",
              "      <td>0.033407</td>\n",
              "      <td>0.014204</td>\n",
              "    </tr>\n",
              "    <tr>\n",
              "      <th>P/NCAV</th>\n",
              "      <td>0.032994</td>\n",
              "      <td>0.028812</td>\n",
              "    </tr>\n",
              "    <tr>\n",
              "      <th>P/NetNet</th>\n",
              "      <td>0.029735</td>\n",
              "      <td>0.025510</td>\n",
              "    </tr>\n",
              "    <tr>\n",
              "      <th>Return on Equity</th>\n",
              "      <td>0.029172</td>\n",
              "      <td>0.121230</td>\n",
              "    </tr>\n",
              "    <tr>\n",
              "      <th>P/Sales</th>\n",
              "      <td>0.028644</td>\n",
              "      <td>0.057554</td>\n",
              "    </tr>\n",
              "    <tr>\n",
              "      <th>Price to Book Value</th>\n",
              "      <td>0.028244</td>\n",
              "      <td>0.038819</td>\n",
              "    </tr>\n",
              "    <tr>\n",
              "      <th>(Dividends + Share Buyback) / FCF</th>\n",
              "      <td>0.027894</td>\n",
              "      <td>0.036685</td>\n",
              "    </tr>\n",
              "    <tr>\n",
              "      <th>Return on Assets</th>\n",
              "      <td>0.027415</td>\n",
              "      <td>0.169738</td>\n",
              "    </tr>\n",
              "    <tr>\n",
              "      <th>FCF Growth</th>\n",
              "      <td>0.026526</td>\n",
              "      <td>0.029083</td>\n",
              "    </tr>\n",
              "    <tr>\n",
              "      <th>Share Buyback / FCF</th>\n",
              "      <td>0.024144</td>\n",
              "      <td>0.027415</td>\n",
              "    </tr>\n",
              "    <tr>\n",
              "      <th>FCF Yield</th>\n",
              "      <td>0.023676</td>\n",
              "      <td>0.115599</td>\n",
              "    </tr>\n",
              "    <tr>\n",
              "      <th>P/E</th>\n",
              "      <td>0.023390</td>\n",
              "      <td>0.077106</td>\n",
              "    </tr>\n",
              "    <tr>\n",
              "      <th>Earnings Growth</th>\n",
              "      <td>0.022216</td>\n",
              "      <td>0.022352</td>\n",
              "    </tr>\n",
              "    <tr>\n",
              "      <th>P/FCF</th>\n",
              "      <td>0.021135</td>\n",
              "      <td>0.066776</td>\n",
              "    </tr>\n",
              "    <tr>\n",
              "      <th>Sales Growth YOY</th>\n",
              "      <td>0.020069</td>\n",
              "      <td>0.011551</td>\n",
              "    </tr>\n",
              "    <tr>\n",
              "      <th>Assets Growth YOY</th>\n",
              "      <td>0.016391</td>\n",
              "      <td>0.025712</td>\n",
              "    </tr>\n",
              "    <tr>\n",
              "      <th>Assets Growth</th>\n",
              "      <td>0.016106</td>\n",
              "      <td>0.025805</td>\n",
              "    </tr>\n",
              "    <tr>\n",
              "      <th>Dividends / FCF</th>\n",
              "      <td>0.015430</td>\n",
              "      <td>0.053831</td>\n",
              "    </tr>\n",
              "    <tr>\n",
              "      <th>Earnings Yield</th>\n",
              "      <td>0.013738</td>\n",
              "      <td>0.153571</td>\n",
              "    </tr>\n",
              "    <tr>\n",
              "      <th>Earnings Growth YOY</th>\n",
              "      <td>0.013609</td>\n",
              "      <td>0.019653</td>\n",
              "    </tr>\n",
              "    <tr>\n",
              "      <th>Sales Growth QOQ</th>\n",
              "      <td>0.013362</td>\n",
              "      <td>0.020047</td>\n",
              "    </tr>\n",
              "    <tr>\n",
              "      <th>Earnings Growth QOQ</th>\n",
              "      <td>0.012749</td>\n",
              "      <td>0.020032</td>\n",
              "    </tr>\n",
              "    <tr>\n",
              "      <th>FCF Growth YOY</th>\n",
              "      <td>0.012299</td>\n",
              "      <td>0.020355</td>\n",
              "    </tr>\n",
              "    <tr>\n",
              "      <th>Assets Growth QOQ</th>\n",
              "      <td>0.011475</td>\n",
              "      <td>0.022339</td>\n",
              "    </tr>\n",
              "    <tr>\n",
              "      <th>FCF Growth QOQ</th>\n",
              "      <td>0.011421</td>\n",
              "      <td>0.010294</td>\n",
              "    </tr>\n",
              "  </tbody>\n",
              "</table>\n",
              "</div>"
            ],
            "text/plain": [
              "                                   Feature Importance  Return Correlation\n",
              "Gross Profit Margin                          0.061551            0.011505\n",
              "Log Revenue                                  0.057134            0.127872\n",
              "Net Profit Margin                            0.056160            0.179823\n",
              "Asset Turnover                               0.053031            0.030061\n",
              "Market-Cap                                   0.046324            0.054481\n",
              "CapEx / (Depr + Amor)                        0.043374            0.036108\n",
              "Interest Coverage                            0.039237            0.012846\n",
              "Quick Ratio                                  0.038460            0.042061\n",
              "Current Ratio                                0.035778            0.060111\n",
              "P/Cash                                       0.033710            0.015078\n",
              "Sales Growth                                 0.033407            0.014204\n",
              "P/NCAV                                       0.032994            0.028812\n",
              "P/NetNet                                     0.029735            0.025510\n",
              "Return on Equity                             0.029172            0.121230\n",
              "P/Sales                                      0.028644            0.057554\n",
              "Price to Book Value                          0.028244            0.038819\n",
              "(Dividends + Share Buyback) / FCF            0.027894            0.036685\n",
              "Return on Assets                             0.027415            0.169738\n",
              "FCF Growth                                   0.026526            0.029083\n",
              "Share Buyback / FCF                          0.024144            0.027415\n",
              "FCF Yield                                    0.023676            0.115599\n",
              "P/E                                          0.023390            0.077106\n",
              "Earnings Growth                              0.022216            0.022352\n",
              "P/FCF                                        0.021135            0.066776\n",
              "Sales Growth YOY                             0.020069            0.011551\n",
              "Assets Growth YOY                            0.016391            0.025712\n",
              "Assets Growth                                0.016106            0.025805\n",
              "Dividends / FCF                              0.015430            0.053831\n",
              "Earnings Yield                               0.013738            0.153571\n",
              "Earnings Growth YOY                          0.013609            0.019653\n",
              "Sales Growth QOQ                             0.013362            0.020047\n",
              "Earnings Growth QOQ                          0.012749            0.020032\n",
              "FCF Growth YOY                               0.012299            0.020355\n",
              "Assets Growth QOQ                            0.011475            0.022339\n",
              "FCF Growth QOQ                               0.011421            0.010294"
            ]
          },
          "metadata": {
            "tags": []
          },
          "execution_count": 38
        }
      ]
    },
    {
      "cell_type": "markdown",
      "metadata": {
        "id": "ZcbpfxEBI9Cm"
      },
      "source": [
        "## **Regression Results**\n",
        "Shown below is how the Machine Learning model performed. First we used the fitted model to predict the stock-returns for the training- and test-sets:"
      ]
    },
    {
      "cell_type": "code",
      "metadata": {
        "colab": {
          "base_uri": "https://localhost:8080/"
        },
        "id": "1B1sAe-zJDMX",
        "outputId": "973d8c94-cc2d-482f-d802-ee1e80dc7bf8"
      },
      "source": [
        "%%time\n",
        "y_train_pred = regr.predict(X_train)\n",
        "y_test_pred = regr.predict(X_test)"
      ],
      "execution_count": 39,
      "outputs": [
        {
          "output_type": "stream",
          "text": [
            "CPU times: user 26.5 s, sys: 209 ms, total: 26.8 s\n",
            "Wall time: 7.13 s\n"
          ],
          "name": "stdout"
        }
      ]
    },
    {
      "cell_type": "markdown",
      "metadata": {
        "id": "9N9h_FDEJFxW"
      },
      "source": [
        "We then calculated the $R^2$ value (aka. the coefficient of determination) between the actual stock-returns and those predicted by the model. A value of 1 means a perfect prediction, while a value of 0 means the model basically predicted the average stock-return, and a negative value means the model's prediction was worse than just using the average stock-return.\n",
        "\n",
        "As we can see, the $R^2$ value is quite high for the training-set, so the model has learned to map the signals X to stock-returns y quite well for the training-set:"
      ]
    },
    {
      "cell_type": "code",
      "metadata": {
        "colab": {
          "base_uri": "https://localhost:8080/"
        },
        "id": "3O6x6qiZJIXz",
        "outputId": "6e20706e-aebd-442e-cbf5-fea0d1771bb8"
      },
      "source": [
        "r2_score(y_true=y_train, y_pred=y_train_pred)"
      ],
      "execution_count": 40,
      "outputs": [
        {
          "output_type": "execute_result",
          "data": {
            "text/plain": [
              "0.9573148510728864"
            ]
          },
          "metadata": {
            "tags": []
          },
          "execution_count": 40
        }
      ]
    },
    {
      "cell_type": "markdown",
      "metadata": {
        "id": "HvRGPNKsJLeP"
      },
      "source": [
        "But the $R^2$ value is very bad for the test-set, so the model has not really learned the underlying relation between the signals X and stock-returns y. The model has merely learned noise or peculiarities in the training-data, which do not generalize to the unseen data in the test-set:"
      ]
    },
    {
      "cell_type": "code",
      "metadata": {
        "colab": {
          "base_uri": "https://localhost:8080/"
        },
        "id": "GvaepCF9JMpc",
        "outputId": "8042a4e5-aca6-4757-aadb-235ae2745e98"
      },
      "source": [
        "r2_score(y_true=y_test, y_pred=y_test_pred)"
      ],
      "execution_count": 41,
      "outputs": [
        {
          "output_type": "execute_result",
          "data": {
            "text/plain": [
              "0.011506506884583434"
            ]
          },
          "metadata": {
            "tags": []
          },
          "execution_count": 41
        }
      ]
    },
    {
      "cell_type": "markdown",
      "metadata": {
        "id": "QbmzYwOqJQzQ"
      },
      "source": [
        "## **Regression Examples**\n",
        "\n",
        "We also tried to plot the model's predicted versus actual stock-returns for a stock in the training-set. As we can see, the model has learned this mapping quite well:"
      ]
    },
    {
      "cell_type": "code",
      "metadata": {
        "colab": {
          "base_uri": "https://localhost:8080/",
          "height": 285
        },
        "id": "bCaRBI0IJVZV",
        "outputId": "ed76e334-7eea-4637-a2af-de83784b2d91"
      },
      "source": [
        "# Column-name for the models' predicted stock-returns.\n",
        "TOTAL_RETURN_PRED = 'Total Return Predicted'\n",
        "\n",
        "# Create a DataFrame with actual and predicted stock-returns.\n",
        "# This is for the training-set.\n",
        "df_y_train = pd.DataFrame(y_train)\n",
        "df_y_train[TOTAL_RETURN_PRED] = y_train_pred\n",
        "\n",
        "# Plot the actual and predicted stock-returns for the first stock.\n",
        "ticker = tickers_train[0]\n",
        "_ = df_y_train.loc[ticker].plot(title=ticker)"
      ],
      "execution_count": 42,
      "outputs": [
        {
          "output_type": "display_data",
          "data": {
            "image/png": "[encoded data removed]",
            "text/plain": [
              "<Figure size 432x288 with 1 Axes>"
            ]
          },
          "metadata": {
            "tags": []
          }
        }
      ]
    },
    {
      "cell_type": "markdown",
      "metadata": {
        "id": "A7BdBUdJJcXZ"
      },
      "source": [
        "However, when we tried to plot the model's predicted versus actual stock-returns for the first stock in the test-set, we see that the model is completely unable to predict the stock-returns for the data that it has not seen during its training:"
      ]
    },
    {
      "cell_type": "code",
      "metadata": {
        "colab": {
          "base_uri": "https://localhost:8080/",
          "height": 285
        },
        "id": "MdedAUvjJdIa",
        "outputId": "5e6c7217-0aee-4ccb-b099-70f2b6e276d7"
      },
      "source": [
        "# Create a DataFrame with actual and predicted stock-returns.\n",
        "# This is for the test-set.\n",
        "df_y_test = pd.DataFrame(y_test)\n",
        "df_y_test[TOTAL_RETURN_PRED] = y_test_pred\n",
        "\n",
        "# Plot the actual and predicted stock-returns for the first stock.\n",
        "ticker = tickers_test[0]\n",
        "_ = df_y_test.loc[ticker].plot(title=ticker)"
      ],
      "execution_count": 43,
      "outputs": [
        {
          "output_type": "display_data",
          "data": {
            "image/png": "[encoded data removed]",
            "text/plain": [
              "<Figure size 432x288 with 1 Axes>"
            ]
          },
          "metadata": {
            "tags": []
          }
        }
      ]
    },
    {
      "cell_type": "markdown",
      "metadata": {
        "id": "TkQkitOLJhT8"
      },
      "source": [
        "## **Machine Learning: Classification**\n",
        "\n",
        "Instead of mapping from signals x to a continuous variable y for the stock-return, we also tried and mapped to discrete output-classes that indicate if the stock-return was a gain or loss. \n",
        "\n",
        "First we converted the stock-returns into values of either 1.0 for gains or -1.0 for losses, and then split into training- and test-sets:"
      ]
    },
    {
      "cell_type": "code",
      "metadata": {
        "colab": {
          "base_uri": "https://localhost:8080/"
        },
        "id": "ksodvPH-Oqtv",
        "outputId": "2daa568f-fdf1-4a7c-b37d-a4abff93a324"
      },
      "source": [
        "%%time\n",
        "# Convert stock-returns to binary classes by taking the sign.\n",
        "df_cls = np.sign(df_sig_rets[TOTAL_RETURN_1_3Y])\n",
        "\n",
        "# Split the classes into training- and test-sets.\n",
        "y_train_cls = df_cls.loc[tickers_train]\n",
        "y_test_cls = df_cls.loc[tickers_test]"
      ],
      "execution_count": 44,
      "outputs": [
        {
          "output_type": "stream",
          "text": [
            "CPU times: user 97.1 ms, sys: 17 ms, total: 114 ms\n",
            "Wall time: 112 ms\n"
          ],
          "name": "stdout"
        }
      ]
    },
    {
      "cell_type": "markdown",
      "metadata": {
        "id": "ajUZU-XbJz8N"
      },
      "source": [
        "The training-set is biased because it contains many more stocks with gains than losses:"
      ]
    },
    {
      "cell_type": "code",
      "metadata": {
        "colab": {
          "base_uri": "https://localhost:8080/"
        },
        "id": "nAjZT89tNjP5",
        "outputId": "05d43a74-d4b3-4c65-85cd-297f46e02614"
      },
      "source": [
        "# Fraction of the training-set that is classified as gains.\n",
        "(y_train_cls == 1.0).sum() / len(y_train_cls)"
      ],
      "execution_count": 45,
      "outputs": [
        {
          "output_type": "execute_result",
          "data": {
            "text/plain": [
              "0.7060543619023089"
            ]
          },
          "metadata": {
            "tags": []
          },
          "execution_count": 45
        }
      ]
    },
    {
      "cell_type": "markdown",
      "metadata": {
        "id": "TpqtrpDTJ4oV"
      },
      "source": [
        "We instructed the Machine Learning model to take this bias into account, by setting class_weight='balanced', and otherwise use the same arguments as above:"
      ]
    },
    {
      "cell_type": "code",
      "metadata": {
        "id": "3KnRekppNmUw"
      },
      "source": [
        "clf = RandomForestClassifier(class_weight='balanced', **model_args)"
      ],
      "execution_count": 46,
      "outputs": []
    },
    {
      "cell_type": "markdown",
      "metadata": {
        "id": "iLdOExxDJ9jx"
      },
      "source": [
        "We then fit the model to the training-data. This is much faster then for the regression model above, because we only have a binary class as output:"
      ]
    },
    {
      "cell_type": "code",
      "metadata": {
        "colab": {
          "base_uri": "https://localhost:8080/"
        },
        "id": "wPDBusC-Nqqk",
        "outputId": "620f5996-8a11-4686-f7cd-b03cd419268e"
      },
      "source": [
        "%%time\n",
        "_ = clf.fit(X=X_train, y=y_train_cls)"
      ],
      "execution_count": 47,
      "outputs": [
        {
          "output_type": "stream",
          "text": [
            "CPU times: user 14min 54s, sys: 1.66 s, total: 14min 56s\n",
            "Wall time: 3min 49s\n"
          ],
          "name": "stdout"
        }
      ]
    },
    {
      "cell_type": "markdown",
      "metadata": {
        "id": "v-bWW0EMKCfi"
      },
      "source": [
        "As for the regression model above, the Random Forest consists of 100 Decision Trees, which are basically just nested if-then-else statements that split the input signals, to try and find a mapping that fits the input and output of the training-data."
      ]
    },
    {
      "cell_type": "code",
      "metadata": {
        "colab": {
          "base_uri": "https://localhost:8080/"
        },
        "id": "otYe1CmVPDPq",
        "outputId": "141afe72-6d4d-4d90-c862-bdbc2f7da782"
      },
      "source": [
        "print_tree(clf)"
      ],
      "execution_count": 48,
      "outputs": [
        {
          "output_type": "stream",
          "text": [
            "|--- Log_Revenue <= 8.43\n",
            "|   |--- P/E <= 7.35\n",
            "|   |   |--- P/Sales <= 12.72\n",
            "|   |   |   |--- Market-Cap <= 384131472.00\n",
            "|   |   |   |   |--- Quick_Ratio <= 0.82\n",
            "|   |   |   |   |   |--- Asset_Turnover <= 0.15\n",
            "|   |   |   |   |   |   |--- Net_Profit_Margin <= -0.40\n",
            "|   |   |   |   |   |   |   |--- truncated branch of depth 4\n",
            "|   |   |   |   |   |   |--- Net_Profit_Margin >  -0.40\n",
            "|   |   |   |   |   |   |   |--- truncated branch of depth 3\n",
            "|   |   |   |   |   |--- Asset_Turnover >  0.15\n",
            "|   |   |   |   |   |   |--- P/Sales <= 0.33\n",
            "|   |   |   |   |   |   |   |--- truncated branch of depth 14\n",
            "|   |   |   |   |   |   |--- P/Sales >  0.33\n",
            "|   |   |   |   |   |   |   |--- truncated branch of depth 14\n",
            "|   |   |   |   |--- Quick_Ratio >  0.82\n",
            "|   |   |   |   |   |--- FCF_Yield <= -0.25\n",
            "|   |   |   |   |   |   |--- CapEx_/_(Depr_+_Amor) <= 0.29\n",
            "|   |   |   |   |   |   |   |--- truncated branch of depth 11\n",
            "|   |   |   |   |   |   |--- CapEx_/_(Depr_+_Amor) >  0.29\n",
            "|   |   |   |   |   |   |   |--- truncated branch of depth 14\n",
            "|   |   |   |   |   |--- FCF_Yield >  -0.25\n",
            "|   |   |   |   |   |   |--- Log_Revenue <= 7.83\n",
            "|   |   |   |   |   |   |   |--- truncated branch of depth 14\n",
            "|   |   |   |   |   |   |--- Log_Revenue >  7.83\n",
            "|   |   |   |   |   |   |   |--- truncated branch of depth 14\n",
            "|   |   |   |--- Market-Cap >  384131472.00\n",
            "|   |   |   |   |--- Current_Ratio <= 7.82\n",
            "|   |   |   |   |   |--- P/NCAV <= 4.05\n",
            "|   |   |   |   |   |   |--- Return_on_Assets <= -0.32\n",
            "|   |   |   |   |   |   |   |--- truncated branch of depth 6\n",
            "|   |   |   |   |   |   |--- Return_on_Assets >  -0.32\n",
            "|   |   |   |   |   |   |   |--- truncated branch of depth 11\n",
            "|   |   |   |   |   |--- P/NCAV >  4.05\n",
            "|   |   |   |   |   |   |--- Sales_Growth_QOQ <= 0.13\n",
            "|   |   |   |   |   |   |   |--- truncated branch of depth 14\n",
            "|   |   |   |   |   |   |--- Sales_Growth_QOQ >  0.13\n",
            "|   |   |   |   |   |   |   |--- truncated branch of depth 11\n",
            "|   |   |   |   |--- Current_Ratio >  7.82\n",
            "|   |   |   |   |   |--- (Dividends_+_Share_Buyback)_/_FCF <= -0.09\n",
            "|   |   |   |   |   |   |--- CapEx_/_(Depr_+_Amor) <= 2.51\n",
            "|   |   |   |   |   |   |   |--- truncated branch of depth 3\n",
            "|   |   |   |   |   |   |--- CapEx_/_(Depr_+_Amor) >  2.51\n",
            "|   |   |   |   |   |   |   |--- class: 0.0\n",
            "|   |   |   |   |   |--- (Dividends_+_Share_Buyback)_/_FCF >  -0.09\n",
            "|   |   |   |   |   |   |--- Return_on_Equity <= -0.19\n",
            "|   |   |   |   |   |   |   |--- truncated branch of depth 2\n",
            "|   |   |   |   |   |   |--- Return_on_Equity >  -0.19\n",
            "|   |   |   |   |   |   |   |--- truncated branch of depth 5\n",
            "|   |   |--- P/Sales >  12.72\n",
            "|   |   |   |--- CapEx_/_(Depr_+_Amor) <= 0.03\n",
            "|   |   |   |   |--- Sales_Growth_YOY <= 0.54\n",
            "|   |   |   |   |   |--- Assets_Growth_YOY <= -0.04\n",
            "|   |   |   |   |   |   |--- Asset_Turnover <= 0.18\n",
            "|   |   |   |   |   |   |   |--- truncated branch of depth 7\n",
            "|   |   |   |   |   |   |--- Asset_Turnover >  0.18\n",
            "|   |   |   |   |   |   |   |--- truncated branch of depth 2\n",
            "|   |   |   |   |   |--- Assets_Growth_YOY >  -0.04\n",
            "|   |   |   |   |   |   |--- P/FCF <= -8.54\n",
            "|   |   |   |   |   |   |   |--- truncated branch of depth 3\n",
            "|   |   |   |   |   |   |--- P/FCF >  -8.54\n",
            "|   |   |   |   |   |   |   |--- truncated branch of depth 2\n",
            "|   |   |   |   |--- Sales_Growth_YOY >  0.54\n",
            "|   |   |   |   |   |--- Earnings_Yield <= -0.04\n",
            "|   |   |   |   |   |   |--- class: 1.0\n",
            "|   |   |   |   |   |--- Earnings_Yield >  -0.04\n",
            "|   |   |   |   |   |   |--- Share_Buyback_/_FCF <= 1.94\n",
            "|   |   |   |   |   |   |   |--- class: 1.0\n",
            "|   |   |   |   |   |   |--- Share_Buyback_/_FCF >  1.94\n",
            "|   |   |   |   |   |   |   |--- class: 1.0\n",
            "|   |   |   |--- CapEx_/_(Depr_+_Amor) >  0.03\n",
            "|   |   |   |   |--- FCF_Yield <= 0.00\n",
            "|   |   |   |   |   |--- P/Cash <= 1.65\n",
            "|   |   |   |   |   |   |--- Market-Cap <= 87166148.00\n",
            "|   |   |   |   |   |   |   |--- truncated branch of depth 5\n",
            "|   |   |   |   |   |   |--- Market-Cap >  87166148.00\n",
            "|   |   |   |   |   |   |   |--- truncated branch of depth 9\n",
            "|   |   |   |   |   |--- P/Cash >  1.65\n",
            "|   |   |   |   |   |   |--- Earnings_Yield <= -0.19\n",
            "|   |   |   |   |   |   |   |--- truncated branch of depth 10\n",
            "|   |   |   |   |   |   |--- Earnings_Yield >  -0.19\n",
            "|   |   |   |   |   |   |   |--- truncated branch of depth 14\n",
            "|   |   |   |   |--- FCF_Yield >  0.00\n",
            "|   |   |   |   |   |--- Sales_Growth <= 0.45\n",
            "|   |   |   |   |   |   |--- Gross_Profit_Margin <= 0.81\n",
            "|   |   |   |   |   |   |   |--- truncated branch of depth 3\n",
            "|   |   |   |   |   |   |--- Gross_Profit_Margin >  0.81\n",
            "|   |   |   |   |   |   |   |--- truncated branch of depth 2\n",
            "|   |   |   |   |   |--- Sales_Growth >  0.45\n",
            "|   |   |   |   |   |   |--- Earnings_Growth <= -0.44\n",
            "|   |   |   |   |   |   |   |--- truncated branch of depth 2\n",
            "|   |   |   |   |   |   |--- Earnings_Growth >  -0.44\n",
            "|   |   |   |   |   |   |   |--- truncated branch of depth 4\n",
            "|   |--- P/E >  7.35\n",
            "|   |   |--- Sales_Growth <= -0.12\n",
            "|   |   |   |--- P/Sales <= 2.02\n",
            "|   |   |   |   |--- Interest_Coverage <= 0.79\n",
            "|   |   |   |   |   |--- FCF_Yield <= 0.12\n",
            "|   |   |   |   |   |   |--- P/NCAV <= -1.80\n",
            "|   |   |   |   |   |   |   |--- truncated branch of depth 2\n",
            "|   |   |   |   |   |   |--- P/NCAV >  -1.80\n",
            "|   |   |   |   |   |   |   |--- class: 1.0\n",
            "|   |   |   |   |   |--- FCF_Yield >  0.12\n",
            "|   |   |   |   |   |   |--- Earnings_Growth_YOY <= -0.51\n",
            "|   |   |   |   |   |   |   |--- class: 1.0\n",
            "|   |   |   |   |   |   |--- Earnings_Growth_YOY >  -0.51\n",
            "|   |   |   |   |   |   |   |--- truncated branch of depth 2\n",
            "|   |   |   |   |--- Interest_Coverage >  0.79\n",
            "|   |   |   |   |   |--- Dividends_/_FCF <= -0.24\n",
            "|   |   |   |   |   |   |--- P/NetNet <= -2.42\n",
            "|   |   |   |   |   |   |   |--- class: 0.0\n",
            "|   |   |   |   |   |   |--- P/NetNet >  -2.42\n",
            "|   |   |   |   |   |   |   |--- truncated branch of depth 2\n",
            "|   |   |   |   |   |--- Dividends_/_FCF >  -0.24\n",
            "|   |   |   |   |   |   |--- Assets_Growth <= -0.12\n",
            "|   |   |   |   |   |   |   |--- class: 0.0\n",
            "|   |   |   |   |   |   |--- Assets_Growth >  -0.12\n",
            "|   |   |   |   |   |   |   |--- truncated branch of depth 6\n",
            "|   |   |   |--- P/Sales >  2.02\n",
            "|   |   |   |   |--- P/NetNet <= 14.27\n",
            "|   |   |   |   |   |--- Assets_Growth_QOQ <= -0.02\n",
            "|   |   |   |   |   |   |--- Earnings_Yield <= 0.02\n",
            "|   |   |   |   |   |   |   |--- truncated branch of depth 3\n",
            "|   |   |   |   |   |   |--- Earnings_Yield >  0.02\n",
            "|   |   |   |   |   |   |   |--- truncated branch of depth 4\n",
            "|   |   |   |   |   |--- Assets_Growth_QOQ >  -0.02\n",
            "|   |   |   |   |   |   |--- Gross_Profit_Margin <= 0.99\n",
            "|   |   |   |   |   |   |   |--- truncated branch of depth 8\n",
            "|   |   |   |   |   |   |--- Gross_Profit_Margin >  0.99\n",
            "|   |   |   |   |   |   |   |--- class: 0.0\n",
            "|   |   |   |   |--- P/NetNet >  14.27\n",
            "|   |   |   |   |   |--- Return_on_Assets <= 0.01\n",
            "|   |   |   |   |   |   |--- FCF_Growth_YOY <= 1.60\n",
            "|   |   |   |   |   |   |   |--- class: 1.0\n",
            "|   |   |   |   |   |   |--- FCF_Growth_YOY >  1.60\n",
            "|   |   |   |   |   |   |   |--- class: 0.0\n",
            "|   |   |   |   |   |--- Return_on_Assets >  0.01\n",
            "|   |   |   |   |   |   |--- (Dividends_+_Share_Buyback)_/_FCF <= -0.03\n",
            "|   |   |   |   |   |   |   |--- class: 0.0\n",
            "|   |   |   |   |   |   |--- (Dividends_+_Share_Buyback)_/_FCF >  -0.03\n",
            "|   |   |   |   |   |   |   |--- truncated branch of depth 4\n",
            "|   |   |--- Sales_Growth >  -0.12\n",
            "|   |   |   |--- Return_on_Assets <= 0.07\n",
            "|   |   |   |   |--- Assets_Growth_YOY <= -0.04\n",
            "|   |   |   |   |   |--- (Dividends_+_Share_Buyback)_/_FCF <= 1.92\n",
            "|   |   |   |   |   |   |--- P/E <= 57.23\n",
            "|   |   |   |   |   |   |   |--- truncated branch of depth 8\n",
            "|   |   |   |   |   |   |--- P/E >  57.23\n",
            "|   |   |   |   |   |   |   |--- truncated branch of depth 7\n",
            "|   |   |   |   |   |--- (Dividends_+_Share_Buyback)_/_FCF >  1.92\n",
            "|   |   |   |   |   |   |--- Sales_Growth <= 0.02\n",
            "|   |   |   |   |   |   |   |--- class: 1.0\n",
            "|   |   |   |   |   |   |--- Sales_Growth >  0.02\n",
            "|   |   |   |   |   |   |   |--- truncated branch of depth 4\n",
            "|   |   |   |   |--- Assets_Growth_YOY >  -0.04\n",
            "|   |   |   |   |   |--- Log_Revenue <= 7.25\n",
            "|   |   |   |   |   |   |--- P/FCF <= -57.39\n",
            "|   |   |   |   |   |   |   |--- truncated branch of depth 4\n",
            "|   |   |   |   |   |   |--- P/FCF >  -57.39\n",
            "|   |   |   |   |   |   |   |--- truncated branch of depth 7\n",
            "|   |   |   |   |   |--- Log_Revenue >  7.25\n",
            "|   |   |   |   |   |   |--- Assets_Growth_YOY <= 0.37\n",
            "|   |   |   |   |   |   |   |--- truncated branch of depth 14\n",
            "|   |   |   |   |   |   |--- Assets_Growth_YOY >  0.37\n",
            "|   |   |   |   |   |   |   |--- truncated branch of depth 12\n",
            "|   |   |   |--- Return_on_Assets >  0.07\n",
            "|   |   |   |   |--- Sales_Growth_YOY <= 0.36\n",
            "|   |   |   |   |   |--- Dividends_/_FCF <= 0.50\n",
            "|   |   |   |   |   |   |--- Price_to_Book_Value <= 7.72\n",
            "|   |   |   |   |   |   |   |--- truncated branch of depth 14\n",
            "|   |   |   |   |   |   |--- Price_to_Book_Value >  7.72\n",
            "|   |   |   |   |   |   |   |--- truncated branch of depth 7\n",
            "|   |   |   |   |   |--- Dividends_/_FCF >  0.50\n",
            "|   |   |   |   |   |   |--- FCF_Growth <= -2.91\n",
            "|   |   |   |   |   |   |   |--- truncated branch of depth 2\n",
            "|   |   |   |   |   |   |--- FCF_Growth >  -2.91\n",
            "|   |   |   |   |   |   |   |--- truncated branch of depth 14\n",
            "|   |   |   |   |--- Sales_Growth_YOY >  0.36\n",
            "|   |   |   |   |   |--- Return_on_Assets <= 0.08\n",
            "|   |   |   |   |   |   |--- Sales_Growth_QOQ <= 0.00\n",
            "|   |   |   |   |   |   |   |--- truncated branch of depth 3\n",
            "|   |   |   |   |   |   |--- Sales_Growth_QOQ >  0.00\n",
            "|   |   |   |   |   |   |   |--- class: 1.0\n",
            "|   |   |   |   |   |--- Return_on_Assets >  0.08\n",
            "|   |   |   |   |   |   |--- P/NCAV <= 1.27\n",
            "|   |   |   |   |   |   |   |--- truncated branch of depth 6\n",
            "|   |   |   |   |   |   |--- P/NCAV >  1.27\n",
            "|   |   |   |   |   |   |   |--- truncated branch of depth 10\n",
            "|--- Log_Revenue >  8.43\n",
            "|   |--- Share_Buyback_/_FCF <= 0.05\n",
            "|   |   |--- Net_Profit_Margin <= 0.00\n",
            "|   |   |   |--- Sales_Growth <= 0.23\n",
            "|   |   |   |   |--- Net_Profit_Margin <= -0.18\n",
            "|   |   |   |   |   |--- Price_to_Book_Value <= 1.05\n",
            "|   |   |   |   |   |   |--- Interest_Coverage <= 0.72\n",
            "|   |   |   |   |   |   |   |--- truncated branch of depth 9\n",
            "|   |   |   |   |   |   |--- Interest_Coverage >  0.72\n",
            "|   |   |   |   |   |   |   |--- truncated branch of depth 5\n",
            "|   |   |   |   |   |--- Price_to_Book_Value >  1.05\n",
            "|   |   |   |   |   |   |--- Asset_Turnover <= 1.71\n",
            "|   |   |   |   |   |   |   |--- truncated branch of depth 14\n",
            "|   |   |   |   |   |   |--- Asset_Turnover >  1.71\n",
            "|   |   |   |   |   |   |   |--- class: 1.0\n",
            "|   |   |   |   |--- Net_Profit_Margin >  -0.18\n",
            "|   |   |   |   |   |--- (Dividends_+_Share_Buyback)_/_FCF <= 1.41\n",
            "|   |   |   |   |   |   |--- P/Sales <= 1.60\n",
            "|   |   |   |   |   |   |   |--- truncated branch of depth 14\n",
            "|   |   |   |   |   |   |--- P/Sales >  1.60\n",
            "|   |   |   |   |   |   |   |--- truncated branch of depth 13\n",
            "|   |   |   |   |   |--- (Dividends_+_Share_Buyback)_/_FCF >  1.41\n",
            "|   |   |   |   |   |   |--- Price_to_Book_Value <= 1.82\n",
            "|   |   |   |   |   |   |   |--- truncated branch of depth 5\n",
            "|   |   |   |   |   |   |--- Price_to_Book_Value >  1.82\n",
            "|   |   |   |   |   |   |   |--- truncated branch of depth 3\n",
            "|   |   |   |--- Sales_Growth >  0.23\n",
            "|   |   |   |   |--- Return_on_Assets <= -0.10\n",
            "|   |   |   |   |   |--- Earnings_Growth_QOQ <= 0.37\n",
            "|   |   |   |   |   |   |--- Interest_Coverage <= -1.57\n",
            "|   |   |   |   |   |   |   |--- truncated branch of depth 4\n",
            "|   |   |   |   |   |   |--- Interest_Coverage >  -1.57\n",
            "|   |   |   |   |   |   |   |--- truncated branch of depth 2\n",
            "|   |   |   |   |   |--- Earnings_Growth_QOQ >  0.37\n",
            "|   |   |   |   |   |   |--- Earnings_Growth_QOQ <= 1.35\n",
            "|   |   |   |   |   |   |   |--- truncated branch of depth 2\n",
            "|   |   |   |   |   |   |--- Earnings_Growth_QOQ >  1.35\n",
            "|   |   |   |   |   |   |   |--- class: 1.0\n",
            "|   |   |   |   |--- Return_on_Assets >  -0.10\n",
            "|   |   |   |   |   |--- CapEx_/_(Depr_+_Amor) <= 0.22\n",
            "|   |   |   |   |   |   |--- P/NetNet <= -5.55\n",
            "|   |   |   |   |   |   |   |--- class: 1.0\n",
            "|   |   |   |   |   |   |--- P/NetNet >  -5.55\n",
            "|   |   |   |   |   |   |   |--- truncated branch of depth 8\n",
            "|   |   |   |   |   |--- CapEx_/_(Depr_+_Amor) >  0.22\n",
            "|   |   |   |   |   |   |--- Asset_Turnover <= 0.19\n",
            "|   |   |   |   |   |   |   |--- truncated branch of depth 4\n",
            "|   |   |   |   |   |   |--- Asset_Turnover >  0.19\n",
            "|   |   |   |   |   |   |   |--- truncated branch of depth 14\n",
            "|   |   |--- Net_Profit_Margin >  0.00\n",
            "|   |   |   |--- Log_Revenue <= 10.35\n",
            "|   |   |   |   |--- P/NetNet <= -1.57\n",
            "|   |   |   |   |   |--- Sales_Growth_YOY <= 0.56\n",
            "|   |   |   |   |   |   |--- Log_Revenue <= 10.02\n",
            "|   |   |   |   |   |   |   |--- truncated branch of depth 14\n",
            "|   |   |   |   |   |   |--- Log_Revenue >  10.02\n",
            "|   |   |   |   |   |   |   |--- truncated branch of depth 14\n",
            "|   |   |   |   |   |--- Sales_Growth_YOY >  0.56\n",
            "|   |   |   |   |   |   |--- Return_on_Assets <= 0.06\n",
            "|   |   |   |   |   |   |   |--- truncated branch of depth 11\n",
            "|   |   |   |   |   |   |--- Return_on_Assets >  0.06\n",
            "|   |   |   |   |   |   |   |--- truncated branch of depth 10\n",
            "|   |   |   |   |--- P/NetNet >  -1.57\n",
            "|   |   |   |   |   |--- Return_on_Equity <= 0.08\n",
            "|   |   |   |   |   |   |--- P/Sales <= 6.89\n",
            "|   |   |   |   |   |   |   |--- truncated branch of depth 14\n",
            "|   |   |   |   |   |   |--- P/Sales >  6.89\n",
            "|   |   |   |   |   |   |   |--- truncated branch of depth 7\n",
            "|   |   |   |   |   |--- Return_on_Equity >  0.08\n",
            "|   |   |   |   |   |   |--- Dividends_/_FCF <= 0.13\n",
            "|   |   |   |   |   |   |   |--- truncated branch of depth 14\n",
            "|   |   |   |   |   |   |--- Dividends_/_FCF >  0.13\n",
            "|   |   |   |   |   |   |   |--- truncated branch of depth 14\n",
            "|   |   |   |--- Log_Revenue >  10.35\n",
            "|   |   |   |   |--- Sales_Growth_YOY <= 0.27\n",
            "|   |   |   |   |   |--- (Dividends_+_Share_Buyback)_/_FCF <= 0.62\n",
            "|   |   |   |   |   |   |--- Net_Profit_Margin <= 0.16\n",
            "|   |   |   |   |   |   |   |--- truncated branch of depth 11\n",
            "|   |   |   |   |   |   |--- Net_Profit_Margin >  0.16\n",
            "|   |   |   |   |   |   |   |--- truncated branch of depth 4\n",
            "|   |   |   |   |   |--- (Dividends_+_Share_Buyback)_/_FCF >  0.62\n",
            "|   |   |   |   |   |   |--- Price_to_Book_Value <= 2.13\n",
            "|   |   |   |   |   |   |   |--- truncated branch of depth 9\n",
            "|   |   |   |   |   |   |--- Price_to_Book_Value >  2.13\n",
            "|   |   |   |   |   |   |   |--- truncated branch of depth 3\n",
            "|   |   |   |   |--- Sales_Growth_YOY >  0.27\n",
            "|   |   |   |   |   |--- Net_Profit_Margin <= 0.01\n",
            "|   |   |   |   |   |   |--- Assets_Growth_QOQ <= 0.07\n",
            "|   |   |   |   |   |   |   |--- truncated branch of depth 2\n",
            "|   |   |   |   |   |   |--- Assets_Growth_QOQ >  0.07\n",
            "|   |   |   |   |   |   |   |--- class: 0.0\n",
            "|   |   |   |   |   |--- Net_Profit_Margin >  0.01\n",
            "|   |   |   |   |   |   |--- Asset_Turnover <= 0.33\n",
            "|   |   |   |   |   |   |   |--- class: 1.0\n",
            "|   |   |   |   |   |   |--- Asset_Turnover >  0.33\n",
            "|   |   |   |   |   |   |   |--- truncated branch of depth 2\n",
            "|   |--- Share_Buyback_/_FCF >  0.05\n",
            "|   |   |--- Net_Profit_Margin <= 0.04\n",
            "|   |   |   |--- Current_Ratio <= 1.58\n",
            "|   |   |   |   |--- P/Sales <= 1.76\n",
            "|   |   |   |   |   |--- Return_on_Assets <= 0.05\n",
            "|   |   |   |   |   |   |--- P/NCAV <= -16.52\n",
            "|   |   |   |   |   |   |   |--- truncated branch of depth 6\n",
            "|   |   |   |   |   |   |--- P/NCAV >  -16.52\n",
            "|   |   |   |   |   |   |   |--- truncated branch of depth 14\n",
            "|   |   |   |   |   |--- Return_on_Assets >  0.05\n",
            "|   |   |   |   |   |   |--- Assets_Growth_QOQ <= 0.20\n",
            "|   |   |   |   |   |   |   |--- truncated branch of depth 14\n",
            "|   |   |   |   |   |   |--- Assets_Growth_QOQ >  0.20\n",
            "|   |   |   |   |   |   |   |--- truncated branch of depth 2\n",
            "|   |   |   |   |--- P/Sales >  1.76\n",
            "|   |   |   |   |   |--- (Dividends_+_Share_Buyback)_/_FCF <= 0.51\n",
            "|   |   |   |   |   |   |--- Interest_Coverage <= 6.58\n",
            "|   |   |   |   |   |   |   |--- truncated branch of depth 9\n",
            "|   |   |   |   |   |   |--- Interest_Coverage >  6.58\n",
            "|   |   |   |   |   |   |   |--- truncated branch of depth 4\n",
            "|   |   |   |   |   |--- (Dividends_+_Share_Buyback)_/_FCF >  0.51\n",
            "|   |   |   |   |   |   |--- P/NCAV <= -1.14\n",
            "|   |   |   |   |   |   |   |--- truncated branch of depth 13\n",
            "|   |   |   |   |   |   |--- P/NCAV >  -1.14\n",
            "|   |   |   |   |   |   |   |--- truncated branch of depth 5\n",
            "|   |   |   |--- Current_Ratio >  1.58\n",
            "|   |   |   |   |--- Net_Profit_Margin <= 0.01\n",
            "|   |   |   |   |   |--- Gross_Profit_Margin <= 0.13\n",
            "|   |   |   |   |   |   |--- Price_to_Book_Value <= 0.32\n",
            "|   |   |   |   |   |   |   |--- class: 1.0\n",
            "|   |   |   |   |   |   |--- Price_to_Book_Value >  0.32\n",
            "|   |   |   |   |   |   |   |--- truncated branch of depth 10\n",
            "|   |   |   |   |   |--- Gross_Profit_Margin >  0.13\n",
            "|   |   |   |   |   |   |--- P/Sales <= 0.58\n",
            "|   |   |   |   |   |   |   |--- truncated branch of depth 14\n",
            "|   |   |   |   |   |   |--- P/Sales >  0.58\n",
            "|   |   |   |   |   |   |   |--- truncated branch of depth 14\n",
            "|   |   |   |   |--- Net_Profit_Margin >  0.01\n",
            "|   |   |   |   |   |--- P/FCF <= 25.40\n",
            "|   |   |   |   |   |   |--- P/Cash <= 9.38\n",
            "|   |   |   |   |   |   |   |--- truncated branch of depth 14\n",
            "|   |   |   |   |   |   |--- P/Cash >  9.38\n",
            "|   |   |   |   |   |   |   |--- truncated branch of depth 14\n",
            "|   |   |   |   |   |--- P/FCF >  25.40\n",
            "|   |   |   |   |   |   |--- Share_Buyback_/_FCF <= 0.79\n",
            "|   |   |   |   |   |   |   |--- truncated branch of depth 13\n",
            "|   |   |   |   |   |   |--- Share_Buyback_/_FCF >  0.79\n",
            "|   |   |   |   |   |   |   |--- truncated branch of depth 12\n",
            "|   |   |--- Net_Profit_Margin >  0.04\n",
            "|   |   |   |--- Market-Cap <= 48784183296.00\n",
            "|   |   |   |   |--- Interest_Coverage <= 129.54\n",
            "|   |   |   |   |   |--- Sales_Growth_YOY <= 0.25\n",
            "|   |   |   |   |   |   |--- Earnings_Growth_YOY <= -0.22\n",
            "|   |   |   |   |   |   |   |--- truncated branch of depth 14\n",
            "|   |   |   |   |   |   |--- Earnings_Growth_YOY >  -0.22\n",
            "|   |   |   |   |   |   |   |--- truncated branch of depth 14\n",
            "|   |   |   |   |   |--- Sales_Growth_YOY >  0.25\n",
            "|   |   |   |   |   |   |--- FCF_Growth <= -0.41\n",
            "|   |   |   |   |   |   |   |--- truncated branch of depth 14\n",
            "|   |   |   |   |   |   |--- FCF_Growth >  -0.41\n",
            "|   |   |   |   |   |   |   |--- truncated branch of depth 14\n",
            "|   |   |   |   |--- Interest_Coverage >  129.54\n",
            "|   |   |   |   |   |--- Return_on_Equity <= 0.13\n",
            "|   |   |   |   |   |   |--- FCF_Yield <= 0.04\n",
            "|   |   |   |   |   |   |   |--- truncated branch of depth 8\n",
            "|   |   |   |   |   |   |--- FCF_Yield >  0.04\n",
            "|   |   |   |   |   |   |   |--- truncated branch of depth 9\n",
            "|   |   |   |   |   |--- Return_on_Equity >  0.13\n",
            "|   |   |   |   |   |   |--- Asset_Turnover <= 1.78\n",
            "|   |   |   |   |   |   |   |--- truncated branch of depth 14\n",
            "|   |   |   |   |   |   |--- Asset_Turnover >  1.78\n",
            "|   |   |   |   |   |   |   |--- truncated branch of depth 10\n",
            "|   |   |   |--- Market-Cap >  48784183296.00\n",
            "|   |   |   |   |--- (Dividends_+_Share_Buyback)_/_FCF <= 0.58\n",
            "|   |   |   |   |   |--- Interest_Coverage <= 20.07\n",
            "|   |   |   |   |   |   |--- Assets_Growth_YOY <= 0.02\n",
            "|   |   |   |   |   |   |   |--- truncated branch of depth 3\n",
            "|   |   |   |   |   |   |--- Assets_Growth_YOY >  0.02\n",
            "|   |   |   |   |   |   |   |--- truncated branch of depth 6\n",
            "|   |   |   |   |   |--- Interest_Coverage >  20.07\n",
            "|   |   |   |   |   |   |--- Log_Revenue <= 9.84\n",
            "|   |   |   |   |   |   |   |--- truncated branch of depth 3\n",
            "|   |   |   |   |   |   |--- Log_Revenue >  9.84\n",
            "|   |   |   |   |   |   |   |--- truncated branch of depth 7\n",
            "|   |   |   |   |--- (Dividends_+_Share_Buyback)_/_FCF >  0.58\n",
            "|   |   |   |   |   |--- P/FCF <= 25.11\n",
            "|   |   |   |   |   |   |--- Earnings_Yield <= 0.03\n",
            "|   |   |   |   |   |   |   |--- truncated branch of depth 4\n",
            "|   |   |   |   |   |   |--- Earnings_Yield >  0.03\n",
            "|   |   |   |   |   |   |   |--- truncated branch of depth 11\n",
            "|   |   |   |   |   |--- P/FCF >  25.11\n",
            "|   |   |   |   |   |   |--- Earnings_Growth <= 0.34\n",
            "|   |   |   |   |   |   |   |--- truncated branch of depth 9\n",
            "|   |   |   |   |   |   |--- Earnings_Growth >  0.34\n",
            "|   |   |   |   |   |   |   |--- truncated branch of depth 6\n",
            "\n"
          ],
          "name": "stdout"
        }
      ]
    },
    {
      "cell_type": "markdown",
      "metadata": {
        "id": "ER6f2e4XKLrM"
      },
      "source": [
        "Below we show the signals (or features) that the model found were most important. These are not necessarily the signals that are best correlated with stock-returns, because the Random Forest is a non-linear mapping from signals to the gain/loss classification.*italicized text*"
      ]
    },
    {
      "cell_type": "code",
      "metadata": {
        "colab": {
          "base_uri": "https://localhost:8080/",
          "height": 1000
        },
        "id": "DukHmyXSP4D3",
        "outputId": "fc603a16-c824-4114-c0db-a710d5ed42a8"
      },
      "source": [
        "compare_feature_imp_corr(clf)"
      ],
      "execution_count": 49,
      "outputs": [
        {
          "output_type": "execute_result",
          "data": {
            "text/html": [
              "<div>\n",
              "<style scoped>\n",
              "    .dataframe tbody tr th:only-of-type {\n",
              "        vertical-align: middle;\n",
              "    }\n",
              "\n",
              "    .dataframe tbody tr th {\n",
              "        vertical-align: top;\n",
              "    }\n",
              "\n",
              "    .dataframe thead th {\n",
              "        text-align: right;\n",
              "    }\n",
              "</style>\n",
              "<table border=\"1\" class=\"dataframe\">\n",
              "  <thead>\n",
              "    <tr style=\"text-align: right;\">\n",
              "      <th></th>\n",
              "      <th>Feature Importance</th>\n",
              "      <th>Return Correlation</th>\n",
              "    </tr>\n",
              "  </thead>\n",
              "  <tbody>\n",
              "    <tr>\n",
              "      <th>Log Revenue</th>\n",
              "      <td>0.048460</td>\n",
              "      <td>0.127872</td>\n",
              "    </tr>\n",
              "    <tr>\n",
              "      <th>Market-Cap</th>\n",
              "      <td>0.044521</td>\n",
              "      <td>0.054481</td>\n",
              "    </tr>\n",
              "    <tr>\n",
              "      <th>Gross Profit Margin</th>\n",
              "      <td>0.041540</td>\n",
              "      <td>0.011505</td>\n",
              "    </tr>\n",
              "    <tr>\n",
              "      <th>Asset Turnover</th>\n",
              "      <td>0.039013</td>\n",
              "      <td>0.030061</td>\n",
              "    </tr>\n",
              "    <tr>\n",
              "      <th>Net Profit Margin</th>\n",
              "      <td>0.038656</td>\n",
              "      <td>0.179823</td>\n",
              "    </tr>\n",
              "    <tr>\n",
              "      <th>Return on Assets</th>\n",
              "      <td>0.035221</td>\n",
              "      <td>0.169738</td>\n",
              "    </tr>\n",
              "    <tr>\n",
              "      <th>Interest Coverage</th>\n",
              "      <td>0.034831</td>\n",
              "      <td>0.012846</td>\n",
              "    </tr>\n",
              "    <tr>\n",
              "      <th>CapEx / (Depr + Amor)</th>\n",
              "      <td>0.034618</td>\n",
              "      <td>0.036108</td>\n",
              "    </tr>\n",
              "    <tr>\n",
              "      <th>Quick Ratio</th>\n",
              "      <td>0.033484</td>\n",
              "      <td>0.042061</td>\n",
              "    </tr>\n",
              "    <tr>\n",
              "      <th>Current Ratio</th>\n",
              "      <td>0.032520</td>\n",
              "      <td>0.060111</td>\n",
              "    </tr>\n",
              "    <tr>\n",
              "      <th>Return on Equity</th>\n",
              "      <td>0.031644</td>\n",
              "      <td>0.121230</td>\n",
              "    </tr>\n",
              "    <tr>\n",
              "      <th>P/NCAV</th>\n",
              "      <td>0.031001</td>\n",
              "      <td>0.028812</td>\n",
              "    </tr>\n",
              "    <tr>\n",
              "      <th>P/E</th>\n",
              "      <td>0.030220</td>\n",
              "      <td>0.077106</td>\n",
              "    </tr>\n",
              "    <tr>\n",
              "      <th>P/Sales</th>\n",
              "      <td>0.030091</td>\n",
              "      <td>0.057554</td>\n",
              "    </tr>\n",
              "    <tr>\n",
              "      <th>(Dividends + Share Buyback) / FCF</th>\n",
              "      <td>0.029958</td>\n",
              "      <td>0.036685</td>\n",
              "    </tr>\n",
              "    <tr>\n",
              "      <th>Sales Growth</th>\n",
              "      <td>0.029347</td>\n",
              "      <td>0.014204</td>\n",
              "    </tr>\n",
              "    <tr>\n",
              "      <th>P/NetNet</th>\n",
              "      <td>0.029061</td>\n",
              "      <td>0.025510</td>\n",
              "    </tr>\n",
              "    <tr>\n",
              "      <th>Price to Book Value</th>\n",
              "      <td>0.028387</td>\n",
              "      <td>0.038819</td>\n",
              "    </tr>\n",
              "    <tr>\n",
              "      <th>P/Cash</th>\n",
              "      <td>0.027591</td>\n",
              "      <td>0.015078</td>\n",
              "    </tr>\n",
              "    <tr>\n",
              "      <th>Share Buyback / FCF</th>\n",
              "      <td>0.026904</td>\n",
              "      <td>0.027415</td>\n",
              "    </tr>\n",
              "    <tr>\n",
              "      <th>Earnings Yield</th>\n",
              "      <td>0.026831</td>\n",
              "      <td>0.153571</td>\n",
              "    </tr>\n",
              "    <tr>\n",
              "      <th>FCF Yield</th>\n",
              "      <td>0.025401</td>\n",
              "      <td>0.115599</td>\n",
              "    </tr>\n",
              "    <tr>\n",
              "      <th>Earnings Growth</th>\n",
              "      <td>0.025287</td>\n",
              "      <td>0.022352</td>\n",
              "    </tr>\n",
              "    <tr>\n",
              "      <th>Dividends / FCF</th>\n",
              "      <td>0.025080</td>\n",
              "      <td>0.053831</td>\n",
              "    </tr>\n",
              "    <tr>\n",
              "      <th>FCF Growth</th>\n",
              "      <td>0.024927</td>\n",
              "      <td>0.029083</td>\n",
              "    </tr>\n",
              "    <tr>\n",
              "      <th>P/FCF</th>\n",
              "      <td>0.024400</td>\n",
              "      <td>0.066776</td>\n",
              "    </tr>\n",
              "    <tr>\n",
              "      <th>Sales Growth YOY</th>\n",
              "      <td>0.023187</td>\n",
              "      <td>0.011551</td>\n",
              "    </tr>\n",
              "    <tr>\n",
              "      <th>Assets Growth</th>\n",
              "      <td>0.023020</td>\n",
              "      <td>0.025805</td>\n",
              "    </tr>\n",
              "    <tr>\n",
              "      <th>Assets Growth YOY</th>\n",
              "      <td>0.022778</td>\n",
              "      <td>0.025712</td>\n",
              "    </tr>\n",
              "    <tr>\n",
              "      <th>Earnings Growth YOY</th>\n",
              "      <td>0.019274</td>\n",
              "      <td>0.019653</td>\n",
              "    </tr>\n",
              "    <tr>\n",
              "      <th>FCF Growth YOY</th>\n",
              "      <td>0.017040</td>\n",
              "      <td>0.020355</td>\n",
              "    </tr>\n",
              "    <tr>\n",
              "      <th>FCF Growth QOQ</th>\n",
              "      <td>0.016533</td>\n",
              "      <td>0.010294</td>\n",
              "    </tr>\n",
              "    <tr>\n",
              "      <th>Assets Growth QOQ</th>\n",
              "      <td>0.016425</td>\n",
              "      <td>0.022339</td>\n",
              "    </tr>\n",
              "    <tr>\n",
              "      <th>Earnings Growth QOQ</th>\n",
              "      <td>0.016395</td>\n",
              "      <td>0.020032</td>\n",
              "    </tr>\n",
              "    <tr>\n",
              "      <th>Sales Growth QOQ</th>\n",
              "      <td>0.016352</td>\n",
              "      <td>0.020047</td>\n",
              "    </tr>\n",
              "  </tbody>\n",
              "</table>\n",
              "</div>"
            ],
            "text/plain": [
              "                                   Feature Importance  Return Correlation\n",
              "Log Revenue                                  0.048460            0.127872\n",
              "Market-Cap                                   0.044521            0.054481\n",
              "Gross Profit Margin                          0.041540            0.011505\n",
              "Asset Turnover                               0.039013            0.030061\n",
              "Net Profit Margin                            0.038656            0.179823\n",
              "Return on Assets                             0.035221            0.169738\n",
              "Interest Coverage                            0.034831            0.012846\n",
              "CapEx / (Depr + Amor)                        0.034618            0.036108\n",
              "Quick Ratio                                  0.033484            0.042061\n",
              "Current Ratio                                0.032520            0.060111\n",
              "Return on Equity                             0.031644            0.121230\n",
              "P/NCAV                                       0.031001            0.028812\n",
              "P/E                                          0.030220            0.077106\n",
              "P/Sales                                      0.030091            0.057554\n",
              "(Dividends + Share Buyback) / FCF            0.029958            0.036685\n",
              "Sales Growth                                 0.029347            0.014204\n",
              "P/NetNet                                     0.029061            0.025510\n",
              "Price to Book Value                          0.028387            0.038819\n",
              "P/Cash                                       0.027591            0.015078\n",
              "Share Buyback / FCF                          0.026904            0.027415\n",
              "Earnings Yield                               0.026831            0.153571\n",
              "FCF Yield                                    0.025401            0.115599\n",
              "Earnings Growth                              0.025287            0.022352\n",
              "Dividends / FCF                              0.025080            0.053831\n",
              "FCF Growth                                   0.024927            0.029083\n",
              "P/FCF                                        0.024400            0.066776\n",
              "Sales Growth YOY                             0.023187            0.011551\n",
              "Assets Growth                                0.023020            0.025805\n",
              "Assets Growth YOY                            0.022778            0.025712\n",
              "Earnings Growth YOY                          0.019274            0.019653\n",
              "FCF Growth YOY                               0.017040            0.020355\n",
              "FCF Growth QOQ                               0.016533            0.010294\n",
              "Assets Growth QOQ                            0.016425            0.022339\n",
              "Earnings Growth QOQ                          0.016395            0.020032\n",
              "Sales Growth QOQ                             0.016352            0.020047"
            ]
          },
          "metadata": {
            "tags": []
          },
          "execution_count": 49
        }
      ]
    },
    {
      "cell_type": "markdown",
      "metadata": {
        "id": "RiWyJwtSKP0D"
      },
      "source": [
        "## **Classification Results**\n",
        "\n",
        "We then use the fitted model to predict the classes for the training- and test-sets:"
      ]
    },
    {
      "cell_type": "code",
      "metadata": {
        "colab": {
          "base_uri": "https://localhost:8080/"
        },
        "id": "K-qJQ6R4QDvP",
        "outputId": "a23fcfc8-f46c-44d5-a83b-be9775485ae1"
      },
      "source": [
        "%%time\n",
        "y_train_pred_cls = clf.predict(X_train)\n",
        "y_test_pred_cls = clf.predict(X_test)"
      ],
      "execution_count": 50,
      "outputs": [
        {
          "output_type": "stream",
          "text": [
            "CPU times: user 32.1 s, sys: 254 ms, total: 32.3 s\n",
            "Wall time: 8.51 s\n"
          ],
          "name": "stdout"
        }
      ]
    },
    {
      "cell_type": "markdown",
      "metadata": {
        "id": "cEPhImRyKXKh"
      },
      "source": [
        "The model has a very high classification accuracy on the training-set, so the model has learned to map financial signals to gain/loss classifications for 1-3 year investment periods:"
      ]
    },
    {
      "cell_type": "code",
      "metadata": {
        "colab": {
          "base_uri": "https://localhost:8080/"
        },
        "id": "1wgk_eujQgSk",
        "outputId": "b2561c72-e8a9-45b8-cb69-5dcd028a55c6"
      },
      "source": [
        "accuracy_score(y_true=y_train_cls, y_pred=y_train_pred_cls)"
      ],
      "execution_count": 51,
      "outputs": [
        {
          "output_type": "execute_result",
          "data": {
            "text/plain": [
              "0.9789750084068486"
            ]
          },
          "metadata": {
            "tags": []
          },
          "execution_count": 51
        }
      ]
    },
    {
      "cell_type": "markdown",
      "metadata": {
        "id": "l_oWDiQxKaXB"
      },
      "source": [
        "Unfortunately this performance does not generalize to the test-set, which the model has not seen during training. Here the classification accuracy is much lower:"
      ]
    },
    {
      "cell_type": "code",
      "metadata": {
        "colab": {
          "base_uri": "https://localhost:8080/"
        },
        "id": "3xAl2Bi5QlcV",
        "outputId": "b06d2338-a900-4acf-9e89-481c74e0a801"
      },
      "source": [
        "accuracy_score(y_true=y_test_cls, y_pred=y_test_pred_cls)"
      ],
      "execution_count": 52,
      "outputs": [
        {
          "output_type": "execute_result",
          "data": {
            "text/plain": [
              "0.6833877335845839"
            ]
          },
          "metadata": {
            "tags": []
          },
          "execution_count": 52
        }
      ]
    },
    {
      "cell_type": "markdown",
      "metadata": {
        "id": "JO-7cYZ3Ke7T"
      },
      "source": [
        "This is about the same score as simply guessing that the stock-returns are always gains:"
      ]
    },
    {
      "cell_type": "code",
      "metadata": {
        "colab": {
          "base_uri": "https://localhost:8080/"
        },
        "id": "LiI4YN-AQsaD",
        "outputId": "270bc736-76e2-48b0-cf71-06747e7f6d69"
      },
      "source": [
        "# Fraction of the test-set that is classified as gains.\n",
        "(y_test_cls == 1.0).sum() / len(y_test_cls)"
      ],
      "execution_count": 53,
      "outputs": [
        {
          "output_type": "execute_result",
          "data": {
            "text/plain": [
              "0.6685398299571528"
            ]
          },
          "metadata": {
            "tags": []
          },
          "execution_count": 53
        }
      ]
    },
    {
      "cell_type": "markdown",
      "metadata": {
        "id": "QO5PGpsLKjXQ"
      },
      "source": [
        "## **Confusion Matrix**\n",
        "Below is the Confusion Matrix, which shows how the classes were predicted. For the training-set, we again see that the model has learned to accurately classify gains and losses. Note how the colours are different, because the training-set contains many more gains than losses."
      ]
    },
    {
      "cell_type": "code",
      "metadata": {
        "colab": {
          "base_uri": "https://localhost:8080/",
          "height": 265
        },
        "id": "pc0AmV1PQ5ha",
        "outputId": "2dd94442-cbb2-4c76-8a15-0d76634af498"
      },
      "source": [
        "plot_confusion_matrix(y_true=y_train_cls, y_pred=y_train_pred_cls)"
      ],
      "execution_count": 54,
      "outputs": [
        {
          "output_type": "display_data",
          "data": {
            "image/png": "[encoded data removed]",
            "text/plain": [
              "<Figure size 432x288 with 2 Axes>"
            ]
          },
          "metadata": {
            "tags": []
          }
        }
      ]
    },
    {
      "cell_type": "markdown",
      "metadata": {
        "id": "ZfjfY_xRKpop"
      },
      "source": [
        "The confusion matrix for the test-set, shows that most classes were predicted as gains:"
      ]
    },
    {
      "cell_type": "code",
      "metadata": {
        "colab": {
          "base_uri": "https://localhost:8080/",
          "height": 265
        },
        "id": "SUpaZ-VaQ_qP",
        "outputId": "cfc0fbf1-d15b-4db0-d213-63c767ae7f92"
      },
      "source": [
        "plot_confusion_matrix(y_true=y_test_cls, y_pred=y_test_pred_cls)"
      ],
      "execution_count": 55,
      "outputs": [
        {
          "output_type": "display_data",
          "data": {
            "image/png": "[encoded data removed]",
            "text/plain": [
              "<Figure size 432x288 with 2 Axes>"
            ]
          },
          "metadata": {
            "tags": []
          }
        }
      ]
    },
    {
      "cell_type": "code",
      "metadata": {
        "colab": {
          "base_uri": "https://localhost:8080/"
        },
        "id": "P5HlG3icbOlT",
        "outputId": "09f1fca0-f83e-43b5-cc02-460e9af79c81"
      },
      "source": [
        "from sklearn.metrics import classification_report\n",
        "print(classification_report(y_test_cls, y_test_pred_cls))"
      ],
      "execution_count": 56,
      "outputs": [
        {
          "output_type": "stream",
          "text": [
            "              precision    recall  f1-score   support\n",
            "\n",
            "        -1.0       0.57      0.19      0.29    118204\n",
            "         1.0       0.70      0.93      0.80    238412\n",
            "\n",
            "    accuracy                           0.68    356616\n",
            "   macro avg       0.63      0.56      0.54    356616\n",
            "weighted avg       0.65      0.68      0.63    356616\n",
            "\n"
          ],
          "name": "stdout"
        }
      ]
    },
    {
      "cell_type": "markdown",
      "metadata": {
        "id": "-KrXlyXbKtaE"
      },
      "source": [
        "## **Classification Examples**\n",
        "Below is the plot of the model's predicted versus actual gain/loss classification for a stock in the training-set. "
      ]
    },
    {
      "cell_type": "code",
      "metadata": {
        "colab": {
          "base_uri": "https://localhost:8080/",
          "height": 285
        },
        "id": "pM4tCvJhREBy",
        "outputId": "bb8aa487-e018-4277-eb14-94c9baaf892d"
      },
      "source": [
        "# Create a DataFrame with actual and predicted classifications.\n",
        "# This is for the training-set.\n",
        "df_y_train_cls = pd.DataFrame(y_train_cls)\n",
        "df_y_train_cls[TOTAL_RETURN_PRED] = y_train_pred_cls\n",
        "\n",
        "# Plot the actual and predicted stock-returns for the first stock.\n",
        "ticker = tickers_train[22]\n",
        "_ = df_y_train_cls.loc[ticker].plot(title=ticker)"
      ],
      "execution_count": 57,
      "outputs": [
        {
          "output_type": "display_data",
          "data": {
            "image/png": "[encoded data removed]",
            "text/plain": [
              "<Figure size 432x288 with 1 Axes>"
            ]
          },
          "metadata": {
            "tags": []
          }
        }
      ]
    },
    {
      "cell_type": "markdown",
      "metadata": {
        "id": "w3j6zC-EK8v0"
      },
      "source": [
        "Below is the plot of the model's predicted versus actual gain/loss classifications for the first stock in the test-set. "
      ]
    },
    {
      "cell_type": "code",
      "metadata": {
        "colab": {
          "base_uri": "https://localhost:8080/",
          "height": 285
        },
        "id": "YC7WC7fvRbKl",
        "outputId": "4ea7cecd-4b7e-4181-c698-963d455876e9"
      },
      "source": [
        "# Create a DataFrame with actual and predicted classifications.\n",
        "# This is for the test-set.\n",
        "df_y_test_cls = pd.DataFrame(y_test_cls)\n",
        "df_y_test_cls[TOTAL_RETURN_PRED] = y_test_pred_cls\n",
        "\n",
        "# Plot the actual and predicted stock-returns for the first stock.\n",
        "ticker = tickers_test[22]\n",
        "_ = df_y_test_cls.loc[ticker].plot(title=ticker)"
      ],
      "execution_count": 58,
      "outputs": [
        {
          "output_type": "display_data",
          "data": {
            "image/png": "[encoded data removed]",
            "text/plain": [
              "<Figure size 432x288 with 1 Axes>"
            ]
          },
          "metadata": {
            "tags": []
          }
        }
      ]
    },
    {
      "cell_type": "code",
      "metadata": {
        "id": "SbVJsrfIdgAs"
      },
      "source": [
        ""
      ],
      "execution_count": 58,
      "outputs": []
    }
  ]
}